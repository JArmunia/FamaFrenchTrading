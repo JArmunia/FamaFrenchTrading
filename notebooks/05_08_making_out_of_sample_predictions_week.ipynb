{
 "cells": [
  {
   "cell_type": "markdown",
   "metadata": {},
   "source": [
    "# Long-Short Strategy, Part 5: Generating out-of-sample predictions"
   ]
  },
  {
   "cell_type": "markdown",
   "metadata": {},
   "source": [
    "In this section, we'll start designing, implementing, and evaluating a trading strategy for US equities driven by daily return forecasts produced by gradient boosting models.\n",
    "\n",
    "As in the previous examples, we'll lay out a framework and build a specific example that you can adapt to run your own experiments. There are numerous aspects that you can vary, from the asset class and investment universe to more granular aspects like the features, holding period, or trading rules. See, for example, the **Alpha Factor Library** in the [Appendix](../24_alpha_factor_library) for numerous additional features.\n",
    "\n",
    "We'll keep the trading strategy simple and only use a single ML signal; a real-life application will likely use multiple signals from different sources, such as complementary ML models trained on different datasets or with different lookahead or lookback periods. It would also use sophisticated risk management, from simple stop-loss to value-at-risk analysis.\n",
    "\n",
    "**Six notebooks** cover our workflow sequence:\n",
    "\n",
    "1. [preparing_the_model_data](04_preparing_the_model_data.ipyny): we engineer a few simple features from the Quandl Wiki data \n",
    "2. [trading_signals_with_lightgbm_and_catboost](05_trading_signals_with_lightgbm_and_catboost.ipynb): we tune hyperparameters for LightGBM and CatBoost to select a model, using 2015/16 as our validation period. \n",
    "3. [evaluate_trading_signals](06_evaluate_trading_signals): we compare the cross-validation performance using various metrics to select the best model. \n",
    "4. [model_interpretation](07_model_interpretation.ipynb): we take a closer look at the drivers behind the best model's predictions.\n",
    "5. `making_out_of_sample_predictions` (this noteboook): we predict returns for our out-of-sample period 2019-2023.\n",
    "6. [backtesting_with_zipline](09_backtesting_with_zipline.ipynb): evaluate the historical performance of a long-short strategy based on our predictive signals using Zipline."
   ]
  },
  {
   "cell_type": "markdown",
   "metadata": {},
   "source": [
    "## Imports & Settings"
   ]
  },
  {
   "cell_type": "code",
   "execution_count": 1,
   "metadata": {
    "ExecuteTime": {
     "end_time": "2021-04-16T03:59:22.754238Z",
     "start_time": "2021-04-16T03:59:22.751670Z"
    },
    "execution": {
     "iopub.execute_input": "2024-09-23T18:29:41.998283Z",
     "iopub.status.busy": "2024-09-23T18:29:41.998283Z",
     "iopub.status.idle": "2024-09-23T18:29:42.013877Z",
     "shell.execute_reply": "2024-09-23T18:29:42.013877Z"
    }
   },
   "outputs": [],
   "source": [
    "import warnings\n",
    "warnings.filterwarnings('ignore')"
   ]
  },
  {
   "cell_type": "code",
   "execution_count": 37,
   "metadata": {
    "ExecuteTime": {
     "end_time": "2021-04-16T05:08:44.486465Z",
     "start_time": "2021-04-16T05:08:44.469578Z"
    },
    "execution": {
     "iopub.execute_input": "2024-09-23T18:29:42.013877Z",
     "iopub.status.busy": "2024-09-23T18:29:42.013877Z",
     "iopub.status.idle": "2024-09-23T18:29:44.216833Z",
     "shell.execute_reply": "2024-09-23T18:29:44.216833Z"
    },
    "scrolled": true
   },
   "outputs": [],
   "source": [
    "%matplotlib inline\n",
    "\n",
    "from time import time\n",
    "import sys\n",
    "import os\n",
    "from pathlib import Path\n",
    "\n",
    "import pandas as pd\n",
    "from scipy.stats import spearmanr\n",
    "\n",
    "import lightgbm as lgb\n",
    "import seaborn as sns\n",
    "import numpy as np\n",
    "from tqdm import tqdm\n",
    "\n",
    "sys.path.insert(1, os.path.join(sys.path[0], '..'))\n",
    "from utils import MultipleTimeSeriesCV\n",
    "\n",
    "sns.set_style('whitegrid')\n",
    "\n",
    "\n",
    "np.random.seed(42)\n",
    "\n",
    "\n",
    "\n",
    "DATA_STORE = Path('data_normalized/assets.h5')\n",
    "DATA_STORE_ITEM = 'engineered_features_trimmed'\n",
    "RESULTS_PATH = Path('results_normalized_trimmed/us_stocks')\n",
    "\n",
    "PREDICTIONS_STORE = Path('data_normalized/predictions_normalized_trimmed.h5')\n",
    "YEAR = 52\n",
    "\n",
    "idx = pd.IndexSlice"
   ]
  },
  {
   "cell_type": "code",
   "execution_count": 38,
   "metadata": {
    "ExecuteTime": {
     "end_time": "2021-04-16T03:59:23.618708Z",
     "start_time": "2021-04-16T03:59:23.612249Z"
    },
    "execution": {
     "iopub.execute_input": "2024-09-23T18:29:44.279448Z",
     "iopub.status.busy": "2024-09-23T18:29:44.279448Z",
     "iopub.status.idle": "2024-09-23T18:29:44.295069Z",
     "shell.execute_reply": "2024-09-23T18:29:44.295069Z"
    }
   },
   "outputs": [],
   "source": [
    "scope_params = ['lookahead', 'train_length', 'test_length']\n",
    "daily_ic_metrics = ['daily_ic_mean', 'daily_ic_mean_n', 'daily_ic_median', 'daily_ic_median_n']\n",
    "lgb_train_params = ['learning_rate', 'num_leaves', 'feature_fraction', 'min_data_in_leaf']\n"
   ]
  },
  {
   "cell_type": "markdown",
   "metadata": {},
   "source": [
    "## Generate Lightgbm predictions"
   ]
  },
  {
   "cell_type": "markdown",
   "metadata": {},
   "source": [
    "### Model Configuration"
   ]
  },
  {
   "cell_type": "code",
   "execution_count": 39,
   "metadata": {
    "ExecuteTime": {
     "end_time": "2021-04-16T03:59:23.626636Z",
     "start_time": "2021-04-16T03:59:23.620602Z"
    },
    "execution": {
     "iopub.execute_input": "2024-09-23T18:29:44.295069Z",
     "iopub.status.busy": "2024-09-23T18:29:44.295069Z",
     "iopub.status.idle": "2024-09-23T18:29:44.310667Z",
     "shell.execute_reply": "2024-09-23T18:29:44.310667Z"
    }
   },
   "outputs": [],
   "source": [
    "base_params = dict(boosting='gbdt',\n",
    "                   objective='regression',\n",
    "                   random_state = 42, \n",
    "                   verbose=-1)\n",
    "\n",
    "categoricals = ['sector',]\n",
    "#categoricals = []#'month','sector','year', 'month', ]"
   ]
  },
  {
   "cell_type": "code",
   "execution_count": 40,
   "metadata": {
    "ExecuteTime": {
     "end_time": "2021-04-16T03:59:23.637221Z",
     "start_time": "2021-04-16T03:59:23.627969Z"
    },
    "execution": {
     "iopub.execute_input": "2024-09-23T18:29:44.310667Z",
     "iopub.status.busy": "2024-09-23T18:29:44.310667Z",
     "iopub.status.idle": "2024-09-23T18:29:44.326450Z",
     "shell.execute_reply": "2024-09-23T18:29:44.326450Z"
    }
   },
   "outputs": [],
   "source": [
    "#dos semanas\n",
    "lookahead = 1\n",
    " #no lo borramos previamente pq ya lo ha hecho el paso 5"
   ]
  },
  {
   "cell_type": "markdown",
   "metadata": {},
   "source": [
    "### Get Data"
   ]
  },
  {
   "cell_type": "code",
   "execution_count": 41,
   "metadata": {
    "ExecuteTime": {
     "end_time": "2021-04-16T03:59:24.861291Z",
     "start_time": "2021-04-16T03:59:23.638248Z"
    },
    "execution": {
     "iopub.execute_input": "2024-09-23T18:29:44.326450Z",
     "iopub.status.busy": "2024-09-23T18:29:44.326450Z",
     "iopub.status.idle": "2024-09-23T18:29:44.466835Z",
     "shell.execute_reply": "2024-09-23T18:29:44.466835Z"
    }
   },
   "outputs": [],
   "source": [
    "data = pd.read_hdf(DATA_STORE,DATA_STORE_ITEM).sort_index()#modificado"
   ]
  },
  {
   "cell_type": "code",
   "execution_count": 42,
   "metadata": {
    "ExecuteTime": {
     "end_time": "2021-04-16T03:59:24.872441Z",
     "start_time": "2021-04-16T03:59:24.862170Z"
    },
    "execution": {
     "iopub.execute_input": "2024-09-23T18:29:44.544882Z",
     "iopub.status.busy": "2024-09-23T18:29:44.544882Z",
     "iopub.status.idle": "2024-09-23T18:29:44.560589Z",
     "shell.execute_reply": "2024-09-23T18:29:44.560589Z"
    }
   },
   "outputs": [],
   "source": [
    "labels = sorted(data.filter(like='target').columns)\n",
    "features = data.columns.difference(labels).tolist()\n",
    "label = 'target_1w'"
   ]
  },
  {
   "cell_type": "code",
   "execution_count": 43,
   "metadata": {
    "execution": {
     "iopub.execute_input": "2024-09-23T18:29:44.607576Z",
     "iopub.status.busy": "2024-09-23T18:29:44.607576Z",
     "iopub.status.idle": "2024-09-23T18:29:44.638816Z",
     "shell.execute_reply": "2024-09-23T18:29:44.638816Z"
    }
   },
   "outputs": [
    {
     "name": "stdout",
     "output_type": "stream",
     "text": [
      "target_1w    True\n",
      "dtype: bool\n"
     ]
    }
   ],
   "source": [
    "# Encuentra las filas con al menos un valor NaN\n",
    "nan_cols = data.loc[idx[:, '2024':], features + [label]].isna().any(axis=0)\n",
    "\n",
    "print(nan_cols[nan_cols == True])\n"
   ]
  },
  {
   "cell_type": "code",
   "execution_count": 44,
   "metadata": {
    "execution": {
     "iopub.execute_input": "2024-09-23T18:29:44.638816Z",
     "iopub.status.busy": "2024-09-23T18:29:44.638816Z",
     "iopub.status.idle": "2024-09-23T18:29:44.654533Z",
     "shell.execute_reply": "2024-09-23T18:29:44.654533Z"
    }
   },
   "outputs": [
    {
     "name": "stderr",
     "output_type": "stream",
     "text": [
      "/tmp/ipykernel_12687/3439627767.py:2: FutureWarning: DataFrame.fillna with 'method' is deprecated and will raise in a future version. Use obj.ffill() or obj.bfill() instead.\n",
      "  data= data.fillna(method='ffill')\n"
     ]
    }
   ],
   "source": [
    "#completamos con los valores del periodo anterior, para evitar que el último dato apareza nan\n",
    "data= data.fillna(method='ffill')"
   ]
  },
  {
   "cell_type": "code",
   "execution_count": 45,
   "metadata": {
    "ExecuteTime": {
     "end_time": "2021-04-16T03:59:25.603772Z",
     "start_time": "2021-04-16T03:59:24.873415Z"
    },
    "execution": {
     "iopub.execute_input": "2024-09-23T18:29:44.654533Z",
     "iopub.status.busy": "2024-09-23T18:29:44.654533Z",
     "iopub.status.idle": "2024-09-23T18:29:44.685860Z",
     "shell.execute_reply": "2024-09-23T18:29:44.685860Z"
    }
   },
   "outputs": [],
   "source": [
    "#datos desde 2010\n",
    "data = data.loc[idx[:, '2010':], features + [label]].dropna()"
   ]
  },
  {
   "cell_type": "code",
   "execution_count": 46,
   "metadata": {
    "execution": {
     "iopub.execute_input": "2024-09-23T18:29:44.685860Z",
     "iopub.status.busy": "2024-09-23T18:29:44.685860Z",
     "iopub.status.idle": "2024-09-23T18:29:44.717159Z",
     "shell.execute_reply": "2024-09-23T18:29:44.717159Z"
    }
   },
   "outputs": [
    {
     "name": "stdout",
     "output_type": "stream",
     "text": [
      "<class 'pandas.core.frame.DataFrame'>\n",
      "MultiIndex: 8613 entries, ('IYR', Timestamp('2010-01-03 00:00:00')) to ('XLY', Timestamp('2024-12-29 00:00:00'))\n",
      "Data columns (total 55 columns):\n",
      " #   Column                                        Non-Null Count  Dtype  \n",
      "---  ------                                        --------------  -----  \n",
      " 0   10y_real_interest_rate_diff                   8613 non-null   float64\n",
      " 1   1y_yield_diff                                 8613 non-null   float64\n",
      " 2   CMA                                           8613 non-null   float64\n",
      " 3   HML                                           8613 non-null   float64\n",
      " 4   M2_money_supply_diff                          8613 non-null   float64\n",
      " 5   Mkt-RF                                        8613 non-null   float64\n",
      " 6   RMW                                           8613 non-null   float64\n",
      " 7   SMB                                           8613 non-null   float64\n",
      " 8   business_inventory_diff                       8613 non-null   float64\n",
      " 9   coffee_diff                                   8613 non-null   float64\n",
      " 10  consumer_price_index_diff                     8613 non-null   float64\n",
      " 11  copper_diff                                   8613 non-null   float64\n",
      " 12  corn_diff                                     8613 non-null   float64\n",
      " 13  corp_oas                                      8613 non-null   float64\n",
      " 14  corp_oas_diff                                 8613 non-null   float64\n",
      " 15  corporate_profits_diff                        8613 non-null   float64\n",
      " 16  cotton_diff                                   8613 non-null   float64\n",
      " 17  empleo_diff                                   8613 non-null   float64\n",
      " 18  energy_price_diff                             8613 non-null   float64\n",
      " 19  gold_diff                                     8613 non-null   float64\n",
      " 20  inflacion_diff                                8613 non-null   float64\n",
      " 21  leading_diff                                  8613 non-null   float64\n",
      " 22  lumber_diff                                   8613 non-null   float64\n",
      " 23  momentum_2                                    8613 non-null   float64\n",
      " 24  month                                         8613 non-null   int32  \n",
      " 25  natural_gas_diff                              8613 non-null   float64\n",
      " 26  new_homes                                     8613 non-null   float64\n",
      " 27  new_homes_diff                                8613 non-null   float64\n",
      " 28  oil                                           8613 non-null   float64\n",
      " 29  oil_diff                                      8613 non-null   float64\n",
      " 30  recession                                     8613 non-null   float64\n",
      " 31  recession_diff                                8613 non-null   float64\n",
      " 32  retail_sales_percent                          8613 non-null   float64\n",
      " 33  retail_sales_percent_diff                     8613 non-null   float64\n",
      " 34  return_1w                                     8613 non-null   float64\n",
      " 35  return_1w_t-3                                 8613 non-null   float64\n",
      " 36  return_1w_t-4                                 8613 non-null   float64\n",
      " 37  return_1w_t-5                                 8613 non-null   float64\n",
      " 38  return_1w_t-6                                 8613 non-null   float64\n",
      " 39  return_2w                                     8613 non-null   float64\n",
      " 40  return_52w                                    8613 non-null   float64\n",
      " 41  sector                                        8613 non-null   object \n",
      " 42  semiconductor_electronics_manufacturing_diff  8613 non-null   float64\n",
      " 43  sentiment                                     8613 non-null   float64\n",
      " 44  sentiment_diff                                8613 non-null   float64\n",
      " 45  streaming_media_consumption_diff              8613 non-null   float64\n",
      " 46  tot_bank_credit_diff                          8613 non-null   float64\n",
      " 47  vix_diff                                      8613 non-null   float64\n",
      " 48  weekjobclaims                                 8613 non-null   float64\n",
      " 49  weekjobclaims_diff                            8613 non-null   float64\n",
      " 50  wheat_diff                                    8613 non-null   float64\n",
      " 51  year                                          8613 non-null   int32  \n",
      " 52  yield_curve                                   8613 non-null   float64\n",
      " 53  yield_curve_diff                              8613 non-null   float64\n",
      " 54  target_1w                                     8613 non-null   float64\n",
      "dtypes: float64(52), int32(2), object(1)\n",
      "memory usage: 3.6+ MB\n"
     ]
    }
   ],
   "source": [
    "data.info()"
   ]
  },
  {
   "cell_type": "code",
   "execution_count": 47,
   "metadata": {
    "execution": {
     "iopub.execute_input": "2024-09-23T18:29:44.732732Z",
     "iopub.status.busy": "2024-09-23T18:29:44.732732Z",
     "iopub.status.idle": "2024-09-23T18:29:44.779663Z",
     "shell.execute_reply": "2024-09-23T18:29:44.779663Z"
    }
   },
   "outputs": [
    {
     "data": {
      "text/html": [
       "<div>\n",
       "<style scoped>\n",
       "    .dataframe tbody tr th:only-of-type {\n",
       "        vertical-align: middle;\n",
       "    }\n",
       "\n",
       "    .dataframe tbody tr th {\n",
       "        vertical-align: top;\n",
       "    }\n",
       "\n",
       "    .dataframe thead th {\n",
       "        text-align: right;\n",
       "    }\n",
       "</style>\n",
       "<table border=\"1\" class=\"dataframe\">\n",
       "  <thead>\n",
       "    <tr style=\"text-align: right;\">\n",
       "      <th></th>\n",
       "      <th></th>\n",
       "      <th>10y_real_interest_rate_diff</th>\n",
       "      <th>1y_yield_diff</th>\n",
       "      <th>CMA</th>\n",
       "      <th>HML</th>\n",
       "      <th>M2_money_supply_diff</th>\n",
       "      <th>Mkt-RF</th>\n",
       "      <th>RMW</th>\n",
       "      <th>SMB</th>\n",
       "      <th>business_inventory_diff</th>\n",
       "      <th>coffee_diff</th>\n",
       "      <th>...</th>\n",
       "      <th>streaming_media_consumption_diff</th>\n",
       "      <th>tot_bank_credit_diff</th>\n",
       "      <th>vix_diff</th>\n",
       "      <th>weekjobclaims</th>\n",
       "      <th>weekjobclaims_diff</th>\n",
       "      <th>wheat_diff</th>\n",
       "      <th>year</th>\n",
       "      <th>yield_curve</th>\n",
       "      <th>yield_curve_diff</th>\n",
       "      <th>target_1w</th>\n",
       "    </tr>\n",
       "    <tr>\n",
       "      <th>ticker</th>\n",
       "      <th>date</th>\n",
       "      <th></th>\n",
       "      <th></th>\n",
       "      <th></th>\n",
       "      <th></th>\n",
       "      <th></th>\n",
       "      <th></th>\n",
       "      <th></th>\n",
       "      <th></th>\n",
       "      <th></th>\n",
       "      <th></th>\n",
       "      <th></th>\n",
       "      <th></th>\n",
       "      <th></th>\n",
       "      <th></th>\n",
       "      <th></th>\n",
       "      <th></th>\n",
       "      <th></th>\n",
       "      <th></th>\n",
       "      <th></th>\n",
       "      <th></th>\n",
       "      <th></th>\n",
       "    </tr>\n",
       "  </thead>\n",
       "  <tbody>\n",
       "    <tr>\n",
       "      <th rowspan=\"5\" valign=\"top\">XLY</th>\n",
       "      <th>2024-12-01</th>\n",
       "      <td>-0.145812</td>\n",
       "      <td>-0.12</td>\n",
       "      <td>-22.30128</td>\n",
       "      <td>38.24644</td>\n",
       "      <td>0.0</td>\n",
       "      <td>-28.444476</td>\n",
       "      <td>-9.326239</td>\n",
       "      <td>-33.007563</td>\n",
       "      <td>0.0</td>\n",
       "      <td>0.0</td>\n",
       "      <td>...</td>\n",
       "      <td>0.0</td>\n",
       "      <td>40.4200</td>\n",
       "      <td>-1.73</td>\n",
       "      <td>225000.0</td>\n",
       "      <td>10000.0</td>\n",
       "      <td>0.0</td>\n",
       "      <td>2024</td>\n",
       "      <td>-0.40</td>\n",
       "      <td>-0.18</td>\n",
       "      <td>1.982427</td>\n",
       "    </tr>\n",
       "    <tr>\n",
       "      <th>2024-12-08</th>\n",
       "      <td>0.000000</td>\n",
       "      <td>-0.11</td>\n",
       "      <td>-22.30128</td>\n",
       "      <td>38.24644</td>\n",
       "      <td>0.0</td>\n",
       "      <td>-28.444476</td>\n",
       "      <td>-9.326239</td>\n",
       "      <td>-33.007563</td>\n",
       "      <td>0.0</td>\n",
       "      <td>0.0</td>\n",
       "      <td>...</td>\n",
       "      <td>0.0</td>\n",
       "      <td>-7.2052</td>\n",
       "      <td>-0.74</td>\n",
       "      <td>242000.0</td>\n",
       "      <td>17000.0</td>\n",
       "      <td>0.0</td>\n",
       "      <td>2024</td>\n",
       "      <td>-0.27</td>\n",
       "      <td>0.13</td>\n",
       "      <td>0.471450</td>\n",
       "    </tr>\n",
       "    <tr>\n",
       "      <th>2024-12-15</th>\n",
       "      <td>0.000000</td>\n",
       "      <td>0.05</td>\n",
       "      <td>-22.30128</td>\n",
       "      <td>38.24644</td>\n",
       "      <td>0.0</td>\n",
       "      <td>-28.444476</td>\n",
       "      <td>-9.326239</td>\n",
       "      <td>-33.007563</td>\n",
       "      <td>0.0</td>\n",
       "      <td>0.0</td>\n",
       "      <td>...</td>\n",
       "      <td>0.0</td>\n",
       "      <td>30.0419</td>\n",
       "      <td>1.04</td>\n",
       "      <td>220000.0</td>\n",
       "      <td>-22000.0</td>\n",
       "      <td>0.0</td>\n",
       "      <td>2024</td>\n",
       "      <td>0.06</td>\n",
       "      <td>0.33</td>\n",
       "      <td>-1.155353</td>\n",
       "    </tr>\n",
       "    <tr>\n",
       "      <th>2024-12-22</th>\n",
       "      <td>0.000000</td>\n",
       "      <td>0.03</td>\n",
       "      <td>-22.30128</td>\n",
       "      <td>38.24644</td>\n",
       "      <td>0.0</td>\n",
       "      <td>-28.444476</td>\n",
       "      <td>-9.326239</td>\n",
       "      <td>-33.007563</td>\n",
       "      <td>0.0</td>\n",
       "      <td>0.0</td>\n",
       "      <td>...</td>\n",
       "      <td>0.0</td>\n",
       "      <td>0.0000</td>\n",
       "      <td>4.55</td>\n",
       "      <td>219000.0</td>\n",
       "      <td>-1000.0</td>\n",
       "      <td>0.0</td>\n",
       "      <td>2024</td>\n",
       "      <td>0.18</td>\n",
       "      <td>0.12</td>\n",
       "      <td>0.832120</td>\n",
       "    </tr>\n",
       "    <tr>\n",
       "      <th>2024-12-29</th>\n",
       "      <td>0.000000</td>\n",
       "      <td>-0.03</td>\n",
       "      <td>-22.30128</td>\n",
       "      <td>38.24644</td>\n",
       "      <td>0.0</td>\n",
       "      <td>-28.444476</td>\n",
       "      <td>-9.326239</td>\n",
       "      <td>-33.007563</td>\n",
       "      <td>0.0</td>\n",
       "      <td>0.0</td>\n",
       "      <td>...</td>\n",
       "      <td>0.0</td>\n",
       "      <td>0.0000</td>\n",
       "      <td>-4.09</td>\n",
       "      <td>219000.0</td>\n",
       "      <td>0.0</td>\n",
       "      <td>0.0</td>\n",
       "      <td>2024</td>\n",
       "      <td>0.23</td>\n",
       "      <td>0.05</td>\n",
       "      <td>0.832120</td>\n",
       "    </tr>\n",
       "  </tbody>\n",
       "</table>\n",
       "<p>5 rows × 55 columns</p>\n",
       "</div>"
      ],
      "text/plain": [
       "                   10y_real_interest_rate_diff  1y_yield_diff       CMA  \\\n",
       "ticker date                                                               \n",
       "XLY    2024-12-01                    -0.145812          -0.12 -22.30128   \n",
       "       2024-12-08                     0.000000          -0.11 -22.30128   \n",
       "       2024-12-15                     0.000000           0.05 -22.30128   \n",
       "       2024-12-22                     0.000000           0.03 -22.30128   \n",
       "       2024-12-29                     0.000000          -0.03 -22.30128   \n",
       "\n",
       "                        HML  M2_money_supply_diff     Mkt-RF       RMW  \\\n",
       "ticker date                                                              \n",
       "XLY    2024-12-01  38.24644                   0.0 -28.444476 -9.326239   \n",
       "       2024-12-08  38.24644                   0.0 -28.444476 -9.326239   \n",
       "       2024-12-15  38.24644                   0.0 -28.444476 -9.326239   \n",
       "       2024-12-22  38.24644                   0.0 -28.444476 -9.326239   \n",
       "       2024-12-29  38.24644                   0.0 -28.444476 -9.326239   \n",
       "\n",
       "                         SMB  business_inventory_diff  coffee_diff  ...  \\\n",
       "ticker date                                                         ...   \n",
       "XLY    2024-12-01 -33.007563                      0.0          0.0  ...   \n",
       "       2024-12-08 -33.007563                      0.0          0.0  ...   \n",
       "       2024-12-15 -33.007563                      0.0          0.0  ...   \n",
       "       2024-12-22 -33.007563                      0.0          0.0  ...   \n",
       "       2024-12-29 -33.007563                      0.0          0.0  ...   \n",
       "\n",
       "                   streaming_media_consumption_diff  tot_bank_credit_diff  \\\n",
       "ticker date                                                                 \n",
       "XLY    2024-12-01                               0.0               40.4200   \n",
       "       2024-12-08                               0.0               -7.2052   \n",
       "       2024-12-15                               0.0               30.0419   \n",
       "       2024-12-22                               0.0                0.0000   \n",
       "       2024-12-29                               0.0                0.0000   \n",
       "\n",
       "                   vix_diff  weekjobclaims  weekjobclaims_diff  wheat_diff  \\\n",
       "ticker date                                                                  \n",
       "XLY    2024-12-01     -1.73       225000.0             10000.0         0.0   \n",
       "       2024-12-08     -0.74       242000.0             17000.0         0.0   \n",
       "       2024-12-15      1.04       220000.0            -22000.0         0.0   \n",
       "       2024-12-22      4.55       219000.0             -1000.0         0.0   \n",
       "       2024-12-29     -4.09       219000.0                 0.0         0.0   \n",
       "\n",
       "                   year  yield_curve  yield_curve_diff  target_1w  \n",
       "ticker date                                                        \n",
       "XLY    2024-12-01  2024        -0.40             -0.18   1.982427  \n",
       "       2024-12-08  2024        -0.27              0.13   0.471450  \n",
       "       2024-12-15  2024         0.06              0.33  -1.155353  \n",
       "       2024-12-22  2024         0.18              0.12   0.832120  \n",
       "       2024-12-29  2024         0.23              0.05   0.832120  \n",
       "\n",
       "[5 rows x 55 columns]"
      ]
     },
     "execution_count": 47,
     "metadata": {},
     "output_type": "execute_result"
    }
   ],
   "source": [
    "data.tail()"
   ]
  },
  {
   "cell_type": "code",
   "execution_count": 48,
   "metadata": {
    "ExecuteTime": {
     "end_time": "2021-04-16T03:59:25.670973Z",
     "start_time": "2021-04-16T03:59:25.604625Z"
    },
    "execution": {
     "iopub.execute_input": "2024-09-23T18:29:44.779663Z",
     "iopub.status.busy": "2024-09-23T18:29:44.779663Z",
     "iopub.status.idle": "2024-09-23T18:29:44.795239Z",
     "shell.execute_reply": "2024-09-23T18:29:44.795239Z"
    }
   },
   "outputs": [],
   "source": [
    "for feature in categoricals:\n",
    "    data[feature] = pd.factorize(data[feature], sort=True)[0]"
   ]
  },
  {
   "cell_type": "code",
   "execution_count": 49,
   "metadata": {
    "ExecuteTime": {
     "end_time": "2021-04-16T03:59:25.743036Z",
     "start_time": "2021-04-16T03:59:25.671795Z"
    },
    "execution": {
     "iopub.execute_input": "2024-09-23T18:29:44.795239Z",
     "iopub.status.busy": "2024-09-23T18:29:44.795239Z",
     "iopub.status.idle": "2024-09-23T18:29:44.810800Z",
     "shell.execute_reply": "2024-09-23T18:29:44.810800Z"
    }
   },
   "outputs": [],
   "source": [
    "lgb_data = lgb.Dataset(data=data[features],\n",
    "                       label=data[label],\n",
    "                       categorical_feature=categoricals,\n",
    "                       free_raw_data=False)"
   ]
  },
  {
   "cell_type": "markdown",
   "metadata": {},
   "source": [
    "### Generate predictions"
   ]
  },
  {
   "cell_type": "code",
   "execution_count": 50,
   "metadata": {},
   "outputs": [],
   "source": [
    "def get_lgb_daily_ic(results_path):\n",
    "    int_cols = [\"lookahead\", \"train_length\", \"test_length\", \"boost_rounds\"]\n",
    "\n",
    "    lgb_ic = []\n",
    "    with pd.HDFStore(results_path / \"tuning_lgb.h5\") as store:\n",
    "        keys = [k[1:] for k in store.keys()]\n",
    "        for key in keys:\n",
    "            _, t, train_length, test_length = key.split(\"/\")[:4]\n",
    "            if key.startswith(\"daily_ic\"):\n",
    "                df = (\n",
    "                    store[key]\n",
    "                    .drop([\"boosting\", \"objective\", \"verbose\"], axis=1)\n",
    "                    .assign(\n",
    "                        lookahead=t, train_length=train_length, test_length=test_length\n",
    "                    )\n",
    "                )\n",
    "                lgb_ic.append(df)\n",
    "        lgb_ic = pd.concat(lgb_ic).reset_index()\n",
    "\n",
    "    id_vars = [\"date\"] + scope_params + lgb_train_params\n",
    "    lgb_ic = pd.melt(\n",
    "        lgb_ic, id_vars=id_vars, value_name=\"ic\", var_name=\"boost_rounds\"\n",
    "    ).dropna()\n",
    "    lgb_ic.loc[:, int_cols] = lgb_ic.loc[:, int_cols].astype(int)\n",
    "\n",
    "    lgb_daily_ic = (\n",
    "        lgb_ic.groupby(id_vars[1:] + [\"boost_rounds\"])\n",
    "        .ic.mean()\n",
    "        .to_frame(\"ic\")\n",
    "        .reset_index()\n",
    "    )\n",
    "    return lgb_daily_ic\n",
    "\n",
    "lgb_daily_ic = get_lgb_daily_ic(RESULTS_PATH)"
   ]
  },
  {
   "cell_type": "code",
   "execution_count": 51,
   "metadata": {},
   "outputs": [],
   "source": [
    "lgb_daily_ic = lgb_daily_ic.loc[lgb_daily_ic.boost_rounds >= 50]"
   ]
  },
  {
   "cell_type": "code",
   "execution_count": 19,
   "metadata": {
    "ExecuteTime": {
     "end_time": "2021-04-16T03:59:25.860485Z",
     "start_time": "2021-04-16T03:59:25.743923Z"
    },
    "execution": {
     "iopub.execute_input": "2024-09-23T18:29:44.810800Z",
     "iopub.status.busy": "2024-09-23T18:29:44.810800Z",
     "iopub.status.idle": "2024-09-23T18:29:44.857711Z",
     "shell.execute_reply": "2024-09-23T18:29:44.857711Z"
    }
   },
   "outputs": [
    {
     "ename": "FileNotFoundError",
     "evalue": "File data/model_tuning.h5 does not exist",
     "output_type": "error",
     "traceback": [
      "\u001b[0;31m---------------------------------------------------------------------------\u001b[0m",
      "\u001b[0;31mFileNotFoundError\u001b[0m                         Traceback (most recent call last)",
      "Cell \u001b[0;32mIn[19], line 2\u001b[0m\n\u001b[1;32m      1\u001b[0m \u001b[38;5;66;03m#tomamos los IC almacenados\u001b[39;00m\n\u001b[0;32m----> 2\u001b[0m lgb_ic \u001b[38;5;241m=\u001b[39m \u001b[43mpd\u001b[49m\u001b[38;5;241;43m.\u001b[39;49m\u001b[43mread_hdf\u001b[49m\u001b[43m(\u001b[49m\u001b[38;5;124;43m'\u001b[39;49m\u001b[38;5;124;43mdata/model_tuning.h5\u001b[39;49m\u001b[38;5;124;43m'\u001b[39;49m\u001b[43m,\u001b[49m\u001b[43m \u001b[49m\u001b[38;5;124;43m'\u001b[39;49m\u001b[38;5;124;43mlgb/ic\u001b[39;49m\u001b[38;5;124;43m'\u001b[39;49m\u001b[43m)\u001b[49m\n\u001b[1;32m      3\u001b[0m lgb_daily_ic \u001b[38;5;241m=\u001b[39m pd\u001b[38;5;241m.\u001b[39mread_hdf(\u001b[38;5;124m'\u001b[39m\u001b[38;5;124mdata/model_tuning.h5\u001b[39m\u001b[38;5;124m'\u001b[39m, \u001b[38;5;124m'\u001b[39m\u001b[38;5;124mlgb/daily_ic\u001b[39m\u001b[38;5;124m'\u001b[39m)\n",
      "File \u001b[0;32m~/Documents/FamaFrenchTrading/.venv/lib/python3.12/site-packages/pandas/io/pytables.py:424\u001b[0m, in \u001b[0;36mread_hdf\u001b[0;34m(path_or_buf, key, mode, errors, where, start, stop, columns, iterator, chunksize, **kwargs)\u001b[0m\n\u001b[1;32m    421\u001b[0m     exists \u001b[38;5;241m=\u001b[39m \u001b[38;5;28;01mFalse\u001b[39;00m\n\u001b[1;32m    423\u001b[0m \u001b[38;5;28;01mif\u001b[39;00m \u001b[38;5;129;01mnot\u001b[39;00m exists:\n\u001b[0;32m--> 424\u001b[0m     \u001b[38;5;28;01mraise\u001b[39;00m \u001b[38;5;167;01mFileNotFoundError\u001b[39;00m(\u001b[38;5;124mf\u001b[39m\u001b[38;5;124m\"\u001b[39m\u001b[38;5;124mFile \u001b[39m\u001b[38;5;132;01m{\u001b[39;00mpath_or_buf\u001b[38;5;132;01m}\u001b[39;00m\u001b[38;5;124m does not exist\u001b[39m\u001b[38;5;124m\"\u001b[39m)\n\u001b[1;32m    426\u001b[0m store \u001b[38;5;241m=\u001b[39m HDFStore(path_or_buf, mode\u001b[38;5;241m=\u001b[39mmode, errors\u001b[38;5;241m=\u001b[39merrors, \u001b[38;5;241m*\u001b[39m\u001b[38;5;241m*\u001b[39mkwargs)\n\u001b[1;32m    427\u001b[0m \u001b[38;5;66;03m# can't auto open/close if we are using an iterator\u001b[39;00m\n\u001b[1;32m    428\u001b[0m \u001b[38;5;66;03m# so delegate to the iterator\u001b[39;00m\n",
      "\u001b[0;31mFileNotFoundError\u001b[0m: File data/model_tuning.h5 does not exist"
     ]
    }
   ],
   "source": [
    "#tomamos los IC almacenados\n",
    "lgb_ic = pd.read_hdf('data/model_tuning.h5', 'lgb/ic')\n",
    "lgb_daily_ic = pd.read_hdf('data/model_tuning.h5', 'lgb/daily_ic')"
   ]
  },
  {
   "cell_type": "code",
   "execution_count": 52,
   "metadata": {},
   "outputs": [
    {
     "data": {
      "text/html": [
       "<div>\n",
       "<style scoped>\n",
       "    .dataframe tbody tr th:only-of-type {\n",
       "        vertical-align: middle;\n",
       "    }\n",
       "\n",
       "    .dataframe tbody tr th {\n",
       "        vertical-align: top;\n",
       "    }\n",
       "\n",
       "    .dataframe thead th {\n",
       "        text-align: right;\n",
       "    }\n",
       "</style>\n",
       "<table border=\"1\" class=\"dataframe\">\n",
       "  <thead>\n",
       "    <tr style=\"text-align: right;\">\n",
       "      <th></th>\n",
       "      <th></th>\n",
       "      <th>10y_real_interest_rate_diff</th>\n",
       "      <th>1y_yield_diff</th>\n",
       "      <th>CMA</th>\n",
       "      <th>HML</th>\n",
       "      <th>M2_money_supply_diff</th>\n",
       "      <th>Mkt-RF</th>\n",
       "      <th>RMW</th>\n",
       "      <th>SMB</th>\n",
       "      <th>business_inventory_diff</th>\n",
       "      <th>coffee_diff</th>\n",
       "      <th>...</th>\n",
       "      <th>streaming_media_consumption_diff</th>\n",
       "      <th>tot_bank_credit_diff</th>\n",
       "      <th>vix_diff</th>\n",
       "      <th>weekjobclaims</th>\n",
       "      <th>weekjobclaims_diff</th>\n",
       "      <th>wheat_diff</th>\n",
       "      <th>year</th>\n",
       "      <th>yield_curve</th>\n",
       "      <th>yield_curve_diff</th>\n",
       "      <th>target_1w</th>\n",
       "    </tr>\n",
       "    <tr>\n",
       "      <th>ticker</th>\n",
       "      <th>date</th>\n",
       "      <th></th>\n",
       "      <th></th>\n",
       "      <th></th>\n",
       "      <th></th>\n",
       "      <th></th>\n",
       "      <th></th>\n",
       "      <th></th>\n",
       "      <th></th>\n",
       "      <th></th>\n",
       "      <th></th>\n",
       "      <th></th>\n",
       "      <th></th>\n",
       "      <th></th>\n",
       "      <th></th>\n",
       "      <th></th>\n",
       "      <th></th>\n",
       "      <th></th>\n",
       "      <th></th>\n",
       "      <th></th>\n",
       "      <th></th>\n",
       "      <th></th>\n",
       "    </tr>\n",
       "  </thead>\n",
       "  <tbody>\n",
       "    <tr>\n",
       "      <th rowspan=\"5\" valign=\"top\">IYR</th>\n",
       "      <th>2010-01-03</th>\n",
       "      <td>0.449884</td>\n",
       "      <td>0.04</td>\n",
       "      <td>-219.417481</td>\n",
       "      <td>164.443144</td>\n",
       "      <td>-34.5</td>\n",
       "      <td>-110.922122</td>\n",
       "      <td>311.520175</td>\n",
       "      <td>75.099135</td>\n",
       "      <td>2387.0</td>\n",
       "      <td>0.711801</td>\n",
       "      <td>...</td>\n",
       "      <td>2.497</td>\n",
       "      <td>16.1658</td>\n",
       "      <td>2.21</td>\n",
       "      <td>456000.0</td>\n",
       "      <td>-12000.0</td>\n",
       "      <td>-3.333636</td>\n",
       "      <td>2010</td>\n",
       "      <td>3.79</td>\n",
       "      <td>0.02</td>\n",
       "      <td>0.032729</td>\n",
       "    </tr>\n",
       "    <tr>\n",
       "      <th>2010-01-10</th>\n",
       "      <td>0.000000</td>\n",
       "      <td>-0.10</td>\n",
       "      <td>-221.084566</td>\n",
       "      <td>159.558976</td>\n",
       "      <td>0.0</td>\n",
       "      <td>-111.246166</td>\n",
       "      <td>298.548370</td>\n",
       "      <td>77.617125</td>\n",
       "      <td>0.0</td>\n",
       "      <td>0.000000</td>\n",
       "      <td>...</td>\n",
       "      <td>0.000</td>\n",
       "      <td>-23.2842</td>\n",
       "      <td>-3.55</td>\n",
       "      <td>469000.0</td>\n",
       "      <td>13000.0</td>\n",
       "      <td>0.000000</td>\n",
       "      <td>2010</td>\n",
       "      <td>3.78</td>\n",
       "      <td>-0.01</td>\n",
       "      <td>-0.119910</td>\n",
       "    </tr>\n",
       "    <tr>\n",
       "      <th>2010-01-17</th>\n",
       "      <td>0.000000</td>\n",
       "      <td>-0.04</td>\n",
       "      <td>-221.084566</td>\n",
       "      <td>159.558976</td>\n",
       "      <td>0.0</td>\n",
       "      <td>-111.246166</td>\n",
       "      <td>298.548370</td>\n",
       "      <td>77.617125</td>\n",
       "      <td>0.0</td>\n",
       "      <td>0.000000</td>\n",
       "      <td>...</td>\n",
       "      <td>0.000</td>\n",
       "      <td>-23.5856</td>\n",
       "      <td>-0.22</td>\n",
       "      <td>507000.0</td>\n",
       "      <td>38000.0</td>\n",
       "      <td>0.000000</td>\n",
       "      <td>2010</td>\n",
       "      <td>3.64</td>\n",
       "      <td>-0.14</td>\n",
       "      <td>-0.795944</td>\n",
       "    </tr>\n",
       "    <tr>\n",
       "      <th>2010-01-24</th>\n",
       "      <td>0.000000</td>\n",
       "      <td>-0.03</td>\n",
       "      <td>-221.084566</td>\n",
       "      <td>159.558976</td>\n",
       "      <td>0.0</td>\n",
       "      <td>-111.246166</td>\n",
       "      <td>298.548370</td>\n",
       "      <td>77.617125</td>\n",
       "      <td>0.0</td>\n",
       "      <td>0.000000</td>\n",
       "      <td>...</td>\n",
       "      <td>0.000</td>\n",
       "      <td>0.4094</td>\n",
       "      <td>9.40</td>\n",
       "      <td>471000.0</td>\n",
       "      <td>-36000.0</td>\n",
       "      <td>0.000000</td>\n",
       "      <td>2010</td>\n",
       "      <td>3.56</td>\n",
       "      <td>-0.08</td>\n",
       "      <td>-0.160801</td>\n",
       "    </tr>\n",
       "    <tr>\n",
       "      <th>2010-01-31</th>\n",
       "      <td>0.000000</td>\n",
       "      <td>0.00</td>\n",
       "      <td>-221.084566</td>\n",
       "      <td>159.558976</td>\n",
       "      <td>0.0</td>\n",
       "      <td>-111.246166</td>\n",
       "      <td>298.548370</td>\n",
       "      <td>77.617125</td>\n",
       "      <td>0.0</td>\n",
       "      <td>0.000000</td>\n",
       "      <td>...</td>\n",
       "      <td>0.000</td>\n",
       "      <td>-26.3653</td>\n",
       "      <td>-2.69</td>\n",
       "      <td>496000.0</td>\n",
       "      <td>25000.0</td>\n",
       "      <td>0.000000</td>\n",
       "      <td>2010</td>\n",
       "      <td>3.55</td>\n",
       "      <td>-0.01</td>\n",
       "      <td>0.061548</td>\n",
       "    </tr>\n",
       "    <tr>\n",
       "      <th>...</th>\n",
       "      <th>...</th>\n",
       "      <td>...</td>\n",
       "      <td>...</td>\n",
       "      <td>...</td>\n",
       "      <td>...</td>\n",
       "      <td>...</td>\n",
       "      <td>...</td>\n",
       "      <td>...</td>\n",
       "      <td>...</td>\n",
       "      <td>...</td>\n",
       "      <td>...</td>\n",
       "      <td>...</td>\n",
       "      <td>...</td>\n",
       "      <td>...</td>\n",
       "      <td>...</td>\n",
       "      <td>...</td>\n",
       "      <td>...</td>\n",
       "      <td>...</td>\n",
       "      <td>...</td>\n",
       "      <td>...</td>\n",
       "      <td>...</td>\n",
       "      <td>...</td>\n",
       "    </tr>\n",
       "    <tr>\n",
       "      <th rowspan=\"5\" valign=\"top\">XLY</th>\n",
       "      <th>2024-12-01</th>\n",
       "      <td>-0.145812</td>\n",
       "      <td>-0.12</td>\n",
       "      <td>-22.301280</td>\n",
       "      <td>38.246440</td>\n",
       "      <td>0.0</td>\n",
       "      <td>-28.444476</td>\n",
       "      <td>-9.326239</td>\n",
       "      <td>-33.007563</td>\n",
       "      <td>0.0</td>\n",
       "      <td>0.000000</td>\n",
       "      <td>...</td>\n",
       "      <td>0.000</td>\n",
       "      <td>40.4200</td>\n",
       "      <td>-1.73</td>\n",
       "      <td>225000.0</td>\n",
       "      <td>10000.0</td>\n",
       "      <td>0.000000</td>\n",
       "      <td>2024</td>\n",
       "      <td>-0.40</td>\n",
       "      <td>-0.18</td>\n",
       "      <td>1.982427</td>\n",
       "    </tr>\n",
       "    <tr>\n",
       "      <th>2024-12-08</th>\n",
       "      <td>0.000000</td>\n",
       "      <td>-0.11</td>\n",
       "      <td>-22.301280</td>\n",
       "      <td>38.246440</td>\n",
       "      <td>0.0</td>\n",
       "      <td>-28.444476</td>\n",
       "      <td>-9.326239</td>\n",
       "      <td>-33.007563</td>\n",
       "      <td>0.0</td>\n",
       "      <td>0.000000</td>\n",
       "      <td>...</td>\n",
       "      <td>0.000</td>\n",
       "      <td>-7.2052</td>\n",
       "      <td>-0.74</td>\n",
       "      <td>242000.0</td>\n",
       "      <td>17000.0</td>\n",
       "      <td>0.000000</td>\n",
       "      <td>2024</td>\n",
       "      <td>-0.27</td>\n",
       "      <td>0.13</td>\n",
       "      <td>0.471450</td>\n",
       "    </tr>\n",
       "    <tr>\n",
       "      <th>2024-12-15</th>\n",
       "      <td>0.000000</td>\n",
       "      <td>0.05</td>\n",
       "      <td>-22.301280</td>\n",
       "      <td>38.246440</td>\n",
       "      <td>0.0</td>\n",
       "      <td>-28.444476</td>\n",
       "      <td>-9.326239</td>\n",
       "      <td>-33.007563</td>\n",
       "      <td>0.0</td>\n",
       "      <td>0.000000</td>\n",
       "      <td>...</td>\n",
       "      <td>0.000</td>\n",
       "      <td>30.0419</td>\n",
       "      <td>1.04</td>\n",
       "      <td>220000.0</td>\n",
       "      <td>-22000.0</td>\n",
       "      <td>0.000000</td>\n",
       "      <td>2024</td>\n",
       "      <td>0.06</td>\n",
       "      <td>0.33</td>\n",
       "      <td>-1.155353</td>\n",
       "    </tr>\n",
       "    <tr>\n",
       "      <th>2024-12-22</th>\n",
       "      <td>0.000000</td>\n",
       "      <td>0.03</td>\n",
       "      <td>-22.301280</td>\n",
       "      <td>38.246440</td>\n",
       "      <td>0.0</td>\n",
       "      <td>-28.444476</td>\n",
       "      <td>-9.326239</td>\n",
       "      <td>-33.007563</td>\n",
       "      <td>0.0</td>\n",
       "      <td>0.000000</td>\n",
       "      <td>...</td>\n",
       "      <td>0.000</td>\n",
       "      <td>0.0000</td>\n",
       "      <td>4.55</td>\n",
       "      <td>219000.0</td>\n",
       "      <td>-1000.0</td>\n",
       "      <td>0.000000</td>\n",
       "      <td>2024</td>\n",
       "      <td>0.18</td>\n",
       "      <td>0.12</td>\n",
       "      <td>0.832120</td>\n",
       "    </tr>\n",
       "    <tr>\n",
       "      <th>2024-12-29</th>\n",
       "      <td>0.000000</td>\n",
       "      <td>-0.03</td>\n",
       "      <td>-22.301280</td>\n",
       "      <td>38.246440</td>\n",
       "      <td>0.0</td>\n",
       "      <td>-28.444476</td>\n",
       "      <td>-9.326239</td>\n",
       "      <td>-33.007563</td>\n",
       "      <td>0.0</td>\n",
       "      <td>0.000000</td>\n",
       "      <td>...</td>\n",
       "      <td>0.000</td>\n",
       "      <td>0.0000</td>\n",
       "      <td>-4.09</td>\n",
       "      <td>219000.0</td>\n",
       "      <td>0.0</td>\n",
       "      <td>0.000000</td>\n",
       "      <td>2024</td>\n",
       "      <td>0.23</td>\n",
       "      <td>0.05</td>\n",
       "      <td>0.832120</td>\n",
       "    </tr>\n",
       "  </tbody>\n",
       "</table>\n",
       "<p>8613 rows × 55 columns</p>\n",
       "</div>"
      ],
      "text/plain": [
       "                   10y_real_interest_rate_diff  1y_yield_diff         CMA  \\\n",
       "ticker date                                                                 \n",
       "IYR    2010-01-03                     0.449884           0.04 -219.417481   \n",
       "       2010-01-10                     0.000000          -0.10 -221.084566   \n",
       "       2010-01-17                     0.000000          -0.04 -221.084566   \n",
       "       2010-01-24                     0.000000          -0.03 -221.084566   \n",
       "       2010-01-31                     0.000000           0.00 -221.084566   \n",
       "...                                        ...            ...         ...   \n",
       "XLY    2024-12-01                    -0.145812          -0.12  -22.301280   \n",
       "       2024-12-08                     0.000000          -0.11  -22.301280   \n",
       "       2024-12-15                     0.000000           0.05  -22.301280   \n",
       "       2024-12-22                     0.000000           0.03  -22.301280   \n",
       "       2024-12-29                     0.000000          -0.03  -22.301280   \n",
       "\n",
       "                          HML  M2_money_supply_diff      Mkt-RF         RMW  \\\n",
       "ticker date                                                                   \n",
       "IYR    2010-01-03  164.443144                 -34.5 -110.922122  311.520175   \n",
       "       2010-01-10  159.558976                   0.0 -111.246166  298.548370   \n",
       "       2010-01-17  159.558976                   0.0 -111.246166  298.548370   \n",
       "       2010-01-24  159.558976                   0.0 -111.246166  298.548370   \n",
       "       2010-01-31  159.558976                   0.0 -111.246166  298.548370   \n",
       "...                       ...                   ...         ...         ...   \n",
       "XLY    2024-12-01   38.246440                   0.0  -28.444476   -9.326239   \n",
       "       2024-12-08   38.246440                   0.0  -28.444476   -9.326239   \n",
       "       2024-12-15   38.246440                   0.0  -28.444476   -9.326239   \n",
       "       2024-12-22   38.246440                   0.0  -28.444476   -9.326239   \n",
       "       2024-12-29   38.246440                   0.0  -28.444476   -9.326239   \n",
       "\n",
       "                         SMB  business_inventory_diff  coffee_diff  ...  \\\n",
       "ticker date                                                         ...   \n",
       "IYR    2010-01-03  75.099135                   2387.0     0.711801  ...   \n",
       "       2010-01-10  77.617125                      0.0     0.000000  ...   \n",
       "       2010-01-17  77.617125                      0.0     0.000000  ...   \n",
       "       2010-01-24  77.617125                      0.0     0.000000  ...   \n",
       "       2010-01-31  77.617125                      0.0     0.000000  ...   \n",
       "...                      ...                      ...          ...  ...   \n",
       "XLY    2024-12-01 -33.007563                      0.0     0.000000  ...   \n",
       "       2024-12-08 -33.007563                      0.0     0.000000  ...   \n",
       "       2024-12-15 -33.007563                      0.0     0.000000  ...   \n",
       "       2024-12-22 -33.007563                      0.0     0.000000  ...   \n",
       "       2024-12-29 -33.007563                      0.0     0.000000  ...   \n",
       "\n",
       "                   streaming_media_consumption_diff  tot_bank_credit_diff  \\\n",
       "ticker date                                                                 \n",
       "IYR    2010-01-03                             2.497               16.1658   \n",
       "       2010-01-10                             0.000              -23.2842   \n",
       "       2010-01-17                             0.000              -23.5856   \n",
       "       2010-01-24                             0.000                0.4094   \n",
       "       2010-01-31                             0.000              -26.3653   \n",
       "...                                             ...                   ...   \n",
       "XLY    2024-12-01                             0.000               40.4200   \n",
       "       2024-12-08                             0.000               -7.2052   \n",
       "       2024-12-15                             0.000               30.0419   \n",
       "       2024-12-22                             0.000                0.0000   \n",
       "       2024-12-29                             0.000                0.0000   \n",
       "\n",
       "                   vix_diff  weekjobclaims  weekjobclaims_diff  wheat_diff  \\\n",
       "ticker date                                                                  \n",
       "IYR    2010-01-03      2.21       456000.0            -12000.0   -3.333636   \n",
       "       2010-01-10     -3.55       469000.0             13000.0    0.000000   \n",
       "       2010-01-17     -0.22       507000.0             38000.0    0.000000   \n",
       "       2010-01-24      9.40       471000.0            -36000.0    0.000000   \n",
       "       2010-01-31     -2.69       496000.0             25000.0    0.000000   \n",
       "...                     ...            ...                 ...         ...   \n",
       "XLY    2024-12-01     -1.73       225000.0             10000.0    0.000000   \n",
       "       2024-12-08     -0.74       242000.0             17000.0    0.000000   \n",
       "       2024-12-15      1.04       220000.0            -22000.0    0.000000   \n",
       "       2024-12-22      4.55       219000.0             -1000.0    0.000000   \n",
       "       2024-12-29     -4.09       219000.0                 0.0    0.000000   \n",
       "\n",
       "                   year  yield_curve  yield_curve_diff  target_1w  \n",
       "ticker date                                                        \n",
       "IYR    2010-01-03  2010         3.79              0.02   0.032729  \n",
       "       2010-01-10  2010         3.78             -0.01  -0.119910  \n",
       "       2010-01-17  2010         3.64             -0.14  -0.795944  \n",
       "       2010-01-24  2010         3.56             -0.08  -0.160801  \n",
       "       2010-01-31  2010         3.55             -0.01   0.061548  \n",
       "...                 ...          ...               ...        ...  \n",
       "XLY    2024-12-01  2024        -0.40             -0.18   1.982427  \n",
       "       2024-12-08  2024        -0.27              0.13   0.471450  \n",
       "       2024-12-15  2024         0.06              0.33  -1.155353  \n",
       "       2024-12-22  2024         0.18              0.12   0.832120  \n",
       "       2024-12-29  2024         0.23              0.05   0.832120  \n",
       "\n",
       "[8613 rows x 55 columns]"
      ]
     },
     "execution_count": 52,
     "metadata": {},
     "output_type": "execute_result"
    }
   ],
   "source": [
    "data"
   ]
  },
  {
   "cell_type": "code",
   "execution_count": 53,
   "metadata": {
    "ExecuteTime": {
     "end_time": "2021-04-16T03:59:25.863322Z",
     "start_time": "2021-04-16T03:59:25.861312Z"
    },
    "execution": {
     "iopub.execute_input": "2024-09-23T18:29:44.857711Z",
     "iopub.status.busy": "2024-09-23T18:29:44.857711Z",
     "iopub.status.idle": "2024-09-23T18:29:44.873361Z",
     "shell.execute_reply": "2024-09-23T18:29:44.873361Z"
    }
   },
   "outputs": [],
   "source": [
    "#función para tomar los mejores parametros que saliernon en entrenamiento para un lookahead determinado\n",
    "def get_lgb_params(data, t=5, best=0):\n",
    "    param_cols = scope_params[1:] + lgb_train_params + ['boost_rounds']\n",
    "    df = data[data.lookahead==t].sort_values('ic', ascending=False).iloc[best]\n",
    "    return df.loc[param_cols]"
   ]
  },
  {
   "cell_type": "code",
   "execution_count": 54,
   "metadata": {
    "execution": {
     "iopub.execute_input": "2024-09-23T18:29:44.873361Z",
     "iopub.status.busy": "2024-09-23T18:29:44.873361Z",
     "iopub.status.idle": "2024-09-23T18:29:44.889001Z",
     "shell.execute_reply": "2024-09-23T18:29:44.889001Z"
    }
   },
   "outputs": [],
   "source": [
    "#para hacer más OOS que el 1 año definido inicialmente\n",
    "years_OOS=4.9"
   ]
  },
  {
   "cell_type": "code",
   "execution_count": 55,
   "metadata": {},
   "outputs": [],
   "source": [
    "params = get_lgb_params(lgb_daily_ic,\n",
    "                            t=lookahead,)\n",
    "                            "
   ]
  },
  {
   "cell_type": "code",
   "execution_count": 56,
   "metadata": {},
   "outputs": [
    {
     "data": {
      "text/plain": [
       "train_length        464.0\n",
       "test_length           1.0\n",
       "learning_rate         0.3\n",
       "num_leaves            4.0\n",
       "feature_fraction      0.3\n",
       "min_data_in_leaf    250.0\n",
       "boost_rounds         75.0\n",
       "Name: 497, dtype: float64"
      ]
     },
     "execution_count": 56,
     "metadata": {},
     "output_type": "execute_result"
    }
   ],
   "source": [
    "params"
   ]
  },
  {
   "cell_type": "code",
   "execution_count": 57,
   "metadata": {
    "ExecuteTime": {
     "end_time": "2021-04-16T04:42:08.945191Z",
     "start_time": "2021-04-16T03:59:25.864181Z"
    },
    "execution": {
     "iopub.execute_input": "2024-09-23T18:29:44.904570Z",
     "iopub.status.busy": "2024-09-23T18:29:44.904570Z",
     "iopub.status.idle": "2024-09-23T18:32:22.390306Z",
     "shell.execute_reply": "2024-09-23T18:32:22.390306Z"
    }
   },
   "outputs": [
    {
     "name": "stdout",
     "output_type": "stream",
     "text": [
      "\n",
      "Position: 00\n"
     ]
    },
    {
     "name": "stderr",
     "output_type": "stream",
     "text": [
      "  0%|          | 0/254 [00:00<?, ?it/s]"
     ]
    },
    {
     "name": "stderr",
     "output_type": "stream",
     "text": [
      "100%|██████████| 254/254 [01:12<00:00,  3.53it/s]\n"
     ]
    },
    {
     "name": "stdout",
     "output_type": "stream",
     "text": [
      "\n",
      "Position: 01\n"
     ]
    },
    {
     "name": "stderr",
     "output_type": "stream",
     "text": [
      "100%|██████████| 254/254 [01:00<00:00,  4.21it/s]\n"
     ]
    },
    {
     "name": "stdout",
     "output_type": "stream",
     "text": [
      "\n",
      "Position: 02\n"
     ]
    },
    {
     "name": "stderr",
     "output_type": "stream",
     "text": [
      "100%|██████████| 254/254 [00:51<00:00,  4.96it/s]\n"
     ]
    },
    {
     "name": "stdout",
     "output_type": "stream",
     "text": [
      "\n",
      "Position: 03\n"
     ]
    },
    {
     "name": "stderr",
     "output_type": "stream",
     "text": [
      "100%|██████████| 254/254 [00:50<00:00,  5.05it/s]\n"
     ]
    },
    {
     "name": "stdout",
     "output_type": "stream",
     "text": [
      "\n",
      "Position: 04\n"
     ]
    },
    {
     "name": "stderr",
     "output_type": "stream",
     "text": [
      "100%|██████████| 254/254 [03:35<00:00,  1.18it/s]\n"
     ]
    },
    {
     "name": "stdout",
     "output_type": "stream",
     "text": [
      "\n",
      "Position: 05\n"
     ]
    },
    {
     "name": "stderr",
     "output_type": "stream",
     "text": [
      "100%|██████████| 254/254 [00:45<00:00,  5.57it/s]\n"
     ]
    },
    {
     "name": "stdout",
     "output_type": "stream",
     "text": [
      "\n",
      "Position: 06\n"
     ]
    },
    {
     "name": "stderr",
     "output_type": "stream",
     "text": [
      "100%|██████████| 254/254 [01:04<00:00,  3.96it/s]\n"
     ]
    },
    {
     "name": "stdout",
     "output_type": "stream",
     "text": [
      "\n",
      "Position: 07\n"
     ]
    },
    {
     "name": "stderr",
     "output_type": "stream",
     "text": [
      "100%|██████████| 254/254 [03:14<00:00,  1.30it/s]\n"
     ]
    },
    {
     "name": "stdout",
     "output_type": "stream",
     "text": [
      "\n",
      "Position: 08\n"
     ]
    },
    {
     "name": "stderr",
     "output_type": "stream",
     "text": [
      "100%|██████████| 254/254 [02:04<00:00,  2.05it/s]\n"
     ]
    },
    {
     "name": "stdout",
     "output_type": "stream",
     "text": [
      "\n",
      "Position: 09\n"
     ]
    },
    {
     "name": "stderr",
     "output_type": "stream",
     "text": [
      "100%|██████████| 254/254 [00:37<00:00,  6.70it/s]\n",
      "/tmp/ipykernel_12687/4247096290.py:61: ConstantInputWarning: An input array is constant; the correlation coefficient is not defined.\n",
      "  lambda x: spearmanr(x.y_test, x[position])[0])\n",
      "/tmp/ipykernel_12687/4247096290.py:61: ConstantInputWarning: An input array is constant; the correlation coefficient is not defined.\n",
      "  lambda x: spearmanr(x.y_test, x[position])[0])\n",
      "/tmp/ipykernel_12687/4247096290.py:61: ConstantInputWarning: An input array is constant; the correlation coefficient is not defined.\n",
      "  lambda x: spearmanr(x.y_test, x[position])[0])\n"
     ]
    },
    {
     "name": "stdout",
     "output_type": "stream",
     "text": [
      "                0           1           2           3           4           5  \\\n",
      "count  254.000000  254.000000  254.000000  254.000000  254.000000  253.000000   \n",
      "mean     0.013926   -0.002100   -0.013742   -0.013742   -0.015744    0.027437   \n",
      "std      0.368705    0.380981    0.391431    0.391431    0.394315    0.374024   \n",
      "min     -0.809091   -0.881818   -0.897497   -0.897497   -0.845455   -0.820094   \n",
      "25%     -0.273153   -0.258398   -0.333139   -0.333139   -0.327273   -0.261158   \n",
      "50%      0.009091    0.031849   -0.011379   -0.011379    0.009091    0.059774   \n",
      "75%      0.294824    0.276766    0.280840    0.280840    0.240969    0.284476   \n",
      "max      0.818182    0.909091    0.883829    0.883829    0.909091    0.884877   \n",
      "\n",
      "                6           7           8           9  \n",
      "count  254.000000  253.000000  254.000000  232.000000  \n",
      "mean     0.011648   -0.013146   -0.016326   -0.003885  \n",
      "std      0.358314    0.378735    0.364382    0.356787  \n",
      "min     -0.800000   -0.924832   -0.800000   -0.736839  \n",
      "25%     -0.258398   -0.281818   -0.281818   -0.280357  \n",
      "50%      0.002278    0.021058   -0.034127    0.002354  \n",
      "75%      0.294824    0.245455    0.254545    0.272088  \n",
      "max      0.809091    0.856494    0.818182    0.791781  \n"
     ]
    },
    {
     "name": "stderr",
     "output_type": "stream",
     "text": [
      "/tmp/ipykernel_12687/4247096290.py:63: FutureWarning: Starting with pandas version 3.0 all arguments of to_hdf except for the argument 'path_or_buf' will be keyword-only.\n",
      "  test_predictions.to_hdf(PREDICTIONS_STORE, f'lgb/test/{lookahead:02}')\n",
      "/home/muniia/Documents/FamaFrenchTrading/.venv/lib/python3.12/site-packages/tables/path.py:137: NaturalNameWarning: object name is not a valid Python identifier: '01'; it does not match the pattern ``^[a-zA-Z_][a-zA-Z0-9_]*$``; you will not be able to use natural naming to access this object; using ``getattr()`` will still work, though\n",
      "  check_attribute_name(name)\n",
      "/tmp/ipykernel_12687/4247096290.py:63: PerformanceWarning: \n",
      "your performance may suffer as PyTables will pickle object types that it cannot\n",
      "map directly to c-types [inferred_type->mixed-integer,key->axis0] [items->None]\n",
      "\n",
      "  test_predictions.to_hdf(PREDICTIONS_STORE, f'lgb/test/{lookahead:02}')\n",
      "/tmp/ipykernel_12687/4247096290.py:63: PerformanceWarning: \n",
      "your performance may suffer as PyTables will pickle object types that it cannot\n",
      "map directly to c-types [inferred_type->mixed-integer,key->block0_items] [items->None]\n",
      "\n",
      "  test_predictions.to_hdf(PREDICTIONS_STORE, f'lgb/test/{lookahead:02}')\n"
     ]
    }
   ],
   "source": [
    "#for par las 10 mejores configuracones de paramentros de las cuales almacenaremos sus predicciones\n",
    "for position in range(10):\n",
    "    params = get_lgb_params(lgb_daily_ic,\n",
    "                            t=lookahead,\n",
    "                            best=position)\n",
    "\n",
    "    params = params.to_dict()#parametros a diccionario\n",
    "\n",
    "    for p in ['min_data_in_leaf', 'num_leaves']:\n",
    "        params[p] = int(params[p])\n",
    "    train_length = int(params.pop('train_length')) # Extrae y elimina el parámetro 'train_length' del diccionario de parámetros y lo convierte a un entero\n",
    "    test_length = int(params.pop('test_length'))\n",
    "    num_boost_round = int(params.pop('boost_rounds'))\n",
    "    params.update(base_params)\n",
    "\n",
    "    print(f'\\nPosition: {position:02}')\n",
    "\n",
    "    # 1-year out-of-sample period\n",
    "    #vamos a ir haciendo el walk forward con periodos de test de un mes, moveremos el modelo para volver a entrenar y predeciremos el siguiente mes\n",
    "    n_splits = int(YEAR * years_OOS / test_length)\n",
    "    cv = MultipleTimeSeriesCV(n_splits=n_splits,\n",
    "                              test_period_length=test_length,\n",
    "                              lookahead=lookahead,\n",
    "                              train_period_length=train_length)\n",
    "\n",
    "    predictions = []\n",
    "    start = time()\n",
    "    for i, (train_idx, test_idx) in tqdm(enumerate(cv.split(X=data), 1), total=n_splits):\n",
    "        # print(i, end=' ', flush=True)\n",
    "        \n",
    "        # Crea un conjunto de datos de entrenamiento para LightGBM\n",
    "        lgb_train = lgb_data.subset(used_indices=train_idx.tolist(),\n",
    "                                    params=params).construct()\n",
    "         # Entrena el modelo LightGBM\n",
    "        model = lgb.train(params=params,\n",
    "                          train_set=lgb_train,\n",
    "                          num_boost_round=num_boost_round,\n",
    "                        )\n",
    "\n",
    "        test_set = data.iloc[test_idx, :]\n",
    "        y_test = test_set.loc[:, label].to_frame('y_test')\n",
    "        # Realiza predicciones en el conjunto de datos de prueba\n",
    "        y_pred = model.predict(test_set.loc[:, model.feature_name()])\n",
    "        predictions.append(y_test.assign(prediction=y_pred))\n",
    "\n",
    "    if position == 0:\n",
    "        test_predictions = (pd.concat(predictions)\n",
    "                            .rename(columns={'prediction': position}))\n",
    "    else:\n",
    "        test_predictions[position] = pd.concat(predictions).prediction\n",
    "\n",
    "by_day = test_predictions.groupby(level='date')# Agrupa las predicciones por fecha\n",
    "for position in range(10):\n",
    "     # Si es la primera iteración, calcula el coeficiente de correlación de Spearman\n",
    "    #entre las predicciones y las etiquetas verdaderas y lo almacena en `ic_by_day`\n",
    "    if position == 0:\n",
    "        ic_by_day = by_day.apply(lambda x: spearmanr(\n",
    "            x.y_test, x[position])[0]).to_frame()\n",
    "    else:\n",
    "        ic_by_day[position] = by_day.apply(\n",
    "            lambda x: spearmanr(x.y_test, x[position])[0])\n",
    "print(ic_by_day.describe())\n",
    "test_predictions.to_hdf(PREDICTIONS_STORE, f'lgb/test/{lookahead:02}')"
   ]
  },
  {
   "cell_type": "code",
   "execution_count": 35,
   "metadata": {},
   "outputs": [
    {
     "name": "stderr",
     "output_type": "stream",
     "text": [
      "/tmp/ipykernel_12687/575486912.py:1: FutureWarning: Starting with pandas version 3.0 all arguments of to_hdf except for the argument 'path_or_buf' will be keyword-only.\n",
      "  test_predictions.to_hdf(\"data_normalized/predictions_normalized_todo_2.h5\", 'lgb/test/01')\n",
      "/home/muniia/Documents/FamaFrenchTrading/.venv/lib/python3.12/site-packages/tables/path.py:137: NaturalNameWarning: object name is not a valid Python identifier: '01'; it does not match the pattern ``^[a-zA-Z_][a-zA-Z0-9_]*$``; you will not be able to use natural naming to access this object; using ``getattr()`` will still work, though\n",
      "  check_attribute_name(name)\n",
      "/tmp/ipykernel_12687/575486912.py:1: PerformanceWarning: \n",
      "your performance may suffer as PyTables will pickle object types that it cannot\n",
      "map directly to c-types [inferred_type->mixed-integer,key->axis0] [items->None]\n",
      "\n",
      "  test_predictions.to_hdf(\"data_normalized/predictions_normalized_todo_2.h5\", 'lgb/test/01')\n",
      "/tmp/ipykernel_12687/575486912.py:1: PerformanceWarning: \n",
      "your performance may suffer as PyTables will pickle object types that it cannot\n",
      "map directly to c-types [inferred_type->mixed-integer,key->block0_items] [items->None]\n",
      "\n",
      "  test_predictions.to_hdf(\"data_normalized/predictions_normalized_todo_2.h5\", 'lgb/test/01')\n"
     ]
    }
   ],
   "source": [
    "test_predictions.to_hdf(\"data_normalized/predictions_normalized_todo_2.h5\", 'lgb/test/01')"
   ]
  }
 ],
 "metadata": {
  "kernelspec": {
   "display_name": "Python 3 (ipykernel)",
   "language": "python",
   "name": "python3"
  },
  "language_info": {
   "codemirror_mode": {
    "name": "ipython",
    "version": 3
   },
   "file_extension": ".py",
   "mimetype": "text/x-python",
   "name": "python",
   "nbconvert_exporter": "python",
   "pygments_lexer": "ipython3",
   "version": "3.12.7"
  },
  "toc": {
   "base_numbering": 1,
   "nav_menu": {},
   "number_sections": true,
   "sideBar": true,
   "skip_h1_title": true,
   "title_cell": "Table of Contents",
   "title_sidebar": "Contents",
   "toc_cell": false,
   "toc_position": {
    "height": "calc(100% - 180px)",
    "left": "10px",
    "top": "150px",
    "width": "301.861px"
   },
   "toc_section_display": true,
   "toc_window_display": true
  }
 },
 "nbformat": 4,
 "nbformat_minor": 4
}
