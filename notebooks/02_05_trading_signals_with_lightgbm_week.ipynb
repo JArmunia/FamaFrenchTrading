{
 "cells": [
  {
   "cell_type": "markdown",
   "metadata": {},
   "source": [
    "# Generating trading signals with LightGBM"
   ]
  },
  {
   "cell_type": "markdown",
   "metadata": {},
   "source": [
    "## Imports & Settings"
   ]
  },
  {
   "cell_type": "code",
   "execution_count": 1,
   "metadata": {
    "ExecuteTime": {
     "end_time": "2020-06-21T03:15:53.361121Z",
     "start_time": "2020-06-21T03:15:53.359422Z"
    },
    "execution": {
     "iopub.execute_input": "2024-09-23T16:39:02.019794Z",
     "iopub.status.busy": "2024-09-23T16:39:02.019794Z",
     "iopub.status.idle": "2024-09-23T16:39:02.035315Z",
     "shell.execute_reply": "2024-09-23T16:39:02.035315Z"
    }
   },
   "outputs": [],
   "source": [
    "import warnings\n",
    "warnings.filterwarnings('ignore')"
   ]
  },
  {
   "cell_type": "code",
   "execution_count": 2,
   "metadata": {
    "execution": {
     "iopub.execute_input": "2024-09-23T16:39:02.035315Z",
     "iopub.status.busy": "2024-09-23T16:39:02.035315Z",
     "iopub.status.idle": "2024-09-23T16:39:02.050993Z",
     "shell.execute_reply": "2024-09-23T16:39:02.050993Z"
    }
   },
   "outputs": [],
   "source": [
    "#!pip install lightgbm==3.3.2\n",
    "#!pip install catboost==1.0.5"
   ]
  },
  {
   "cell_type": "code",
   "execution_count": 3,
   "metadata": {
    "ExecuteTime": {
     "end_time": "2020-06-21T03:15:54.473652Z",
     "start_time": "2020-06-21T03:15:53.619170Z"
    },
    "execution": {
     "iopub.execute_input": "2024-09-23T16:39:02.050993Z",
     "iopub.status.busy": "2024-09-23T16:39:02.050993Z",
     "iopub.status.idle": "2024-09-23T16:39:05.040186Z",
     "shell.execute_reply": "2024-09-23T16:39:05.040186Z"
    },
    "scrolled": true
   },
   "outputs": [],
   "source": [
    "%matplotlib inline\n",
    "\n",
    "from pathlib import Path\n",
    "import sys, os\n",
    "from time import time\n",
    "from collections import defaultdict\n",
    "from itertools import product\n",
    "\n",
    "import numpy as np\n",
    "import pandas as pd\n",
    "\n",
    "import lightgbm as lgb\n",
    "from catboost import Pool, CatBoostRegressor\n",
    "\n",
    "from sklearn.linear_model import LinearRegression\n",
    "from scipy.stats import spearmanr\n",
    "\n",
    "from alphalens.tears import (create_summary_tear_sheet,\n",
    "                             create_full_tear_sheet)\n",
    "\n",
    "from alphalens.utils import get_clean_factor_and_forward_returns\n",
    "\n",
    "import matplotlib.pyplot as plt\n",
    "import seaborn as sns"
   ]
  },
  {
   "cell_type": "code",
   "execution_count": 4,
   "metadata": {
    "execution": {
     "iopub.execute_input": "2024-09-23T16:39:05.040186Z",
     "iopub.status.busy": "2024-09-23T16:39:05.040186Z",
     "iopub.status.idle": "2024-09-23T16:39:05.055811Z",
     "shell.execute_reply": "2024-09-23T16:39:05.055811Z"
    }
   },
   "outputs": [],
   "source": [
    "np.random.seed(42)"
   ]
  },
  {
   "cell_type": "code",
   "execution_count": 5,
   "metadata": {
    "ExecuteTime": {
     "end_time": "2020-06-21T03:15:54.477216Z",
     "start_time": "2020-06-21T03:15:54.474618Z"
    },
    "execution": {
     "iopub.execute_input": "2024-09-23T16:39:05.055811Z",
     "iopub.status.busy": "2024-09-23T16:39:05.055811Z",
     "iopub.status.idle": "2024-09-23T16:39:05.071322Z",
     "shell.execute_reply": "2024-09-23T16:39:05.071322Z"
    },
    "scrolled": true
   },
   "outputs": [],
   "source": [
    "sys.path.insert(1, os.path.join(sys.path[0], '..'))\n",
    "from utils import MultipleTimeSeriesCV, format_time"
   ]
  },
  {
   "cell_type": "code",
   "execution_count": 6,
   "metadata": {
    "ExecuteTime": {
     "end_time": "2020-06-21T03:15:54.489618Z",
     "start_time": "2020-06-21T03:15:54.478409Z"
    },
    "execution": {
     "iopub.execute_input": "2024-09-23T16:39:05.071322Z",
     "iopub.status.busy": "2024-09-23T16:39:05.071322Z",
     "iopub.status.idle": "2024-09-23T16:39:05.087060Z",
     "shell.execute_reply": "2024-09-23T16:39:05.087060Z"
    },
    "scrolled": true
   },
   "outputs": [],
   "source": [
    "sns.set_style('whitegrid')"
   ]
  },
  {
   "cell_type": "markdown",
   "metadata": {},
   "source": [
    "## Algunas declaraciones iniciales"
   ]
  },
  {
   "cell_type": "code",
   "execution_count": 7,
   "metadata": {
    "execution": {
     "iopub.execute_input": "2024-09-23T16:39:05.087060Z",
     "iopub.status.busy": "2024-09-23T16:39:05.087060Z",
     "iopub.status.idle": "2024-09-23T16:39:05.102770Z",
     "shell.execute_reply": "2024-09-23T16:39:05.102770Z"
    }
   },
   "outputs": [],
   "source": [
    "#decimos si queremos datos semanales o no\n",
    "datos_semanales=1"
   ]
  },
  {
   "cell_type": "code",
   "execution_count": 8,
   "metadata": {
    "ExecuteTime": {
     "end_time": "2020-06-21T03:15:54.626839Z",
     "start_time": "2020-06-21T03:15:54.624975Z"
    },
    "execution": {
     "iopub.execute_input": "2024-09-23T16:39:05.102770Z",
     "iopub.status.busy": "2024-09-23T16:39:05.102770Z",
     "iopub.status.idle": "2024-09-23T16:39:05.118398Z",
     "shell.execute_reply": "2024-09-23T16:39:05.118398Z"
    },
    "scrolled": true
   },
   "outputs": [],
   "source": [
    "#YEAR = 252\n",
    "YEAR = 12\n",
    "if datos_semanales==1:\n",
    "    YEAR=52\n",
    "\n",
    "idx = pd.IndexSlice"
   ]
  },
  {
   "cell_type": "code",
   "execution_count": 9,
   "metadata": {},
   "outputs": [],
   "source": [
    "#si queremos borrar los datos anteriores, si no, poner borrado = False\n",
    "borrado=True"
   ]
  },
  {
   "cell_type": "markdown",
   "metadata": {},
   "source": [
    "## Get Data (for train & validation period)"
   ]
  },
  {
   "cell_type": "markdown",
   "metadata": {},
   "source": [
    "We select the train and validation sets, and identify labels and features:"
   ]
  },
  {
   "cell_type": "code",
   "execution_count": 10,
   "metadata": {
    "execution": {
     "iopub.execute_input": "2024-09-23T16:39:05.134022Z",
     "iopub.status.busy": "2024-09-23T16:39:05.134022Z",
     "iopub.status.idle": "2024-09-23T16:39:05.149647Z",
     "shell.execute_reply": "2024-09-23T16:39:05.149647Z"
    }
   },
   "outputs": [],
   "source": [
    "DATA_STORE = 'data/assets.parquet'\n"
   ]
  },
  {
   "cell_type": "code",
   "execution_count": 11,
   "metadata": {
    "execution": {
     "iopub.execute_input": "2024-09-23T16:39:05.149647Z",
     "iopub.status.busy": "2024-09-23T16:39:05.149647Z",
     "iopub.status.idle": "2024-09-23T16:39:05.298319Z",
     "shell.execute_reply": "2024-09-23T16:39:05.297166Z"
    }
   },
   "outputs": [
    {
     "name": "stdout",
     "output_type": "stream",
     "text": [
      "Index(['return_01w', 'return_02w', 'return_03w', 'return_06w', 'return_12w',\n",
      "       'return_52w', 'Mkt-RF', 'SMB', 'HML', 'RMW', 'CMA', 'momentum_02',\n",
      "       'momentum_03', 'momentum_06', 'momentum_12', 'momentum_52',\n",
      "       'momentum_3_12', 'month', 'sector', 'return_01w_t-1', 'return_01w_t-2',\n",
      "       'return_01w_t-3', 'return_01w_t-4', 'return_01w_t-5', 'return_01w_t-6',\n",
      "       'target_01w', 'target_02w', 'target_03w', 'target_06w', 'target_12w',\n",
      "       'recession', 'yield_curve', 'corp_oas', 'hy_oas', 'eu_hy_oas',\n",
      "       'sentiment', 'real_gdp', 'oil', 'inflacion', 'leading', 'vix', 'vixoil',\n",
      "       'weekjobclaims', 'retail_sales_percent', 'retail_sales', '1y_yield',\n",
      "       'recession_diff', 'yield_curve_diff', 'corp_oas_diff', 'hy_oas_diff',\n",
      "       'eu_hy_oas_diff', 'sentiment_diff', 'empleo_diff', 'real_gdp_diff',\n",
      "       'oil_diff', 'inflacion_diff', 'leading_diff', 'vix_diff', 'vixoil_diff',\n",
      "       'weekjobclaims_diff', 'retail_sales_percent_diff', 'retail_sales_diff',\n",
      "       'us_asset_balance_diff', '1y_yield_diff'],\n",
      "      dtype='object')\n"
     ]
    },
    {
     "data": {
      "text/html": [
       "<div>\n",
       "<style scoped>\n",
       "    .dataframe tbody tr th:only-of-type {\n",
       "        vertical-align: middle;\n",
       "    }\n",
       "\n",
       "    .dataframe tbody tr th {\n",
       "        vertical-align: top;\n",
       "    }\n",
       "\n",
       "    .dataframe thead th {\n",
       "        text-align: right;\n",
       "    }\n",
       "</style>\n",
       "<table border=\"1\" class=\"dataframe\">\n",
       "  <thead>\n",
       "    <tr style=\"text-align: right;\">\n",
       "      <th></th>\n",
       "      <th></th>\n",
       "      <th>return_01w</th>\n",
       "      <th>return_02w</th>\n",
       "      <th>return_03w</th>\n",
       "      <th>return_06w</th>\n",
       "      <th>return_12w</th>\n",
       "      <th>return_52w</th>\n",
       "      <th>Mkt-RF</th>\n",
       "      <th>SMB</th>\n",
       "      <th>HML</th>\n",
       "      <th>RMW</th>\n",
       "      <th>...</th>\n",
       "      <th>oil_diff</th>\n",
       "      <th>inflacion_diff</th>\n",
       "      <th>leading_diff</th>\n",
       "      <th>vix_diff</th>\n",
       "      <th>vixoil_diff</th>\n",
       "      <th>weekjobclaims_diff</th>\n",
       "      <th>retail_sales_percent_diff</th>\n",
       "      <th>retail_sales_diff</th>\n",
       "      <th>us_asset_balance_diff</th>\n",
       "      <th>1y_yield_diff</th>\n",
       "    </tr>\n",
       "    <tr>\n",
       "      <th>ticker</th>\n",
       "      <th>date</th>\n",
       "      <th></th>\n",
       "      <th></th>\n",
       "      <th></th>\n",
       "      <th></th>\n",
       "      <th></th>\n",
       "      <th></th>\n",
       "      <th></th>\n",
       "      <th></th>\n",
       "      <th></th>\n",
       "      <th></th>\n",
       "      <th></th>\n",
       "      <th></th>\n",
       "      <th></th>\n",
       "      <th></th>\n",
       "      <th></th>\n",
       "      <th></th>\n",
       "      <th></th>\n",
       "      <th></th>\n",
       "      <th></th>\n",
       "      <th></th>\n",
       "      <th></th>\n",
       "    </tr>\n",
       "  </thead>\n",
       "  <tbody>\n",
       "    <tr>\n",
       "      <th rowspan=\"5\" valign=\"top\">IYR</th>\n",
       "      <th>2005-01-02 00:00:00+00:00</th>\n",
       "      <td>NaN</td>\n",
       "      <td>NaN</td>\n",
       "      <td>NaN</td>\n",
       "      <td>NaN</td>\n",
       "      <td>NaN</td>\n",
       "      <td>NaN</td>\n",
       "      <td>0.100716</td>\n",
       "      <td>0.041236</td>\n",
       "      <td>0.02016</td>\n",
       "      <td>-0.04512</td>\n",
       "      <td>...</td>\n",
       "      <td>NaN</td>\n",
       "      <td>NaN</td>\n",
       "      <td>NaN</td>\n",
       "      <td>NaN</td>\n",
       "      <td>NaN</td>\n",
       "      <td>NaN</td>\n",
       "      <td>NaN</td>\n",
       "      <td>NaN</td>\n",
       "      <td>NaN</td>\n",
       "      <td>NaN</td>\n",
       "    </tr>\n",
       "    <tr>\n",
       "      <th>2005-01-09 00:00:00+00:00</th>\n",
       "      <td>NaN</td>\n",
       "      <td>NaN</td>\n",
       "      <td>NaN</td>\n",
       "      <td>NaN</td>\n",
       "      <td>NaN</td>\n",
       "      <td>NaN</td>\n",
       "      <td>0.100716</td>\n",
       "      <td>0.041236</td>\n",
       "      <td>0.02016</td>\n",
       "      <td>-0.04512</td>\n",
       "      <td>...</td>\n",
       "      <td>NaN</td>\n",
       "      <td>NaN</td>\n",
       "      <td>NaN</td>\n",
       "      <td>NaN</td>\n",
       "      <td>NaN</td>\n",
       "      <td>NaN</td>\n",
       "      <td>NaN</td>\n",
       "      <td>NaN</td>\n",
       "      <td>NaN</td>\n",
       "      <td>NaN</td>\n",
       "    </tr>\n",
       "    <tr>\n",
       "      <th>2005-01-16 00:00:00+00:00</th>\n",
       "      <td>NaN</td>\n",
       "      <td>NaN</td>\n",
       "      <td>NaN</td>\n",
       "      <td>NaN</td>\n",
       "      <td>NaN</td>\n",
       "      <td>NaN</td>\n",
       "      <td>0.100716</td>\n",
       "      <td>0.041236</td>\n",
       "      <td>0.02016</td>\n",
       "      <td>-0.04512</td>\n",
       "      <td>...</td>\n",
       "      <td>NaN</td>\n",
       "      <td>NaN</td>\n",
       "      <td>NaN</td>\n",
       "      <td>NaN</td>\n",
       "      <td>NaN</td>\n",
       "      <td>NaN</td>\n",
       "      <td>NaN</td>\n",
       "      <td>NaN</td>\n",
       "      <td>NaN</td>\n",
       "      <td>NaN</td>\n",
       "    </tr>\n",
       "    <tr>\n",
       "      <th>2005-01-23 00:00:00+00:00</th>\n",
       "      <td>NaN</td>\n",
       "      <td>NaN</td>\n",
       "      <td>NaN</td>\n",
       "      <td>NaN</td>\n",
       "      <td>NaN</td>\n",
       "      <td>NaN</td>\n",
       "      <td>0.100716</td>\n",
       "      <td>0.041236</td>\n",
       "      <td>0.02016</td>\n",
       "      <td>-0.04512</td>\n",
       "      <td>...</td>\n",
       "      <td>NaN</td>\n",
       "      <td>NaN</td>\n",
       "      <td>NaN</td>\n",
       "      <td>NaN</td>\n",
       "      <td>NaN</td>\n",
       "      <td>NaN</td>\n",
       "      <td>NaN</td>\n",
       "      <td>NaN</td>\n",
       "      <td>NaN</td>\n",
       "      <td>NaN</td>\n",
       "    </tr>\n",
       "    <tr>\n",
       "      <th>2005-01-30 00:00:00+00:00</th>\n",
       "      <td>NaN</td>\n",
       "      <td>NaN</td>\n",
       "      <td>NaN</td>\n",
       "      <td>NaN</td>\n",
       "      <td>NaN</td>\n",
       "      <td>NaN</td>\n",
       "      <td>0.100716</td>\n",
       "      <td>0.041236</td>\n",
       "      <td>0.02016</td>\n",
       "      <td>-0.04512</td>\n",
       "      <td>...</td>\n",
       "      <td>NaN</td>\n",
       "      <td>NaN</td>\n",
       "      <td>NaN</td>\n",
       "      <td>NaN</td>\n",
       "      <td>NaN</td>\n",
       "      <td>NaN</td>\n",
       "      <td>NaN</td>\n",
       "      <td>NaN</td>\n",
       "      <td>NaN</td>\n",
       "      <td>NaN</td>\n",
       "    </tr>\n",
       "  </tbody>\n",
       "</table>\n",
       "<p>5 rows × 64 columns</p>\n",
       "</div>"
      ],
      "text/plain": [
       "                                  return_01w  return_02w  return_03w  \\\n",
       "ticker date                                                            \n",
       "IYR    2005-01-02 00:00:00+00:00         NaN         NaN         NaN   \n",
       "       2005-01-09 00:00:00+00:00         NaN         NaN         NaN   \n",
       "       2005-01-16 00:00:00+00:00         NaN         NaN         NaN   \n",
       "       2005-01-23 00:00:00+00:00         NaN         NaN         NaN   \n",
       "       2005-01-30 00:00:00+00:00         NaN         NaN         NaN   \n",
       "\n",
       "                                  return_06w  return_12w  return_52w  \\\n",
       "ticker date                                                            \n",
       "IYR    2005-01-02 00:00:00+00:00         NaN         NaN         NaN   \n",
       "       2005-01-09 00:00:00+00:00         NaN         NaN         NaN   \n",
       "       2005-01-16 00:00:00+00:00         NaN         NaN         NaN   \n",
       "       2005-01-23 00:00:00+00:00         NaN         NaN         NaN   \n",
       "       2005-01-30 00:00:00+00:00         NaN         NaN         NaN   \n",
       "\n",
       "                                    Mkt-RF       SMB      HML      RMW  ...  \\\n",
       "ticker date                                                             ...   \n",
       "IYR    2005-01-02 00:00:00+00:00  0.100716  0.041236  0.02016 -0.04512  ...   \n",
       "       2005-01-09 00:00:00+00:00  0.100716  0.041236  0.02016 -0.04512  ...   \n",
       "       2005-01-16 00:00:00+00:00  0.100716  0.041236  0.02016 -0.04512  ...   \n",
       "       2005-01-23 00:00:00+00:00  0.100716  0.041236  0.02016 -0.04512  ...   \n",
       "       2005-01-30 00:00:00+00:00  0.100716  0.041236  0.02016 -0.04512  ...   \n",
       "\n",
       "                                  oil_diff  inflacion_diff  leading_diff  \\\n",
       "ticker date                                                                \n",
       "IYR    2005-01-02 00:00:00+00:00       NaN             NaN           NaN   \n",
       "       2005-01-09 00:00:00+00:00       NaN             NaN           NaN   \n",
       "       2005-01-16 00:00:00+00:00       NaN             NaN           NaN   \n",
       "       2005-01-23 00:00:00+00:00       NaN             NaN           NaN   \n",
       "       2005-01-30 00:00:00+00:00       NaN             NaN           NaN   \n",
       "\n",
       "                                  vix_diff  vixoil_diff  weekjobclaims_diff  \\\n",
       "ticker date                                                                   \n",
       "IYR    2005-01-02 00:00:00+00:00       NaN          NaN                 NaN   \n",
       "       2005-01-09 00:00:00+00:00       NaN          NaN                 NaN   \n",
       "       2005-01-16 00:00:00+00:00       NaN          NaN                 NaN   \n",
       "       2005-01-23 00:00:00+00:00       NaN          NaN                 NaN   \n",
       "       2005-01-30 00:00:00+00:00       NaN          NaN                 NaN   \n",
       "\n",
       "                                  retail_sales_percent_diff  \\\n",
       "ticker date                                                   \n",
       "IYR    2005-01-02 00:00:00+00:00                        NaN   \n",
       "       2005-01-09 00:00:00+00:00                        NaN   \n",
       "       2005-01-16 00:00:00+00:00                        NaN   \n",
       "       2005-01-23 00:00:00+00:00                        NaN   \n",
       "       2005-01-30 00:00:00+00:00                        NaN   \n",
       "\n",
       "                                  retail_sales_diff us_asset_balance_diff  \\\n",
       "ticker date                                                                 \n",
       "IYR    2005-01-02 00:00:00+00:00                NaN                   NaN   \n",
       "       2005-01-09 00:00:00+00:00                NaN                   NaN   \n",
       "       2005-01-16 00:00:00+00:00                NaN                   NaN   \n",
       "       2005-01-23 00:00:00+00:00                NaN                   NaN   \n",
       "       2005-01-30 00:00:00+00:00                NaN                   NaN   \n",
       "\n",
       "                                  1y_yield_diff  \n",
       "ticker date                                      \n",
       "IYR    2005-01-02 00:00:00+00:00            NaN  \n",
       "       2005-01-09 00:00:00+00:00            NaN  \n",
       "       2005-01-16 00:00:00+00:00            NaN  \n",
       "       2005-01-23 00:00:00+00:00            NaN  \n",
       "       2005-01-30 00:00:00+00:00            NaN  \n",
       "\n",
       "[5 rows x 64 columns]"
      ]
     },
     "execution_count": 11,
     "metadata": {},
     "output_type": "execute_result"
    }
   ],
   "source": [
    "data = pd.read_parquet('data/data.parquet')\n",
    "print(data.columns)\n",
    "data.head()"
   ]
  },
  {
   "cell_type": "code",
   "execution_count": 12,
   "metadata": {
    "ExecuteTime": {
     "end_time": "2020-06-21T03:15:58.751241Z",
     "start_time": "2020-06-21T03:15:58.744605Z"
    },
    "execution": {
     "iopub.execute_input": "2024-09-23T16:39:05.579870Z",
     "iopub.status.busy": "2024-09-23T16:39:05.579870Z",
     "iopub.status.idle": "2024-09-23T16:39:05.595507Z",
     "shell.execute_reply": "2024-09-23T16:39:05.595507Z"
    }
   },
   "outputs": [],
   "source": [
    "results_path = Path('results', 'us_stocks')\n",
    "\n",
    "if not results_path.exists():\n",
    "    results_path.mkdir(parents=True)"
   ]
  },
  {
   "cell_type": "code",
   "execution_count": 13,
   "metadata": {
    "execution": {
     "iopub.execute_input": "2024-09-23T16:39:05.298319Z",
     "iopub.status.busy": "2024-09-23T16:39:05.298319Z",
     "iopub.status.idle": "2024-09-23T16:39:05.329617Z",
     "shell.execute_reply": "2024-09-23T16:39:05.329617Z"
    }
   },
   "outputs": [
    {
     "name": "stdout",
     "output_type": "stream",
     "text": [
      "<class 'pandas.core.frame.DataFrame'>\n",
      "MultiIndex: 11368 entries, ('IYR', Timestamp('2005-01-02 00:00:00+0000', tz='UTC')) to ('XLY', Timestamp('2024-11-10 00:00:00+0000', tz='UTC'))\n",
      "Data columns (total 64 columns):\n",
      " #   Column                     Non-Null Count  Dtype  \n",
      "---  ------                     --------------  -----  \n",
      " 0   return_01w                 10796 non-null  float64\n",
      " 1   return_02w                 10796 non-null  float64\n",
      " 2   return_03w                 10796 non-null  float64\n",
      " 3   return_06w                 10796 non-null  float64\n",
      " 4   return_12w                 10796 non-null  float64\n",
      " 5   return_52w                 10796 non-null  float64\n",
      " 6   Mkt-RF                     11368 non-null  float64\n",
      " 7   SMB                        11368 non-null  float64\n",
      " 8   HML                        11368 non-null  float64\n",
      " 9   RMW                        11368 non-null  float64\n",
      " 10  CMA                        11368 non-null  float64\n",
      " 11  momentum_02                10796 non-null  float64\n",
      " 12  momentum_03                10796 non-null  float64\n",
      " 13  momentum_06                10796 non-null  float64\n",
      " 14  momentum_12                10796 non-null  float64\n",
      " 15  momentum_52                10796 non-null  float64\n",
      " 16  momentum_3_12              10796 non-null  float64\n",
      " 17  month                      11368 non-null  int32  \n",
      " 18  sector                     11368 non-null  object \n",
      " 19  return_01w_t-1             10785 non-null  float64\n",
      " 20  return_01w_t-2             10774 non-null  float64\n",
      " 21  return_01w_t-3             10763 non-null  float64\n",
      " 22  return_01w_t-4             10752 non-null  float64\n",
      " 23  return_01w_t-5             10741 non-null  float64\n",
      " 24  return_01w_t-6             10730 non-null  float64\n",
      " 25  target_01w                 10796 non-null  float64\n",
      " 26  target_02w                 10796 non-null  float64\n",
      " 27  target_03w                 10796 non-null  float64\n",
      " 28  target_06w                 10796 non-null  float64\n",
      " 29  target_12w                 10796 non-null  float64\n",
      " 30  recession                  10054 non-null  float64\n",
      " 31  yield_curve                10054 non-null  float64\n",
      " 32  corp_oas                   10054 non-null  float64\n",
      " 33  hy_oas                     10054 non-null  float64\n",
      " 34  eu_hy_oas                  10054 non-null  float64\n",
      " 35  sentiment                  10054 non-null  float64\n",
      " 36  real_gdp                   10054 non-null  float64\n",
      " 37  oil                        10054 non-null  float64\n",
      " 38  inflacion                  10054 non-null  float64\n",
      " 39  leading                    10054 non-null  float64\n",
      " 40  vix                        10054 non-null  float64\n",
      " 41  vixoil                     10054 non-null  float64\n",
      " 42  weekjobclaims              10054 non-null  float64\n",
      " 43  retail_sales_percent       10054 non-null  float64\n",
      " 44  retail_sales               10054 non-null  float64\n",
      " 45  1y_yield                   10054 non-null  float64\n",
      " 46  recession_diff             10043 non-null  float64\n",
      " 47  yield_curve_diff           10043 non-null  float64\n",
      " 48  corp_oas_diff              10043 non-null  float64\n",
      " 49  hy_oas_diff                10043 non-null  float64\n",
      " 50  eu_hy_oas_diff             10043 non-null  float64\n",
      " 51  sentiment_diff             10043 non-null  float64\n",
      " 52  empleo_diff                10043 non-null  float64\n",
      " 53  real_gdp_diff              10043 non-null  float64\n",
      " 54  oil_diff                   10043 non-null  float64\n",
      " 55  inflacion_diff             10043 non-null  float64\n",
      " 56  leading_diff               10043 non-null  float64\n",
      " 57  vix_diff                   10043 non-null  float64\n",
      " 58  vixoil_diff                10043 non-null  float64\n",
      " 59  weekjobclaims_diff         10043 non-null  float64\n",
      " 60  retail_sales_percent_diff  10043 non-null  float64\n",
      " 61  retail_sales_diff          10043 non-null  float64\n",
      " 62  us_asset_balance_diff      10043 non-null  float64\n",
      " 63  1y_yield_diff              10043 non-null  float64\n",
      "dtypes: float64(62), int32(1), object(1)\n",
      "memory usage: 5.6+ MB\n"
     ]
    }
   ],
   "source": [
    "data.info()"
   ]
  },
  {
   "cell_type": "code",
   "execution_count": 14,
   "metadata": {
    "execution": {
     "iopub.execute_input": "2024-09-23T16:39:05.360857Z",
     "iopub.status.busy": "2024-09-23T16:39:05.360857Z",
     "iopub.status.idle": "2024-09-23T16:39:05.423714Z",
     "shell.execute_reply": "2024-09-23T16:39:05.423714Z"
    }
   },
   "outputs": [
    {
     "data": {
      "text/html": [
       "<div>\n",
       "<style scoped>\n",
       "    .dataframe tbody tr th:only-of-type {\n",
       "        vertical-align: middle;\n",
       "    }\n",
       "\n",
       "    .dataframe tbody tr th {\n",
       "        vertical-align: top;\n",
       "    }\n",
       "\n",
       "    .dataframe thead th {\n",
       "        text-align: right;\n",
       "    }\n",
       "</style>\n",
       "<table border=\"1\" class=\"dataframe\">\n",
       "  <thead>\n",
       "    <tr style=\"text-align: right;\">\n",
       "      <th></th>\n",
       "      <th></th>\n",
       "      <th>return_01w</th>\n",
       "      <th>return_02w</th>\n",
       "      <th>return_03w</th>\n",
       "      <th>return_06w</th>\n",
       "      <th>return_12w</th>\n",
       "      <th>return_52w</th>\n",
       "      <th>Mkt-RF</th>\n",
       "      <th>SMB</th>\n",
       "      <th>HML</th>\n",
       "      <th>RMW</th>\n",
       "      <th>...</th>\n",
       "      <th>oil_diff</th>\n",
       "      <th>inflacion_diff</th>\n",
       "      <th>leading_diff</th>\n",
       "      <th>vix_diff</th>\n",
       "      <th>vixoil_diff</th>\n",
       "      <th>weekjobclaims_diff</th>\n",
       "      <th>retail_sales_percent_diff</th>\n",
       "      <th>retail_sales_diff</th>\n",
       "      <th>us_asset_balance_diff</th>\n",
       "      <th>1y_yield_diff</th>\n",
       "    </tr>\n",
       "    <tr>\n",
       "      <th>ticker</th>\n",
       "      <th>date</th>\n",
       "      <th></th>\n",
       "      <th></th>\n",
       "      <th></th>\n",
       "      <th></th>\n",
       "      <th></th>\n",
       "      <th></th>\n",
       "      <th></th>\n",
       "      <th></th>\n",
       "      <th></th>\n",
       "      <th></th>\n",
       "      <th></th>\n",
       "      <th></th>\n",
       "      <th></th>\n",
       "      <th></th>\n",
       "      <th></th>\n",
       "      <th></th>\n",
       "      <th></th>\n",
       "      <th></th>\n",
       "      <th></th>\n",
       "      <th></th>\n",
       "      <th></th>\n",
       "    </tr>\n",
       "  </thead>\n",
       "  <tbody>\n",
       "    <tr>\n",
       "      <th rowspan=\"50\" valign=\"top\">IYR</th>\n",
       "      <th>2005-01-02 00:00:00+00:00</th>\n",
       "      <td>NaN</td>\n",
       "      <td>NaN</td>\n",
       "      <td>NaN</td>\n",
       "      <td>NaN</td>\n",
       "      <td>NaN</td>\n",
       "      <td>NaN</td>\n",
       "      <td>0.100716</td>\n",
       "      <td>0.041236</td>\n",
       "      <td>0.02016</td>\n",
       "      <td>-0.04512</td>\n",
       "      <td>...</td>\n",
       "      <td>NaN</td>\n",
       "      <td>NaN</td>\n",
       "      <td>NaN</td>\n",
       "      <td>NaN</td>\n",
       "      <td>NaN</td>\n",
       "      <td>NaN</td>\n",
       "      <td>NaN</td>\n",
       "      <td>NaN</td>\n",
       "      <td>NaN</td>\n",
       "      <td>NaN</td>\n",
       "    </tr>\n",
       "    <tr>\n",
       "      <th>2005-01-09 00:00:00+00:00</th>\n",
       "      <td>NaN</td>\n",
       "      <td>NaN</td>\n",
       "      <td>NaN</td>\n",
       "      <td>NaN</td>\n",
       "      <td>NaN</td>\n",
       "      <td>NaN</td>\n",
       "      <td>0.100716</td>\n",
       "      <td>0.041236</td>\n",
       "      <td>0.02016</td>\n",
       "      <td>-0.04512</td>\n",
       "      <td>...</td>\n",
       "      <td>NaN</td>\n",
       "      <td>NaN</td>\n",
       "      <td>NaN</td>\n",
       "      <td>NaN</td>\n",
       "      <td>NaN</td>\n",
       "      <td>NaN</td>\n",
       "      <td>NaN</td>\n",
       "      <td>NaN</td>\n",
       "      <td>NaN</td>\n",
       "      <td>NaN</td>\n",
       "    </tr>\n",
       "    <tr>\n",
       "      <th>2005-01-16 00:00:00+00:00</th>\n",
       "      <td>NaN</td>\n",
       "      <td>NaN</td>\n",
       "      <td>NaN</td>\n",
       "      <td>NaN</td>\n",
       "      <td>NaN</td>\n",
       "      <td>NaN</td>\n",
       "      <td>0.100716</td>\n",
       "      <td>0.041236</td>\n",
       "      <td>0.02016</td>\n",
       "      <td>-0.04512</td>\n",
       "      <td>...</td>\n",
       "      <td>NaN</td>\n",
       "      <td>NaN</td>\n",
       "      <td>NaN</td>\n",
       "      <td>NaN</td>\n",
       "      <td>NaN</td>\n",
       "      <td>NaN</td>\n",
       "      <td>NaN</td>\n",
       "      <td>NaN</td>\n",
       "      <td>NaN</td>\n",
       "      <td>NaN</td>\n",
       "    </tr>\n",
       "    <tr>\n",
       "      <th>2005-01-23 00:00:00+00:00</th>\n",
       "      <td>NaN</td>\n",
       "      <td>NaN</td>\n",
       "      <td>NaN</td>\n",
       "      <td>NaN</td>\n",
       "      <td>NaN</td>\n",
       "      <td>NaN</td>\n",
       "      <td>0.100716</td>\n",
       "      <td>0.041236</td>\n",
       "      <td>0.02016</td>\n",
       "      <td>-0.04512</td>\n",
       "      <td>...</td>\n",
       "      <td>NaN</td>\n",
       "      <td>NaN</td>\n",
       "      <td>NaN</td>\n",
       "      <td>NaN</td>\n",
       "      <td>NaN</td>\n",
       "      <td>NaN</td>\n",
       "      <td>NaN</td>\n",
       "      <td>NaN</td>\n",
       "      <td>NaN</td>\n",
       "      <td>NaN</td>\n",
       "    </tr>\n",
       "    <tr>\n",
       "      <th>2005-01-30 00:00:00+00:00</th>\n",
       "      <td>NaN</td>\n",
       "      <td>NaN</td>\n",
       "      <td>NaN</td>\n",
       "      <td>NaN</td>\n",
       "      <td>NaN</td>\n",
       "      <td>NaN</td>\n",
       "      <td>0.100716</td>\n",
       "      <td>0.041236</td>\n",
       "      <td>0.02016</td>\n",
       "      <td>-0.04512</td>\n",
       "      <td>...</td>\n",
       "      <td>NaN</td>\n",
       "      <td>NaN</td>\n",
       "      <td>NaN</td>\n",
       "      <td>NaN</td>\n",
       "      <td>NaN</td>\n",
       "      <td>NaN</td>\n",
       "      <td>NaN</td>\n",
       "      <td>NaN</td>\n",
       "      <td>NaN</td>\n",
       "      <td>NaN</td>\n",
       "    </tr>\n",
       "    <tr>\n",
       "      <th>2005-02-06 00:00:00+00:00</th>\n",
       "      <td>NaN</td>\n",
       "      <td>NaN</td>\n",
       "      <td>NaN</td>\n",
       "      <td>NaN</td>\n",
       "      <td>NaN</td>\n",
       "      <td>NaN</td>\n",
       "      <td>0.100716</td>\n",
       "      <td>0.041236</td>\n",
       "      <td>0.02016</td>\n",
       "      <td>-0.04512</td>\n",
       "      <td>...</td>\n",
       "      <td>NaN</td>\n",
       "      <td>NaN</td>\n",
       "      <td>NaN</td>\n",
       "      <td>NaN</td>\n",
       "      <td>NaN</td>\n",
       "      <td>NaN</td>\n",
       "      <td>NaN</td>\n",
       "      <td>NaN</td>\n",
       "      <td>NaN</td>\n",
       "      <td>NaN</td>\n",
       "    </tr>\n",
       "    <tr>\n",
       "      <th>2005-02-13 00:00:00+00:00</th>\n",
       "      <td>NaN</td>\n",
       "      <td>NaN</td>\n",
       "      <td>NaN</td>\n",
       "      <td>NaN</td>\n",
       "      <td>NaN</td>\n",
       "      <td>NaN</td>\n",
       "      <td>0.100716</td>\n",
       "      <td>0.041236</td>\n",
       "      <td>0.02016</td>\n",
       "      <td>-0.04512</td>\n",
       "      <td>...</td>\n",
       "      <td>NaN</td>\n",
       "      <td>NaN</td>\n",
       "      <td>NaN</td>\n",
       "      <td>NaN</td>\n",
       "      <td>NaN</td>\n",
       "      <td>NaN</td>\n",
       "      <td>NaN</td>\n",
       "      <td>NaN</td>\n",
       "      <td>NaN</td>\n",
       "      <td>NaN</td>\n",
       "    </tr>\n",
       "    <tr>\n",
       "      <th>2005-02-20 00:00:00+00:00</th>\n",
       "      <td>NaN</td>\n",
       "      <td>NaN</td>\n",
       "      <td>NaN</td>\n",
       "      <td>NaN</td>\n",
       "      <td>NaN</td>\n",
       "      <td>NaN</td>\n",
       "      <td>0.100716</td>\n",
       "      <td>0.041236</td>\n",
       "      <td>0.02016</td>\n",
       "      <td>-0.04512</td>\n",
       "      <td>...</td>\n",
       "      <td>NaN</td>\n",
       "      <td>NaN</td>\n",
       "      <td>NaN</td>\n",
       "      <td>NaN</td>\n",
       "      <td>NaN</td>\n",
       "      <td>NaN</td>\n",
       "      <td>NaN</td>\n",
       "      <td>NaN</td>\n",
       "      <td>NaN</td>\n",
       "      <td>NaN</td>\n",
       "    </tr>\n",
       "    <tr>\n",
       "      <th>2005-02-27 00:00:00+00:00</th>\n",
       "      <td>NaN</td>\n",
       "      <td>NaN</td>\n",
       "      <td>NaN</td>\n",
       "      <td>NaN</td>\n",
       "      <td>NaN</td>\n",
       "      <td>NaN</td>\n",
       "      <td>0.100716</td>\n",
       "      <td>0.041236</td>\n",
       "      <td>0.02016</td>\n",
       "      <td>-0.04512</td>\n",
       "      <td>...</td>\n",
       "      <td>NaN</td>\n",
       "      <td>NaN</td>\n",
       "      <td>NaN</td>\n",
       "      <td>NaN</td>\n",
       "      <td>NaN</td>\n",
       "      <td>NaN</td>\n",
       "      <td>NaN</td>\n",
       "      <td>NaN</td>\n",
       "      <td>NaN</td>\n",
       "      <td>NaN</td>\n",
       "    </tr>\n",
       "    <tr>\n",
       "      <th>2005-03-06 00:00:00+00:00</th>\n",
       "      <td>NaN</td>\n",
       "      <td>NaN</td>\n",
       "      <td>NaN</td>\n",
       "      <td>NaN</td>\n",
       "      <td>NaN</td>\n",
       "      <td>NaN</td>\n",
       "      <td>0.100716</td>\n",
       "      <td>0.041236</td>\n",
       "      <td>0.02016</td>\n",
       "      <td>-0.04512</td>\n",
       "      <td>...</td>\n",
       "      <td>NaN</td>\n",
       "      <td>NaN</td>\n",
       "      <td>NaN</td>\n",
       "      <td>NaN</td>\n",
       "      <td>NaN</td>\n",
       "      <td>NaN</td>\n",
       "      <td>NaN</td>\n",
       "      <td>NaN</td>\n",
       "      <td>NaN</td>\n",
       "      <td>NaN</td>\n",
       "    </tr>\n",
       "    <tr>\n",
       "      <th>2005-03-13 00:00:00+00:00</th>\n",
       "      <td>NaN</td>\n",
       "      <td>NaN</td>\n",
       "      <td>NaN</td>\n",
       "      <td>NaN</td>\n",
       "      <td>NaN</td>\n",
       "      <td>NaN</td>\n",
       "      <td>0.100716</td>\n",
       "      <td>0.041236</td>\n",
       "      <td>0.02016</td>\n",
       "      <td>-0.04512</td>\n",
       "      <td>...</td>\n",
       "      <td>NaN</td>\n",
       "      <td>NaN</td>\n",
       "      <td>NaN</td>\n",
       "      <td>NaN</td>\n",
       "      <td>NaN</td>\n",
       "      <td>NaN</td>\n",
       "      <td>NaN</td>\n",
       "      <td>NaN</td>\n",
       "      <td>NaN</td>\n",
       "      <td>NaN</td>\n",
       "    </tr>\n",
       "    <tr>\n",
       "      <th>2005-03-20 00:00:00+00:00</th>\n",
       "      <td>NaN</td>\n",
       "      <td>NaN</td>\n",
       "      <td>NaN</td>\n",
       "      <td>NaN</td>\n",
       "      <td>NaN</td>\n",
       "      <td>NaN</td>\n",
       "      <td>0.100716</td>\n",
       "      <td>0.041236</td>\n",
       "      <td>0.02016</td>\n",
       "      <td>-0.04512</td>\n",
       "      <td>...</td>\n",
       "      <td>NaN</td>\n",
       "      <td>NaN</td>\n",
       "      <td>NaN</td>\n",
       "      <td>NaN</td>\n",
       "      <td>NaN</td>\n",
       "      <td>NaN</td>\n",
       "      <td>NaN</td>\n",
       "      <td>NaN</td>\n",
       "      <td>NaN</td>\n",
       "      <td>NaN</td>\n",
       "    </tr>\n",
       "    <tr>\n",
       "      <th>2005-03-27 00:00:00+00:00</th>\n",
       "      <td>NaN</td>\n",
       "      <td>NaN</td>\n",
       "      <td>NaN</td>\n",
       "      <td>NaN</td>\n",
       "      <td>NaN</td>\n",
       "      <td>NaN</td>\n",
       "      <td>0.100716</td>\n",
       "      <td>0.041236</td>\n",
       "      <td>0.02016</td>\n",
       "      <td>-0.04512</td>\n",
       "      <td>...</td>\n",
       "      <td>NaN</td>\n",
       "      <td>NaN</td>\n",
       "      <td>NaN</td>\n",
       "      <td>NaN</td>\n",
       "      <td>NaN</td>\n",
       "      <td>NaN</td>\n",
       "      <td>NaN</td>\n",
       "      <td>NaN</td>\n",
       "      <td>NaN</td>\n",
       "      <td>NaN</td>\n",
       "    </tr>\n",
       "    <tr>\n",
       "      <th>2005-04-03 00:00:00+00:00</th>\n",
       "      <td>NaN</td>\n",
       "      <td>NaN</td>\n",
       "      <td>NaN</td>\n",
       "      <td>NaN</td>\n",
       "      <td>NaN</td>\n",
       "      <td>NaN</td>\n",
       "      <td>0.100716</td>\n",
       "      <td>0.041236</td>\n",
       "      <td>0.02016</td>\n",
       "      <td>-0.04512</td>\n",
       "      <td>...</td>\n",
       "      <td>NaN</td>\n",
       "      <td>NaN</td>\n",
       "      <td>NaN</td>\n",
       "      <td>NaN</td>\n",
       "      <td>NaN</td>\n",
       "      <td>NaN</td>\n",
       "      <td>NaN</td>\n",
       "      <td>NaN</td>\n",
       "      <td>NaN</td>\n",
       "      <td>NaN</td>\n",
       "    </tr>\n",
       "    <tr>\n",
       "      <th>2005-04-10 00:00:00+00:00</th>\n",
       "      <td>NaN</td>\n",
       "      <td>NaN</td>\n",
       "      <td>NaN</td>\n",
       "      <td>NaN</td>\n",
       "      <td>NaN</td>\n",
       "      <td>NaN</td>\n",
       "      <td>0.100716</td>\n",
       "      <td>0.041236</td>\n",
       "      <td>0.02016</td>\n",
       "      <td>-0.04512</td>\n",
       "      <td>...</td>\n",
       "      <td>NaN</td>\n",
       "      <td>NaN</td>\n",
       "      <td>NaN</td>\n",
       "      <td>NaN</td>\n",
       "      <td>NaN</td>\n",
       "      <td>NaN</td>\n",
       "      <td>NaN</td>\n",
       "      <td>NaN</td>\n",
       "      <td>NaN</td>\n",
       "      <td>NaN</td>\n",
       "    </tr>\n",
       "    <tr>\n",
       "      <th>2005-04-17 00:00:00+00:00</th>\n",
       "      <td>NaN</td>\n",
       "      <td>NaN</td>\n",
       "      <td>NaN</td>\n",
       "      <td>NaN</td>\n",
       "      <td>NaN</td>\n",
       "      <td>NaN</td>\n",
       "      <td>0.100716</td>\n",
       "      <td>0.041236</td>\n",
       "      <td>0.02016</td>\n",
       "      <td>-0.04512</td>\n",
       "      <td>...</td>\n",
       "      <td>NaN</td>\n",
       "      <td>NaN</td>\n",
       "      <td>NaN</td>\n",
       "      <td>NaN</td>\n",
       "      <td>NaN</td>\n",
       "      <td>NaN</td>\n",
       "      <td>NaN</td>\n",
       "      <td>NaN</td>\n",
       "      <td>NaN</td>\n",
       "      <td>NaN</td>\n",
       "    </tr>\n",
       "    <tr>\n",
       "      <th>2005-04-24 00:00:00+00:00</th>\n",
       "      <td>NaN</td>\n",
       "      <td>NaN</td>\n",
       "      <td>NaN</td>\n",
       "      <td>NaN</td>\n",
       "      <td>NaN</td>\n",
       "      <td>NaN</td>\n",
       "      <td>0.100716</td>\n",
       "      <td>0.041236</td>\n",
       "      <td>0.02016</td>\n",
       "      <td>-0.04512</td>\n",
       "      <td>...</td>\n",
       "      <td>NaN</td>\n",
       "      <td>NaN</td>\n",
       "      <td>NaN</td>\n",
       "      <td>NaN</td>\n",
       "      <td>NaN</td>\n",
       "      <td>NaN</td>\n",
       "      <td>NaN</td>\n",
       "      <td>NaN</td>\n",
       "      <td>NaN</td>\n",
       "      <td>NaN</td>\n",
       "    </tr>\n",
       "    <tr>\n",
       "      <th>2005-05-01 00:00:00+00:00</th>\n",
       "      <td>NaN</td>\n",
       "      <td>NaN</td>\n",
       "      <td>NaN</td>\n",
       "      <td>NaN</td>\n",
       "      <td>NaN</td>\n",
       "      <td>NaN</td>\n",
       "      <td>0.100716</td>\n",
       "      <td>0.041236</td>\n",
       "      <td>0.02016</td>\n",
       "      <td>-0.04512</td>\n",
       "      <td>...</td>\n",
       "      <td>NaN</td>\n",
       "      <td>NaN</td>\n",
       "      <td>NaN</td>\n",
       "      <td>NaN</td>\n",
       "      <td>NaN</td>\n",
       "      <td>NaN</td>\n",
       "      <td>NaN</td>\n",
       "      <td>NaN</td>\n",
       "      <td>NaN</td>\n",
       "      <td>NaN</td>\n",
       "    </tr>\n",
       "    <tr>\n",
       "      <th>2005-05-08 00:00:00+00:00</th>\n",
       "      <td>NaN</td>\n",
       "      <td>NaN</td>\n",
       "      <td>NaN</td>\n",
       "      <td>NaN</td>\n",
       "      <td>NaN</td>\n",
       "      <td>NaN</td>\n",
       "      <td>0.100716</td>\n",
       "      <td>0.041236</td>\n",
       "      <td>0.02016</td>\n",
       "      <td>-0.04512</td>\n",
       "      <td>...</td>\n",
       "      <td>NaN</td>\n",
       "      <td>NaN</td>\n",
       "      <td>NaN</td>\n",
       "      <td>NaN</td>\n",
       "      <td>NaN</td>\n",
       "      <td>NaN</td>\n",
       "      <td>NaN</td>\n",
       "      <td>NaN</td>\n",
       "      <td>NaN</td>\n",
       "      <td>NaN</td>\n",
       "    </tr>\n",
       "    <tr>\n",
       "      <th>2005-05-15 00:00:00+00:00</th>\n",
       "      <td>NaN</td>\n",
       "      <td>NaN</td>\n",
       "      <td>NaN</td>\n",
       "      <td>NaN</td>\n",
       "      <td>NaN</td>\n",
       "      <td>NaN</td>\n",
       "      <td>0.100716</td>\n",
       "      <td>0.041236</td>\n",
       "      <td>0.02016</td>\n",
       "      <td>-0.04512</td>\n",
       "      <td>...</td>\n",
       "      <td>NaN</td>\n",
       "      <td>NaN</td>\n",
       "      <td>NaN</td>\n",
       "      <td>NaN</td>\n",
       "      <td>NaN</td>\n",
       "      <td>NaN</td>\n",
       "      <td>NaN</td>\n",
       "      <td>NaN</td>\n",
       "      <td>NaN</td>\n",
       "      <td>NaN</td>\n",
       "    </tr>\n",
       "    <tr>\n",
       "      <th>2005-05-22 00:00:00+00:00</th>\n",
       "      <td>NaN</td>\n",
       "      <td>NaN</td>\n",
       "      <td>NaN</td>\n",
       "      <td>NaN</td>\n",
       "      <td>NaN</td>\n",
       "      <td>NaN</td>\n",
       "      <td>0.100716</td>\n",
       "      <td>0.041236</td>\n",
       "      <td>0.02016</td>\n",
       "      <td>-0.04512</td>\n",
       "      <td>...</td>\n",
       "      <td>NaN</td>\n",
       "      <td>NaN</td>\n",
       "      <td>NaN</td>\n",
       "      <td>NaN</td>\n",
       "      <td>NaN</td>\n",
       "      <td>NaN</td>\n",
       "      <td>NaN</td>\n",
       "      <td>NaN</td>\n",
       "      <td>NaN</td>\n",
       "      <td>NaN</td>\n",
       "    </tr>\n",
       "    <tr>\n",
       "      <th>2005-05-29 00:00:00+00:00</th>\n",
       "      <td>NaN</td>\n",
       "      <td>NaN</td>\n",
       "      <td>NaN</td>\n",
       "      <td>NaN</td>\n",
       "      <td>NaN</td>\n",
       "      <td>NaN</td>\n",
       "      <td>0.100716</td>\n",
       "      <td>0.041236</td>\n",
       "      <td>0.02016</td>\n",
       "      <td>-0.04512</td>\n",
       "      <td>...</td>\n",
       "      <td>NaN</td>\n",
       "      <td>NaN</td>\n",
       "      <td>NaN</td>\n",
       "      <td>NaN</td>\n",
       "      <td>NaN</td>\n",
       "      <td>NaN</td>\n",
       "      <td>NaN</td>\n",
       "      <td>NaN</td>\n",
       "      <td>NaN</td>\n",
       "      <td>NaN</td>\n",
       "    </tr>\n",
       "    <tr>\n",
       "      <th>2005-06-05 00:00:00+00:00</th>\n",
       "      <td>NaN</td>\n",
       "      <td>NaN</td>\n",
       "      <td>NaN</td>\n",
       "      <td>NaN</td>\n",
       "      <td>NaN</td>\n",
       "      <td>NaN</td>\n",
       "      <td>0.100716</td>\n",
       "      <td>0.041236</td>\n",
       "      <td>0.02016</td>\n",
       "      <td>-0.04512</td>\n",
       "      <td>...</td>\n",
       "      <td>NaN</td>\n",
       "      <td>NaN</td>\n",
       "      <td>NaN</td>\n",
       "      <td>NaN</td>\n",
       "      <td>NaN</td>\n",
       "      <td>NaN</td>\n",
       "      <td>NaN</td>\n",
       "      <td>NaN</td>\n",
       "      <td>NaN</td>\n",
       "      <td>NaN</td>\n",
       "    </tr>\n",
       "    <tr>\n",
       "      <th>2005-06-12 00:00:00+00:00</th>\n",
       "      <td>NaN</td>\n",
       "      <td>NaN</td>\n",
       "      <td>NaN</td>\n",
       "      <td>NaN</td>\n",
       "      <td>NaN</td>\n",
       "      <td>NaN</td>\n",
       "      <td>0.100716</td>\n",
       "      <td>0.041236</td>\n",
       "      <td>0.02016</td>\n",
       "      <td>-0.04512</td>\n",
       "      <td>...</td>\n",
       "      <td>NaN</td>\n",
       "      <td>NaN</td>\n",
       "      <td>NaN</td>\n",
       "      <td>NaN</td>\n",
       "      <td>NaN</td>\n",
       "      <td>NaN</td>\n",
       "      <td>NaN</td>\n",
       "      <td>NaN</td>\n",
       "      <td>NaN</td>\n",
       "      <td>NaN</td>\n",
       "    </tr>\n",
       "    <tr>\n",
       "      <th>2005-06-19 00:00:00+00:00</th>\n",
       "      <td>NaN</td>\n",
       "      <td>NaN</td>\n",
       "      <td>NaN</td>\n",
       "      <td>NaN</td>\n",
       "      <td>NaN</td>\n",
       "      <td>NaN</td>\n",
       "      <td>0.100716</td>\n",
       "      <td>0.041236</td>\n",
       "      <td>0.02016</td>\n",
       "      <td>-0.04512</td>\n",
       "      <td>...</td>\n",
       "      <td>NaN</td>\n",
       "      <td>NaN</td>\n",
       "      <td>NaN</td>\n",
       "      <td>NaN</td>\n",
       "      <td>NaN</td>\n",
       "      <td>NaN</td>\n",
       "      <td>NaN</td>\n",
       "      <td>NaN</td>\n",
       "      <td>NaN</td>\n",
       "      <td>NaN</td>\n",
       "    </tr>\n",
       "    <tr>\n",
       "      <th>2005-06-26 00:00:00+00:00</th>\n",
       "      <td>NaN</td>\n",
       "      <td>NaN</td>\n",
       "      <td>NaN</td>\n",
       "      <td>NaN</td>\n",
       "      <td>NaN</td>\n",
       "      <td>NaN</td>\n",
       "      <td>0.100716</td>\n",
       "      <td>0.041236</td>\n",
       "      <td>0.02016</td>\n",
       "      <td>-0.04512</td>\n",
       "      <td>...</td>\n",
       "      <td>NaN</td>\n",
       "      <td>NaN</td>\n",
       "      <td>NaN</td>\n",
       "      <td>NaN</td>\n",
       "      <td>NaN</td>\n",
       "      <td>NaN</td>\n",
       "      <td>NaN</td>\n",
       "      <td>NaN</td>\n",
       "      <td>NaN</td>\n",
       "      <td>NaN</td>\n",
       "    </tr>\n",
       "    <tr>\n",
       "      <th>2005-07-03 00:00:00+00:00</th>\n",
       "      <td>NaN</td>\n",
       "      <td>NaN</td>\n",
       "      <td>NaN</td>\n",
       "      <td>NaN</td>\n",
       "      <td>NaN</td>\n",
       "      <td>NaN</td>\n",
       "      <td>0.100716</td>\n",
       "      <td>0.041236</td>\n",
       "      <td>0.02016</td>\n",
       "      <td>-0.04512</td>\n",
       "      <td>...</td>\n",
       "      <td>NaN</td>\n",
       "      <td>NaN</td>\n",
       "      <td>NaN</td>\n",
       "      <td>NaN</td>\n",
       "      <td>NaN</td>\n",
       "      <td>NaN</td>\n",
       "      <td>NaN</td>\n",
       "      <td>NaN</td>\n",
       "      <td>NaN</td>\n",
       "      <td>NaN</td>\n",
       "    </tr>\n",
       "    <tr>\n",
       "      <th>2005-07-10 00:00:00+00:00</th>\n",
       "      <td>NaN</td>\n",
       "      <td>NaN</td>\n",
       "      <td>NaN</td>\n",
       "      <td>NaN</td>\n",
       "      <td>NaN</td>\n",
       "      <td>NaN</td>\n",
       "      <td>0.100716</td>\n",
       "      <td>0.041236</td>\n",
       "      <td>0.02016</td>\n",
       "      <td>-0.04512</td>\n",
       "      <td>...</td>\n",
       "      <td>NaN</td>\n",
       "      <td>NaN</td>\n",
       "      <td>NaN</td>\n",
       "      <td>NaN</td>\n",
       "      <td>NaN</td>\n",
       "      <td>NaN</td>\n",
       "      <td>NaN</td>\n",
       "      <td>NaN</td>\n",
       "      <td>NaN</td>\n",
       "      <td>NaN</td>\n",
       "    </tr>\n",
       "    <tr>\n",
       "      <th>2005-07-17 00:00:00+00:00</th>\n",
       "      <td>NaN</td>\n",
       "      <td>NaN</td>\n",
       "      <td>NaN</td>\n",
       "      <td>NaN</td>\n",
       "      <td>NaN</td>\n",
       "      <td>NaN</td>\n",
       "      <td>0.100716</td>\n",
       "      <td>0.041236</td>\n",
       "      <td>0.02016</td>\n",
       "      <td>-0.04512</td>\n",
       "      <td>...</td>\n",
       "      <td>NaN</td>\n",
       "      <td>NaN</td>\n",
       "      <td>NaN</td>\n",
       "      <td>NaN</td>\n",
       "      <td>NaN</td>\n",
       "      <td>NaN</td>\n",
       "      <td>NaN</td>\n",
       "      <td>NaN</td>\n",
       "      <td>NaN</td>\n",
       "      <td>NaN</td>\n",
       "    </tr>\n",
       "    <tr>\n",
       "      <th>2005-07-24 00:00:00+00:00</th>\n",
       "      <td>NaN</td>\n",
       "      <td>NaN</td>\n",
       "      <td>NaN</td>\n",
       "      <td>NaN</td>\n",
       "      <td>NaN</td>\n",
       "      <td>NaN</td>\n",
       "      <td>0.100716</td>\n",
       "      <td>0.041236</td>\n",
       "      <td>0.02016</td>\n",
       "      <td>-0.04512</td>\n",
       "      <td>...</td>\n",
       "      <td>NaN</td>\n",
       "      <td>NaN</td>\n",
       "      <td>NaN</td>\n",
       "      <td>NaN</td>\n",
       "      <td>NaN</td>\n",
       "      <td>NaN</td>\n",
       "      <td>NaN</td>\n",
       "      <td>NaN</td>\n",
       "      <td>NaN</td>\n",
       "      <td>NaN</td>\n",
       "    </tr>\n",
       "    <tr>\n",
       "      <th>2005-07-31 00:00:00+00:00</th>\n",
       "      <td>NaN</td>\n",
       "      <td>NaN</td>\n",
       "      <td>NaN</td>\n",
       "      <td>NaN</td>\n",
       "      <td>NaN</td>\n",
       "      <td>NaN</td>\n",
       "      <td>0.100716</td>\n",
       "      <td>0.041236</td>\n",
       "      <td>0.02016</td>\n",
       "      <td>-0.04512</td>\n",
       "      <td>...</td>\n",
       "      <td>NaN</td>\n",
       "      <td>NaN</td>\n",
       "      <td>NaN</td>\n",
       "      <td>NaN</td>\n",
       "      <td>NaN</td>\n",
       "      <td>NaN</td>\n",
       "      <td>NaN</td>\n",
       "      <td>NaN</td>\n",
       "      <td>NaN</td>\n",
       "      <td>NaN</td>\n",
       "    </tr>\n",
       "    <tr>\n",
       "      <th>2005-08-07 00:00:00+00:00</th>\n",
       "      <td>NaN</td>\n",
       "      <td>NaN</td>\n",
       "      <td>NaN</td>\n",
       "      <td>NaN</td>\n",
       "      <td>NaN</td>\n",
       "      <td>NaN</td>\n",
       "      <td>0.100716</td>\n",
       "      <td>0.041236</td>\n",
       "      <td>0.02016</td>\n",
       "      <td>-0.04512</td>\n",
       "      <td>...</td>\n",
       "      <td>NaN</td>\n",
       "      <td>NaN</td>\n",
       "      <td>NaN</td>\n",
       "      <td>NaN</td>\n",
       "      <td>NaN</td>\n",
       "      <td>NaN</td>\n",
       "      <td>NaN</td>\n",
       "      <td>NaN</td>\n",
       "      <td>NaN</td>\n",
       "      <td>NaN</td>\n",
       "    </tr>\n",
       "    <tr>\n",
       "      <th>2005-08-14 00:00:00+00:00</th>\n",
       "      <td>NaN</td>\n",
       "      <td>NaN</td>\n",
       "      <td>NaN</td>\n",
       "      <td>NaN</td>\n",
       "      <td>NaN</td>\n",
       "      <td>NaN</td>\n",
       "      <td>0.100716</td>\n",
       "      <td>0.041236</td>\n",
       "      <td>0.02016</td>\n",
       "      <td>-0.04512</td>\n",
       "      <td>...</td>\n",
       "      <td>NaN</td>\n",
       "      <td>NaN</td>\n",
       "      <td>NaN</td>\n",
       "      <td>NaN</td>\n",
       "      <td>NaN</td>\n",
       "      <td>NaN</td>\n",
       "      <td>NaN</td>\n",
       "      <td>NaN</td>\n",
       "      <td>NaN</td>\n",
       "      <td>NaN</td>\n",
       "    </tr>\n",
       "    <tr>\n",
       "      <th>2005-08-21 00:00:00+00:00</th>\n",
       "      <td>NaN</td>\n",
       "      <td>NaN</td>\n",
       "      <td>NaN</td>\n",
       "      <td>NaN</td>\n",
       "      <td>NaN</td>\n",
       "      <td>NaN</td>\n",
       "      <td>0.100716</td>\n",
       "      <td>0.041236</td>\n",
       "      <td>0.02016</td>\n",
       "      <td>-0.04512</td>\n",
       "      <td>...</td>\n",
       "      <td>NaN</td>\n",
       "      <td>NaN</td>\n",
       "      <td>NaN</td>\n",
       "      <td>NaN</td>\n",
       "      <td>NaN</td>\n",
       "      <td>NaN</td>\n",
       "      <td>NaN</td>\n",
       "      <td>NaN</td>\n",
       "      <td>NaN</td>\n",
       "      <td>NaN</td>\n",
       "    </tr>\n",
       "    <tr>\n",
       "      <th>2005-08-28 00:00:00+00:00</th>\n",
       "      <td>NaN</td>\n",
       "      <td>NaN</td>\n",
       "      <td>NaN</td>\n",
       "      <td>NaN</td>\n",
       "      <td>NaN</td>\n",
       "      <td>NaN</td>\n",
       "      <td>0.100716</td>\n",
       "      <td>0.041236</td>\n",
       "      <td>0.02016</td>\n",
       "      <td>-0.04512</td>\n",
       "      <td>...</td>\n",
       "      <td>NaN</td>\n",
       "      <td>NaN</td>\n",
       "      <td>NaN</td>\n",
       "      <td>NaN</td>\n",
       "      <td>NaN</td>\n",
       "      <td>NaN</td>\n",
       "      <td>NaN</td>\n",
       "      <td>NaN</td>\n",
       "      <td>NaN</td>\n",
       "      <td>NaN</td>\n",
       "    </tr>\n",
       "    <tr>\n",
       "      <th>2005-09-04 00:00:00+00:00</th>\n",
       "      <td>NaN</td>\n",
       "      <td>NaN</td>\n",
       "      <td>NaN</td>\n",
       "      <td>NaN</td>\n",
       "      <td>NaN</td>\n",
       "      <td>NaN</td>\n",
       "      <td>0.100716</td>\n",
       "      <td>0.041236</td>\n",
       "      <td>0.02016</td>\n",
       "      <td>-0.04512</td>\n",
       "      <td>...</td>\n",
       "      <td>NaN</td>\n",
       "      <td>NaN</td>\n",
       "      <td>NaN</td>\n",
       "      <td>NaN</td>\n",
       "      <td>NaN</td>\n",
       "      <td>NaN</td>\n",
       "      <td>NaN</td>\n",
       "      <td>NaN</td>\n",
       "      <td>NaN</td>\n",
       "      <td>NaN</td>\n",
       "    </tr>\n",
       "    <tr>\n",
       "      <th>2005-09-11 00:00:00+00:00</th>\n",
       "      <td>NaN</td>\n",
       "      <td>NaN</td>\n",
       "      <td>NaN</td>\n",
       "      <td>NaN</td>\n",
       "      <td>NaN</td>\n",
       "      <td>NaN</td>\n",
       "      <td>0.100716</td>\n",
       "      <td>0.041236</td>\n",
       "      <td>0.02016</td>\n",
       "      <td>-0.04512</td>\n",
       "      <td>...</td>\n",
       "      <td>NaN</td>\n",
       "      <td>NaN</td>\n",
       "      <td>NaN</td>\n",
       "      <td>NaN</td>\n",
       "      <td>NaN</td>\n",
       "      <td>NaN</td>\n",
       "      <td>NaN</td>\n",
       "      <td>NaN</td>\n",
       "      <td>NaN</td>\n",
       "      <td>NaN</td>\n",
       "    </tr>\n",
       "    <tr>\n",
       "      <th>2005-09-18 00:00:00+00:00</th>\n",
       "      <td>NaN</td>\n",
       "      <td>NaN</td>\n",
       "      <td>NaN</td>\n",
       "      <td>NaN</td>\n",
       "      <td>NaN</td>\n",
       "      <td>NaN</td>\n",
       "      <td>0.100716</td>\n",
       "      <td>0.041236</td>\n",
       "      <td>0.02016</td>\n",
       "      <td>-0.04512</td>\n",
       "      <td>...</td>\n",
       "      <td>NaN</td>\n",
       "      <td>NaN</td>\n",
       "      <td>NaN</td>\n",
       "      <td>NaN</td>\n",
       "      <td>NaN</td>\n",
       "      <td>NaN</td>\n",
       "      <td>NaN</td>\n",
       "      <td>NaN</td>\n",
       "      <td>NaN</td>\n",
       "      <td>NaN</td>\n",
       "    </tr>\n",
       "    <tr>\n",
       "      <th>2005-09-25 00:00:00+00:00</th>\n",
       "      <td>NaN</td>\n",
       "      <td>NaN</td>\n",
       "      <td>NaN</td>\n",
       "      <td>NaN</td>\n",
       "      <td>NaN</td>\n",
       "      <td>NaN</td>\n",
       "      <td>0.100716</td>\n",
       "      <td>0.041236</td>\n",
       "      <td>0.02016</td>\n",
       "      <td>-0.04512</td>\n",
       "      <td>...</td>\n",
       "      <td>NaN</td>\n",
       "      <td>NaN</td>\n",
       "      <td>NaN</td>\n",
       "      <td>NaN</td>\n",
       "      <td>NaN</td>\n",
       "      <td>NaN</td>\n",
       "      <td>NaN</td>\n",
       "      <td>NaN</td>\n",
       "      <td>NaN</td>\n",
       "      <td>NaN</td>\n",
       "    </tr>\n",
       "    <tr>\n",
       "      <th>2005-10-02 00:00:00+00:00</th>\n",
       "      <td>NaN</td>\n",
       "      <td>NaN</td>\n",
       "      <td>NaN</td>\n",
       "      <td>NaN</td>\n",
       "      <td>NaN</td>\n",
       "      <td>NaN</td>\n",
       "      <td>0.100716</td>\n",
       "      <td>0.041236</td>\n",
       "      <td>0.02016</td>\n",
       "      <td>-0.04512</td>\n",
       "      <td>...</td>\n",
       "      <td>NaN</td>\n",
       "      <td>NaN</td>\n",
       "      <td>NaN</td>\n",
       "      <td>NaN</td>\n",
       "      <td>NaN</td>\n",
       "      <td>NaN</td>\n",
       "      <td>NaN</td>\n",
       "      <td>NaN</td>\n",
       "      <td>NaN</td>\n",
       "      <td>NaN</td>\n",
       "    </tr>\n",
       "    <tr>\n",
       "      <th>2005-10-09 00:00:00+00:00</th>\n",
       "      <td>NaN</td>\n",
       "      <td>NaN</td>\n",
       "      <td>NaN</td>\n",
       "      <td>NaN</td>\n",
       "      <td>NaN</td>\n",
       "      <td>NaN</td>\n",
       "      <td>0.100716</td>\n",
       "      <td>0.041236</td>\n",
       "      <td>0.02016</td>\n",
       "      <td>-0.04512</td>\n",
       "      <td>...</td>\n",
       "      <td>NaN</td>\n",
       "      <td>NaN</td>\n",
       "      <td>NaN</td>\n",
       "      <td>NaN</td>\n",
       "      <td>NaN</td>\n",
       "      <td>NaN</td>\n",
       "      <td>NaN</td>\n",
       "      <td>NaN</td>\n",
       "      <td>NaN</td>\n",
       "      <td>NaN</td>\n",
       "    </tr>\n",
       "    <tr>\n",
       "      <th>2005-10-16 00:00:00+00:00</th>\n",
       "      <td>NaN</td>\n",
       "      <td>NaN</td>\n",
       "      <td>NaN</td>\n",
       "      <td>NaN</td>\n",
       "      <td>NaN</td>\n",
       "      <td>NaN</td>\n",
       "      <td>0.100716</td>\n",
       "      <td>0.041236</td>\n",
       "      <td>0.02016</td>\n",
       "      <td>-0.04512</td>\n",
       "      <td>...</td>\n",
       "      <td>NaN</td>\n",
       "      <td>NaN</td>\n",
       "      <td>NaN</td>\n",
       "      <td>NaN</td>\n",
       "      <td>NaN</td>\n",
       "      <td>NaN</td>\n",
       "      <td>NaN</td>\n",
       "      <td>NaN</td>\n",
       "      <td>NaN</td>\n",
       "      <td>NaN</td>\n",
       "    </tr>\n",
       "    <tr>\n",
       "      <th>2005-10-23 00:00:00+00:00</th>\n",
       "      <td>NaN</td>\n",
       "      <td>NaN</td>\n",
       "      <td>NaN</td>\n",
       "      <td>NaN</td>\n",
       "      <td>NaN</td>\n",
       "      <td>NaN</td>\n",
       "      <td>0.100716</td>\n",
       "      <td>0.041236</td>\n",
       "      <td>0.02016</td>\n",
       "      <td>-0.04512</td>\n",
       "      <td>...</td>\n",
       "      <td>NaN</td>\n",
       "      <td>NaN</td>\n",
       "      <td>NaN</td>\n",
       "      <td>NaN</td>\n",
       "      <td>NaN</td>\n",
       "      <td>NaN</td>\n",
       "      <td>NaN</td>\n",
       "      <td>NaN</td>\n",
       "      <td>NaN</td>\n",
       "      <td>NaN</td>\n",
       "    </tr>\n",
       "    <tr>\n",
       "      <th>2005-10-30 00:00:00+00:00</th>\n",
       "      <td>NaN</td>\n",
       "      <td>NaN</td>\n",
       "      <td>NaN</td>\n",
       "      <td>NaN</td>\n",
       "      <td>NaN</td>\n",
       "      <td>NaN</td>\n",
       "      <td>0.100716</td>\n",
       "      <td>0.041236</td>\n",
       "      <td>0.02016</td>\n",
       "      <td>-0.04512</td>\n",
       "      <td>...</td>\n",
       "      <td>NaN</td>\n",
       "      <td>NaN</td>\n",
       "      <td>NaN</td>\n",
       "      <td>NaN</td>\n",
       "      <td>NaN</td>\n",
       "      <td>NaN</td>\n",
       "      <td>NaN</td>\n",
       "      <td>NaN</td>\n",
       "      <td>NaN</td>\n",
       "      <td>NaN</td>\n",
       "    </tr>\n",
       "    <tr>\n",
       "      <th>2005-11-06 00:00:00+00:00</th>\n",
       "      <td>NaN</td>\n",
       "      <td>NaN</td>\n",
       "      <td>NaN</td>\n",
       "      <td>NaN</td>\n",
       "      <td>NaN</td>\n",
       "      <td>NaN</td>\n",
       "      <td>0.100716</td>\n",
       "      <td>0.041236</td>\n",
       "      <td>0.02016</td>\n",
       "      <td>-0.04512</td>\n",
       "      <td>...</td>\n",
       "      <td>NaN</td>\n",
       "      <td>NaN</td>\n",
       "      <td>NaN</td>\n",
       "      <td>NaN</td>\n",
       "      <td>NaN</td>\n",
       "      <td>NaN</td>\n",
       "      <td>NaN</td>\n",
       "      <td>NaN</td>\n",
       "      <td>NaN</td>\n",
       "      <td>NaN</td>\n",
       "    </tr>\n",
       "    <tr>\n",
       "      <th>2005-11-13 00:00:00+00:00</th>\n",
       "      <td>NaN</td>\n",
       "      <td>NaN</td>\n",
       "      <td>NaN</td>\n",
       "      <td>NaN</td>\n",
       "      <td>NaN</td>\n",
       "      <td>NaN</td>\n",
       "      <td>0.100716</td>\n",
       "      <td>0.041236</td>\n",
       "      <td>0.02016</td>\n",
       "      <td>-0.04512</td>\n",
       "      <td>...</td>\n",
       "      <td>NaN</td>\n",
       "      <td>NaN</td>\n",
       "      <td>NaN</td>\n",
       "      <td>NaN</td>\n",
       "      <td>NaN</td>\n",
       "      <td>NaN</td>\n",
       "      <td>NaN</td>\n",
       "      <td>NaN</td>\n",
       "      <td>NaN</td>\n",
       "      <td>NaN</td>\n",
       "    </tr>\n",
       "    <tr>\n",
       "      <th>2005-11-20 00:00:00+00:00</th>\n",
       "      <td>NaN</td>\n",
       "      <td>NaN</td>\n",
       "      <td>NaN</td>\n",
       "      <td>NaN</td>\n",
       "      <td>NaN</td>\n",
       "      <td>NaN</td>\n",
       "      <td>0.100716</td>\n",
       "      <td>0.041236</td>\n",
       "      <td>0.02016</td>\n",
       "      <td>-0.04512</td>\n",
       "      <td>...</td>\n",
       "      <td>NaN</td>\n",
       "      <td>NaN</td>\n",
       "      <td>NaN</td>\n",
       "      <td>NaN</td>\n",
       "      <td>NaN</td>\n",
       "      <td>NaN</td>\n",
       "      <td>NaN</td>\n",
       "      <td>NaN</td>\n",
       "      <td>NaN</td>\n",
       "      <td>NaN</td>\n",
       "    </tr>\n",
       "    <tr>\n",
       "      <th>2005-11-27 00:00:00+00:00</th>\n",
       "      <td>NaN</td>\n",
       "      <td>NaN</td>\n",
       "      <td>NaN</td>\n",
       "      <td>NaN</td>\n",
       "      <td>NaN</td>\n",
       "      <td>NaN</td>\n",
       "      <td>0.100716</td>\n",
       "      <td>0.041236</td>\n",
       "      <td>0.02016</td>\n",
       "      <td>-0.04512</td>\n",
       "      <td>...</td>\n",
       "      <td>NaN</td>\n",
       "      <td>NaN</td>\n",
       "      <td>NaN</td>\n",
       "      <td>NaN</td>\n",
       "      <td>NaN</td>\n",
       "      <td>NaN</td>\n",
       "      <td>NaN</td>\n",
       "      <td>NaN</td>\n",
       "      <td>NaN</td>\n",
       "      <td>NaN</td>\n",
       "    </tr>\n",
       "    <tr>\n",
       "      <th>2005-12-04 00:00:00+00:00</th>\n",
       "      <td>NaN</td>\n",
       "      <td>NaN</td>\n",
       "      <td>NaN</td>\n",
       "      <td>NaN</td>\n",
       "      <td>NaN</td>\n",
       "      <td>NaN</td>\n",
       "      <td>0.100716</td>\n",
       "      <td>0.041236</td>\n",
       "      <td>0.02016</td>\n",
       "      <td>-0.04512</td>\n",
       "      <td>...</td>\n",
       "      <td>NaN</td>\n",
       "      <td>NaN</td>\n",
       "      <td>NaN</td>\n",
       "      <td>NaN</td>\n",
       "      <td>NaN</td>\n",
       "      <td>NaN</td>\n",
       "      <td>NaN</td>\n",
       "      <td>NaN</td>\n",
       "      <td>NaN</td>\n",
       "      <td>NaN</td>\n",
       "    </tr>\n",
       "    <tr>\n",
       "      <th>2005-12-11 00:00:00+00:00</th>\n",
       "      <td>NaN</td>\n",
       "      <td>NaN</td>\n",
       "      <td>NaN</td>\n",
       "      <td>NaN</td>\n",
       "      <td>NaN</td>\n",
       "      <td>NaN</td>\n",
       "      <td>0.100716</td>\n",
       "      <td>0.041236</td>\n",
       "      <td>0.02016</td>\n",
       "      <td>-0.04512</td>\n",
       "      <td>...</td>\n",
       "      <td>NaN</td>\n",
       "      <td>NaN</td>\n",
       "      <td>NaN</td>\n",
       "      <td>NaN</td>\n",
       "      <td>NaN</td>\n",
       "      <td>NaN</td>\n",
       "      <td>NaN</td>\n",
       "      <td>NaN</td>\n",
       "      <td>NaN</td>\n",
       "      <td>NaN</td>\n",
       "    </tr>\n",
       "  </tbody>\n",
       "</table>\n",
       "<p>50 rows × 64 columns</p>\n",
       "</div>"
      ],
      "text/plain": [
       "                                  return_01w  return_02w  return_03w  \\\n",
       "ticker date                                                            \n",
       "IYR    2005-01-02 00:00:00+00:00         NaN         NaN         NaN   \n",
       "       2005-01-09 00:00:00+00:00         NaN         NaN         NaN   \n",
       "       2005-01-16 00:00:00+00:00         NaN         NaN         NaN   \n",
       "       2005-01-23 00:00:00+00:00         NaN         NaN         NaN   \n",
       "       2005-01-30 00:00:00+00:00         NaN         NaN         NaN   \n",
       "       2005-02-06 00:00:00+00:00         NaN         NaN         NaN   \n",
       "       2005-02-13 00:00:00+00:00         NaN         NaN         NaN   \n",
       "       2005-02-20 00:00:00+00:00         NaN         NaN         NaN   \n",
       "       2005-02-27 00:00:00+00:00         NaN         NaN         NaN   \n",
       "       2005-03-06 00:00:00+00:00         NaN         NaN         NaN   \n",
       "       2005-03-13 00:00:00+00:00         NaN         NaN         NaN   \n",
       "       2005-03-20 00:00:00+00:00         NaN         NaN         NaN   \n",
       "       2005-03-27 00:00:00+00:00         NaN         NaN         NaN   \n",
       "       2005-04-03 00:00:00+00:00         NaN         NaN         NaN   \n",
       "       2005-04-10 00:00:00+00:00         NaN         NaN         NaN   \n",
       "       2005-04-17 00:00:00+00:00         NaN         NaN         NaN   \n",
       "       2005-04-24 00:00:00+00:00         NaN         NaN         NaN   \n",
       "       2005-05-01 00:00:00+00:00         NaN         NaN         NaN   \n",
       "       2005-05-08 00:00:00+00:00         NaN         NaN         NaN   \n",
       "       2005-05-15 00:00:00+00:00         NaN         NaN         NaN   \n",
       "       2005-05-22 00:00:00+00:00         NaN         NaN         NaN   \n",
       "       2005-05-29 00:00:00+00:00         NaN         NaN         NaN   \n",
       "       2005-06-05 00:00:00+00:00         NaN         NaN         NaN   \n",
       "       2005-06-12 00:00:00+00:00         NaN         NaN         NaN   \n",
       "       2005-06-19 00:00:00+00:00         NaN         NaN         NaN   \n",
       "       2005-06-26 00:00:00+00:00         NaN         NaN         NaN   \n",
       "       2005-07-03 00:00:00+00:00         NaN         NaN         NaN   \n",
       "       2005-07-10 00:00:00+00:00         NaN         NaN         NaN   \n",
       "       2005-07-17 00:00:00+00:00         NaN         NaN         NaN   \n",
       "       2005-07-24 00:00:00+00:00         NaN         NaN         NaN   \n",
       "       2005-07-31 00:00:00+00:00         NaN         NaN         NaN   \n",
       "       2005-08-07 00:00:00+00:00         NaN         NaN         NaN   \n",
       "       2005-08-14 00:00:00+00:00         NaN         NaN         NaN   \n",
       "       2005-08-21 00:00:00+00:00         NaN         NaN         NaN   \n",
       "       2005-08-28 00:00:00+00:00         NaN         NaN         NaN   \n",
       "       2005-09-04 00:00:00+00:00         NaN         NaN         NaN   \n",
       "       2005-09-11 00:00:00+00:00         NaN         NaN         NaN   \n",
       "       2005-09-18 00:00:00+00:00         NaN         NaN         NaN   \n",
       "       2005-09-25 00:00:00+00:00         NaN         NaN         NaN   \n",
       "       2005-10-02 00:00:00+00:00         NaN         NaN         NaN   \n",
       "       2005-10-09 00:00:00+00:00         NaN         NaN         NaN   \n",
       "       2005-10-16 00:00:00+00:00         NaN         NaN         NaN   \n",
       "       2005-10-23 00:00:00+00:00         NaN         NaN         NaN   \n",
       "       2005-10-30 00:00:00+00:00         NaN         NaN         NaN   \n",
       "       2005-11-06 00:00:00+00:00         NaN         NaN         NaN   \n",
       "       2005-11-13 00:00:00+00:00         NaN         NaN         NaN   \n",
       "       2005-11-20 00:00:00+00:00         NaN         NaN         NaN   \n",
       "       2005-11-27 00:00:00+00:00         NaN         NaN         NaN   \n",
       "       2005-12-04 00:00:00+00:00         NaN         NaN         NaN   \n",
       "       2005-12-11 00:00:00+00:00         NaN         NaN         NaN   \n",
       "\n",
       "                                  return_06w  return_12w  return_52w  \\\n",
       "ticker date                                                            \n",
       "IYR    2005-01-02 00:00:00+00:00         NaN         NaN         NaN   \n",
       "       2005-01-09 00:00:00+00:00         NaN         NaN         NaN   \n",
       "       2005-01-16 00:00:00+00:00         NaN         NaN         NaN   \n",
       "       2005-01-23 00:00:00+00:00         NaN         NaN         NaN   \n",
       "       2005-01-30 00:00:00+00:00         NaN         NaN         NaN   \n",
       "       2005-02-06 00:00:00+00:00         NaN         NaN         NaN   \n",
       "       2005-02-13 00:00:00+00:00         NaN         NaN         NaN   \n",
       "       2005-02-20 00:00:00+00:00         NaN         NaN         NaN   \n",
       "       2005-02-27 00:00:00+00:00         NaN         NaN         NaN   \n",
       "       2005-03-06 00:00:00+00:00         NaN         NaN         NaN   \n",
       "       2005-03-13 00:00:00+00:00         NaN         NaN         NaN   \n",
       "       2005-03-20 00:00:00+00:00         NaN         NaN         NaN   \n",
       "       2005-03-27 00:00:00+00:00         NaN         NaN         NaN   \n",
       "       2005-04-03 00:00:00+00:00         NaN         NaN         NaN   \n",
       "       2005-04-10 00:00:00+00:00         NaN         NaN         NaN   \n",
       "       2005-04-17 00:00:00+00:00         NaN         NaN         NaN   \n",
       "       2005-04-24 00:00:00+00:00         NaN         NaN         NaN   \n",
       "       2005-05-01 00:00:00+00:00         NaN         NaN         NaN   \n",
       "       2005-05-08 00:00:00+00:00         NaN         NaN         NaN   \n",
       "       2005-05-15 00:00:00+00:00         NaN         NaN         NaN   \n",
       "       2005-05-22 00:00:00+00:00         NaN         NaN         NaN   \n",
       "       2005-05-29 00:00:00+00:00         NaN         NaN         NaN   \n",
       "       2005-06-05 00:00:00+00:00         NaN         NaN         NaN   \n",
       "       2005-06-12 00:00:00+00:00         NaN         NaN         NaN   \n",
       "       2005-06-19 00:00:00+00:00         NaN         NaN         NaN   \n",
       "       2005-06-26 00:00:00+00:00         NaN         NaN         NaN   \n",
       "       2005-07-03 00:00:00+00:00         NaN         NaN         NaN   \n",
       "       2005-07-10 00:00:00+00:00         NaN         NaN         NaN   \n",
       "       2005-07-17 00:00:00+00:00         NaN         NaN         NaN   \n",
       "       2005-07-24 00:00:00+00:00         NaN         NaN         NaN   \n",
       "       2005-07-31 00:00:00+00:00         NaN         NaN         NaN   \n",
       "       2005-08-07 00:00:00+00:00         NaN         NaN         NaN   \n",
       "       2005-08-14 00:00:00+00:00         NaN         NaN         NaN   \n",
       "       2005-08-21 00:00:00+00:00         NaN         NaN         NaN   \n",
       "       2005-08-28 00:00:00+00:00         NaN         NaN         NaN   \n",
       "       2005-09-04 00:00:00+00:00         NaN         NaN         NaN   \n",
       "       2005-09-11 00:00:00+00:00         NaN         NaN         NaN   \n",
       "       2005-09-18 00:00:00+00:00         NaN         NaN         NaN   \n",
       "       2005-09-25 00:00:00+00:00         NaN         NaN         NaN   \n",
       "       2005-10-02 00:00:00+00:00         NaN         NaN         NaN   \n",
       "       2005-10-09 00:00:00+00:00         NaN         NaN         NaN   \n",
       "       2005-10-16 00:00:00+00:00         NaN         NaN         NaN   \n",
       "       2005-10-23 00:00:00+00:00         NaN         NaN         NaN   \n",
       "       2005-10-30 00:00:00+00:00         NaN         NaN         NaN   \n",
       "       2005-11-06 00:00:00+00:00         NaN         NaN         NaN   \n",
       "       2005-11-13 00:00:00+00:00         NaN         NaN         NaN   \n",
       "       2005-11-20 00:00:00+00:00         NaN         NaN         NaN   \n",
       "       2005-11-27 00:00:00+00:00         NaN         NaN         NaN   \n",
       "       2005-12-04 00:00:00+00:00         NaN         NaN         NaN   \n",
       "       2005-12-11 00:00:00+00:00         NaN         NaN         NaN   \n",
       "\n",
       "                                    Mkt-RF       SMB      HML      RMW  ...  \\\n",
       "ticker date                                                             ...   \n",
       "IYR    2005-01-02 00:00:00+00:00  0.100716  0.041236  0.02016 -0.04512  ...   \n",
       "       2005-01-09 00:00:00+00:00  0.100716  0.041236  0.02016 -0.04512  ...   \n",
       "       2005-01-16 00:00:00+00:00  0.100716  0.041236  0.02016 -0.04512  ...   \n",
       "       2005-01-23 00:00:00+00:00  0.100716  0.041236  0.02016 -0.04512  ...   \n",
       "       2005-01-30 00:00:00+00:00  0.100716  0.041236  0.02016 -0.04512  ...   \n",
       "       2005-02-06 00:00:00+00:00  0.100716  0.041236  0.02016 -0.04512  ...   \n",
       "       2005-02-13 00:00:00+00:00  0.100716  0.041236  0.02016 -0.04512  ...   \n",
       "       2005-02-20 00:00:00+00:00  0.100716  0.041236  0.02016 -0.04512  ...   \n",
       "       2005-02-27 00:00:00+00:00  0.100716  0.041236  0.02016 -0.04512  ...   \n",
       "       2005-03-06 00:00:00+00:00  0.100716  0.041236  0.02016 -0.04512  ...   \n",
       "       2005-03-13 00:00:00+00:00  0.100716  0.041236  0.02016 -0.04512  ...   \n",
       "       2005-03-20 00:00:00+00:00  0.100716  0.041236  0.02016 -0.04512  ...   \n",
       "       2005-03-27 00:00:00+00:00  0.100716  0.041236  0.02016 -0.04512  ...   \n",
       "       2005-04-03 00:00:00+00:00  0.100716  0.041236  0.02016 -0.04512  ...   \n",
       "       2005-04-10 00:00:00+00:00  0.100716  0.041236  0.02016 -0.04512  ...   \n",
       "       2005-04-17 00:00:00+00:00  0.100716  0.041236  0.02016 -0.04512  ...   \n",
       "       2005-04-24 00:00:00+00:00  0.100716  0.041236  0.02016 -0.04512  ...   \n",
       "       2005-05-01 00:00:00+00:00  0.100716  0.041236  0.02016 -0.04512  ...   \n",
       "       2005-05-08 00:00:00+00:00  0.100716  0.041236  0.02016 -0.04512  ...   \n",
       "       2005-05-15 00:00:00+00:00  0.100716  0.041236  0.02016 -0.04512  ...   \n",
       "       2005-05-22 00:00:00+00:00  0.100716  0.041236  0.02016 -0.04512  ...   \n",
       "       2005-05-29 00:00:00+00:00  0.100716  0.041236  0.02016 -0.04512  ...   \n",
       "       2005-06-05 00:00:00+00:00  0.100716  0.041236  0.02016 -0.04512  ...   \n",
       "       2005-06-12 00:00:00+00:00  0.100716  0.041236  0.02016 -0.04512  ...   \n",
       "       2005-06-19 00:00:00+00:00  0.100716  0.041236  0.02016 -0.04512  ...   \n",
       "       2005-06-26 00:00:00+00:00  0.100716  0.041236  0.02016 -0.04512  ...   \n",
       "       2005-07-03 00:00:00+00:00  0.100716  0.041236  0.02016 -0.04512  ...   \n",
       "       2005-07-10 00:00:00+00:00  0.100716  0.041236  0.02016 -0.04512  ...   \n",
       "       2005-07-17 00:00:00+00:00  0.100716  0.041236  0.02016 -0.04512  ...   \n",
       "       2005-07-24 00:00:00+00:00  0.100716  0.041236  0.02016 -0.04512  ...   \n",
       "       2005-07-31 00:00:00+00:00  0.100716  0.041236  0.02016 -0.04512  ...   \n",
       "       2005-08-07 00:00:00+00:00  0.100716  0.041236  0.02016 -0.04512  ...   \n",
       "       2005-08-14 00:00:00+00:00  0.100716  0.041236  0.02016 -0.04512  ...   \n",
       "       2005-08-21 00:00:00+00:00  0.100716  0.041236  0.02016 -0.04512  ...   \n",
       "       2005-08-28 00:00:00+00:00  0.100716  0.041236  0.02016 -0.04512  ...   \n",
       "       2005-09-04 00:00:00+00:00  0.100716  0.041236  0.02016 -0.04512  ...   \n",
       "       2005-09-11 00:00:00+00:00  0.100716  0.041236  0.02016 -0.04512  ...   \n",
       "       2005-09-18 00:00:00+00:00  0.100716  0.041236  0.02016 -0.04512  ...   \n",
       "       2005-09-25 00:00:00+00:00  0.100716  0.041236  0.02016 -0.04512  ...   \n",
       "       2005-10-02 00:00:00+00:00  0.100716  0.041236  0.02016 -0.04512  ...   \n",
       "       2005-10-09 00:00:00+00:00  0.100716  0.041236  0.02016 -0.04512  ...   \n",
       "       2005-10-16 00:00:00+00:00  0.100716  0.041236  0.02016 -0.04512  ...   \n",
       "       2005-10-23 00:00:00+00:00  0.100716  0.041236  0.02016 -0.04512  ...   \n",
       "       2005-10-30 00:00:00+00:00  0.100716  0.041236  0.02016 -0.04512  ...   \n",
       "       2005-11-06 00:00:00+00:00  0.100716  0.041236  0.02016 -0.04512  ...   \n",
       "       2005-11-13 00:00:00+00:00  0.100716  0.041236  0.02016 -0.04512  ...   \n",
       "       2005-11-20 00:00:00+00:00  0.100716  0.041236  0.02016 -0.04512  ...   \n",
       "       2005-11-27 00:00:00+00:00  0.100716  0.041236  0.02016 -0.04512  ...   \n",
       "       2005-12-04 00:00:00+00:00  0.100716  0.041236  0.02016 -0.04512  ...   \n",
       "       2005-12-11 00:00:00+00:00  0.100716  0.041236  0.02016 -0.04512  ...   \n",
       "\n",
       "                                  oil_diff  inflacion_diff  leading_diff  \\\n",
       "ticker date                                                                \n",
       "IYR    2005-01-02 00:00:00+00:00       NaN             NaN           NaN   \n",
       "       2005-01-09 00:00:00+00:00       NaN             NaN           NaN   \n",
       "       2005-01-16 00:00:00+00:00       NaN             NaN           NaN   \n",
       "       2005-01-23 00:00:00+00:00       NaN             NaN           NaN   \n",
       "       2005-01-30 00:00:00+00:00       NaN             NaN           NaN   \n",
       "       2005-02-06 00:00:00+00:00       NaN             NaN           NaN   \n",
       "       2005-02-13 00:00:00+00:00       NaN             NaN           NaN   \n",
       "       2005-02-20 00:00:00+00:00       NaN             NaN           NaN   \n",
       "       2005-02-27 00:00:00+00:00       NaN             NaN           NaN   \n",
       "       2005-03-06 00:00:00+00:00       NaN             NaN           NaN   \n",
       "       2005-03-13 00:00:00+00:00       NaN             NaN           NaN   \n",
       "       2005-03-20 00:00:00+00:00       NaN             NaN           NaN   \n",
       "       2005-03-27 00:00:00+00:00       NaN             NaN           NaN   \n",
       "       2005-04-03 00:00:00+00:00       NaN             NaN           NaN   \n",
       "       2005-04-10 00:00:00+00:00       NaN             NaN           NaN   \n",
       "       2005-04-17 00:00:00+00:00       NaN             NaN           NaN   \n",
       "       2005-04-24 00:00:00+00:00       NaN             NaN           NaN   \n",
       "       2005-05-01 00:00:00+00:00       NaN             NaN           NaN   \n",
       "       2005-05-08 00:00:00+00:00       NaN             NaN           NaN   \n",
       "       2005-05-15 00:00:00+00:00       NaN             NaN           NaN   \n",
       "       2005-05-22 00:00:00+00:00       NaN             NaN           NaN   \n",
       "       2005-05-29 00:00:00+00:00       NaN             NaN           NaN   \n",
       "       2005-06-05 00:00:00+00:00       NaN             NaN           NaN   \n",
       "       2005-06-12 00:00:00+00:00       NaN             NaN           NaN   \n",
       "       2005-06-19 00:00:00+00:00       NaN             NaN           NaN   \n",
       "       2005-06-26 00:00:00+00:00       NaN             NaN           NaN   \n",
       "       2005-07-03 00:00:00+00:00       NaN             NaN           NaN   \n",
       "       2005-07-10 00:00:00+00:00       NaN             NaN           NaN   \n",
       "       2005-07-17 00:00:00+00:00       NaN             NaN           NaN   \n",
       "       2005-07-24 00:00:00+00:00       NaN             NaN           NaN   \n",
       "       2005-07-31 00:00:00+00:00       NaN             NaN           NaN   \n",
       "       2005-08-07 00:00:00+00:00       NaN             NaN           NaN   \n",
       "       2005-08-14 00:00:00+00:00       NaN             NaN           NaN   \n",
       "       2005-08-21 00:00:00+00:00       NaN             NaN           NaN   \n",
       "       2005-08-28 00:00:00+00:00       NaN             NaN           NaN   \n",
       "       2005-09-04 00:00:00+00:00       NaN             NaN           NaN   \n",
       "       2005-09-11 00:00:00+00:00       NaN             NaN           NaN   \n",
       "       2005-09-18 00:00:00+00:00       NaN             NaN           NaN   \n",
       "       2005-09-25 00:00:00+00:00       NaN             NaN           NaN   \n",
       "       2005-10-02 00:00:00+00:00       NaN             NaN           NaN   \n",
       "       2005-10-09 00:00:00+00:00       NaN             NaN           NaN   \n",
       "       2005-10-16 00:00:00+00:00       NaN             NaN           NaN   \n",
       "       2005-10-23 00:00:00+00:00       NaN             NaN           NaN   \n",
       "       2005-10-30 00:00:00+00:00       NaN             NaN           NaN   \n",
       "       2005-11-06 00:00:00+00:00       NaN             NaN           NaN   \n",
       "       2005-11-13 00:00:00+00:00       NaN             NaN           NaN   \n",
       "       2005-11-20 00:00:00+00:00       NaN             NaN           NaN   \n",
       "       2005-11-27 00:00:00+00:00       NaN             NaN           NaN   \n",
       "       2005-12-04 00:00:00+00:00       NaN             NaN           NaN   \n",
       "       2005-12-11 00:00:00+00:00       NaN             NaN           NaN   \n",
       "\n",
       "                                  vix_diff  vixoil_diff  weekjobclaims_diff  \\\n",
       "ticker date                                                                   \n",
       "IYR    2005-01-02 00:00:00+00:00       NaN          NaN                 NaN   \n",
       "       2005-01-09 00:00:00+00:00       NaN          NaN                 NaN   \n",
       "       2005-01-16 00:00:00+00:00       NaN          NaN                 NaN   \n",
       "       2005-01-23 00:00:00+00:00       NaN          NaN                 NaN   \n",
       "       2005-01-30 00:00:00+00:00       NaN          NaN                 NaN   \n",
       "       2005-02-06 00:00:00+00:00       NaN          NaN                 NaN   \n",
       "       2005-02-13 00:00:00+00:00       NaN          NaN                 NaN   \n",
       "       2005-02-20 00:00:00+00:00       NaN          NaN                 NaN   \n",
       "       2005-02-27 00:00:00+00:00       NaN          NaN                 NaN   \n",
       "       2005-03-06 00:00:00+00:00       NaN          NaN                 NaN   \n",
       "       2005-03-13 00:00:00+00:00       NaN          NaN                 NaN   \n",
       "       2005-03-20 00:00:00+00:00       NaN          NaN                 NaN   \n",
       "       2005-03-27 00:00:00+00:00       NaN          NaN                 NaN   \n",
       "       2005-04-03 00:00:00+00:00       NaN          NaN                 NaN   \n",
       "       2005-04-10 00:00:00+00:00       NaN          NaN                 NaN   \n",
       "       2005-04-17 00:00:00+00:00       NaN          NaN                 NaN   \n",
       "       2005-04-24 00:00:00+00:00       NaN          NaN                 NaN   \n",
       "       2005-05-01 00:00:00+00:00       NaN          NaN                 NaN   \n",
       "       2005-05-08 00:00:00+00:00       NaN          NaN                 NaN   \n",
       "       2005-05-15 00:00:00+00:00       NaN          NaN                 NaN   \n",
       "       2005-05-22 00:00:00+00:00       NaN          NaN                 NaN   \n",
       "       2005-05-29 00:00:00+00:00       NaN          NaN                 NaN   \n",
       "       2005-06-05 00:00:00+00:00       NaN          NaN                 NaN   \n",
       "       2005-06-12 00:00:00+00:00       NaN          NaN                 NaN   \n",
       "       2005-06-19 00:00:00+00:00       NaN          NaN                 NaN   \n",
       "       2005-06-26 00:00:00+00:00       NaN          NaN                 NaN   \n",
       "       2005-07-03 00:00:00+00:00       NaN          NaN                 NaN   \n",
       "       2005-07-10 00:00:00+00:00       NaN          NaN                 NaN   \n",
       "       2005-07-17 00:00:00+00:00       NaN          NaN                 NaN   \n",
       "       2005-07-24 00:00:00+00:00       NaN          NaN                 NaN   \n",
       "       2005-07-31 00:00:00+00:00       NaN          NaN                 NaN   \n",
       "       2005-08-07 00:00:00+00:00       NaN          NaN                 NaN   \n",
       "       2005-08-14 00:00:00+00:00       NaN          NaN                 NaN   \n",
       "       2005-08-21 00:00:00+00:00       NaN          NaN                 NaN   \n",
       "       2005-08-28 00:00:00+00:00       NaN          NaN                 NaN   \n",
       "       2005-09-04 00:00:00+00:00       NaN          NaN                 NaN   \n",
       "       2005-09-11 00:00:00+00:00       NaN          NaN                 NaN   \n",
       "       2005-09-18 00:00:00+00:00       NaN          NaN                 NaN   \n",
       "       2005-09-25 00:00:00+00:00       NaN          NaN                 NaN   \n",
       "       2005-10-02 00:00:00+00:00       NaN          NaN                 NaN   \n",
       "       2005-10-09 00:00:00+00:00       NaN          NaN                 NaN   \n",
       "       2005-10-16 00:00:00+00:00       NaN          NaN                 NaN   \n",
       "       2005-10-23 00:00:00+00:00       NaN          NaN                 NaN   \n",
       "       2005-10-30 00:00:00+00:00       NaN          NaN                 NaN   \n",
       "       2005-11-06 00:00:00+00:00       NaN          NaN                 NaN   \n",
       "       2005-11-13 00:00:00+00:00       NaN          NaN                 NaN   \n",
       "       2005-11-20 00:00:00+00:00       NaN          NaN                 NaN   \n",
       "       2005-11-27 00:00:00+00:00       NaN          NaN                 NaN   \n",
       "       2005-12-04 00:00:00+00:00       NaN          NaN                 NaN   \n",
       "       2005-12-11 00:00:00+00:00       NaN          NaN                 NaN   \n",
       "\n",
       "                                  retail_sales_percent_diff  \\\n",
       "ticker date                                                   \n",
       "IYR    2005-01-02 00:00:00+00:00                        NaN   \n",
       "       2005-01-09 00:00:00+00:00                        NaN   \n",
       "       2005-01-16 00:00:00+00:00                        NaN   \n",
       "       2005-01-23 00:00:00+00:00                        NaN   \n",
       "       2005-01-30 00:00:00+00:00                        NaN   \n",
       "       2005-02-06 00:00:00+00:00                        NaN   \n",
       "       2005-02-13 00:00:00+00:00                        NaN   \n",
       "       2005-02-20 00:00:00+00:00                        NaN   \n",
       "       2005-02-27 00:00:00+00:00                        NaN   \n",
       "       2005-03-06 00:00:00+00:00                        NaN   \n",
       "       2005-03-13 00:00:00+00:00                        NaN   \n",
       "       2005-03-20 00:00:00+00:00                        NaN   \n",
       "       2005-03-27 00:00:00+00:00                        NaN   \n",
       "       2005-04-03 00:00:00+00:00                        NaN   \n",
       "       2005-04-10 00:00:00+00:00                        NaN   \n",
       "       2005-04-17 00:00:00+00:00                        NaN   \n",
       "       2005-04-24 00:00:00+00:00                        NaN   \n",
       "       2005-05-01 00:00:00+00:00                        NaN   \n",
       "       2005-05-08 00:00:00+00:00                        NaN   \n",
       "       2005-05-15 00:00:00+00:00                        NaN   \n",
       "       2005-05-22 00:00:00+00:00                        NaN   \n",
       "       2005-05-29 00:00:00+00:00                        NaN   \n",
       "       2005-06-05 00:00:00+00:00                        NaN   \n",
       "       2005-06-12 00:00:00+00:00                        NaN   \n",
       "       2005-06-19 00:00:00+00:00                        NaN   \n",
       "       2005-06-26 00:00:00+00:00                        NaN   \n",
       "       2005-07-03 00:00:00+00:00                        NaN   \n",
       "       2005-07-10 00:00:00+00:00                        NaN   \n",
       "       2005-07-17 00:00:00+00:00                        NaN   \n",
       "       2005-07-24 00:00:00+00:00                        NaN   \n",
       "       2005-07-31 00:00:00+00:00                        NaN   \n",
       "       2005-08-07 00:00:00+00:00                        NaN   \n",
       "       2005-08-14 00:00:00+00:00                        NaN   \n",
       "       2005-08-21 00:00:00+00:00                        NaN   \n",
       "       2005-08-28 00:00:00+00:00                        NaN   \n",
       "       2005-09-04 00:00:00+00:00                        NaN   \n",
       "       2005-09-11 00:00:00+00:00                        NaN   \n",
       "       2005-09-18 00:00:00+00:00                        NaN   \n",
       "       2005-09-25 00:00:00+00:00                        NaN   \n",
       "       2005-10-02 00:00:00+00:00                        NaN   \n",
       "       2005-10-09 00:00:00+00:00                        NaN   \n",
       "       2005-10-16 00:00:00+00:00                        NaN   \n",
       "       2005-10-23 00:00:00+00:00                        NaN   \n",
       "       2005-10-30 00:00:00+00:00                        NaN   \n",
       "       2005-11-06 00:00:00+00:00                        NaN   \n",
       "       2005-11-13 00:00:00+00:00                        NaN   \n",
       "       2005-11-20 00:00:00+00:00                        NaN   \n",
       "       2005-11-27 00:00:00+00:00                        NaN   \n",
       "       2005-12-04 00:00:00+00:00                        NaN   \n",
       "       2005-12-11 00:00:00+00:00                        NaN   \n",
       "\n",
       "                                  retail_sales_diff us_asset_balance_diff  \\\n",
       "ticker date                                                                 \n",
       "IYR    2005-01-02 00:00:00+00:00                NaN                   NaN   \n",
       "       2005-01-09 00:00:00+00:00                NaN                   NaN   \n",
       "       2005-01-16 00:00:00+00:00                NaN                   NaN   \n",
       "       2005-01-23 00:00:00+00:00                NaN                   NaN   \n",
       "       2005-01-30 00:00:00+00:00                NaN                   NaN   \n",
       "       2005-02-06 00:00:00+00:00                NaN                   NaN   \n",
       "       2005-02-13 00:00:00+00:00                NaN                   NaN   \n",
       "       2005-02-20 00:00:00+00:00                NaN                   NaN   \n",
       "       2005-02-27 00:00:00+00:00                NaN                   NaN   \n",
       "       2005-03-06 00:00:00+00:00                NaN                   NaN   \n",
       "       2005-03-13 00:00:00+00:00                NaN                   NaN   \n",
       "       2005-03-20 00:00:00+00:00                NaN                   NaN   \n",
       "       2005-03-27 00:00:00+00:00                NaN                   NaN   \n",
       "       2005-04-03 00:00:00+00:00                NaN                   NaN   \n",
       "       2005-04-10 00:00:00+00:00                NaN                   NaN   \n",
       "       2005-04-17 00:00:00+00:00                NaN                   NaN   \n",
       "       2005-04-24 00:00:00+00:00                NaN                   NaN   \n",
       "       2005-05-01 00:00:00+00:00                NaN                   NaN   \n",
       "       2005-05-08 00:00:00+00:00                NaN                   NaN   \n",
       "       2005-05-15 00:00:00+00:00                NaN                   NaN   \n",
       "       2005-05-22 00:00:00+00:00                NaN                   NaN   \n",
       "       2005-05-29 00:00:00+00:00                NaN                   NaN   \n",
       "       2005-06-05 00:00:00+00:00                NaN                   NaN   \n",
       "       2005-06-12 00:00:00+00:00                NaN                   NaN   \n",
       "       2005-06-19 00:00:00+00:00                NaN                   NaN   \n",
       "       2005-06-26 00:00:00+00:00                NaN                   NaN   \n",
       "       2005-07-03 00:00:00+00:00                NaN                   NaN   \n",
       "       2005-07-10 00:00:00+00:00                NaN                   NaN   \n",
       "       2005-07-17 00:00:00+00:00                NaN                   NaN   \n",
       "       2005-07-24 00:00:00+00:00                NaN                   NaN   \n",
       "       2005-07-31 00:00:00+00:00                NaN                   NaN   \n",
       "       2005-08-07 00:00:00+00:00                NaN                   NaN   \n",
       "       2005-08-14 00:00:00+00:00                NaN                   NaN   \n",
       "       2005-08-21 00:00:00+00:00                NaN                   NaN   \n",
       "       2005-08-28 00:00:00+00:00                NaN                   NaN   \n",
       "       2005-09-04 00:00:00+00:00                NaN                   NaN   \n",
       "       2005-09-11 00:00:00+00:00                NaN                   NaN   \n",
       "       2005-09-18 00:00:00+00:00                NaN                   NaN   \n",
       "       2005-09-25 00:00:00+00:00                NaN                   NaN   \n",
       "       2005-10-02 00:00:00+00:00                NaN                   NaN   \n",
       "       2005-10-09 00:00:00+00:00                NaN                   NaN   \n",
       "       2005-10-16 00:00:00+00:00                NaN                   NaN   \n",
       "       2005-10-23 00:00:00+00:00                NaN                   NaN   \n",
       "       2005-10-30 00:00:00+00:00                NaN                   NaN   \n",
       "       2005-11-06 00:00:00+00:00                NaN                   NaN   \n",
       "       2005-11-13 00:00:00+00:00                NaN                   NaN   \n",
       "       2005-11-20 00:00:00+00:00                NaN                   NaN   \n",
       "       2005-11-27 00:00:00+00:00                NaN                   NaN   \n",
       "       2005-12-04 00:00:00+00:00                NaN                   NaN   \n",
       "       2005-12-11 00:00:00+00:00                NaN                   NaN   \n",
       "\n",
       "                                  1y_yield_diff  \n",
       "ticker date                                      \n",
       "IYR    2005-01-02 00:00:00+00:00            NaN  \n",
       "       2005-01-09 00:00:00+00:00            NaN  \n",
       "       2005-01-16 00:00:00+00:00            NaN  \n",
       "       2005-01-23 00:00:00+00:00            NaN  \n",
       "       2005-01-30 00:00:00+00:00            NaN  \n",
       "       2005-02-06 00:00:00+00:00            NaN  \n",
       "       2005-02-13 00:00:00+00:00            NaN  \n",
       "       2005-02-20 00:00:00+00:00            NaN  \n",
       "       2005-02-27 00:00:00+00:00            NaN  \n",
       "       2005-03-06 00:00:00+00:00            NaN  \n",
       "       2005-03-13 00:00:00+00:00            NaN  \n",
       "       2005-03-20 00:00:00+00:00            NaN  \n",
       "       2005-03-27 00:00:00+00:00            NaN  \n",
       "       2005-04-03 00:00:00+00:00            NaN  \n",
       "       2005-04-10 00:00:00+00:00            NaN  \n",
       "       2005-04-17 00:00:00+00:00            NaN  \n",
       "       2005-04-24 00:00:00+00:00            NaN  \n",
       "       2005-05-01 00:00:00+00:00            NaN  \n",
       "       2005-05-08 00:00:00+00:00            NaN  \n",
       "       2005-05-15 00:00:00+00:00            NaN  \n",
       "       2005-05-22 00:00:00+00:00            NaN  \n",
       "       2005-05-29 00:00:00+00:00            NaN  \n",
       "       2005-06-05 00:00:00+00:00            NaN  \n",
       "       2005-06-12 00:00:00+00:00            NaN  \n",
       "       2005-06-19 00:00:00+00:00            NaN  \n",
       "       2005-06-26 00:00:00+00:00            NaN  \n",
       "       2005-07-03 00:00:00+00:00            NaN  \n",
       "       2005-07-10 00:00:00+00:00            NaN  \n",
       "       2005-07-17 00:00:00+00:00            NaN  \n",
       "       2005-07-24 00:00:00+00:00            NaN  \n",
       "       2005-07-31 00:00:00+00:00            NaN  \n",
       "       2005-08-07 00:00:00+00:00            NaN  \n",
       "       2005-08-14 00:00:00+00:00            NaN  \n",
       "       2005-08-21 00:00:00+00:00            NaN  \n",
       "       2005-08-28 00:00:00+00:00            NaN  \n",
       "       2005-09-04 00:00:00+00:00            NaN  \n",
       "       2005-09-11 00:00:00+00:00            NaN  \n",
       "       2005-09-18 00:00:00+00:00            NaN  \n",
       "       2005-09-25 00:00:00+00:00            NaN  \n",
       "       2005-10-02 00:00:00+00:00            NaN  \n",
       "       2005-10-09 00:00:00+00:00            NaN  \n",
       "       2005-10-16 00:00:00+00:00            NaN  \n",
       "       2005-10-23 00:00:00+00:00            NaN  \n",
       "       2005-10-30 00:00:00+00:00            NaN  \n",
       "       2005-11-06 00:00:00+00:00            NaN  \n",
       "       2005-11-13 00:00:00+00:00            NaN  \n",
       "       2005-11-20 00:00:00+00:00            NaN  \n",
       "       2005-11-27 00:00:00+00:00            NaN  \n",
       "       2005-12-04 00:00:00+00:00            NaN  \n",
       "       2005-12-11 00:00:00+00:00            NaN  \n",
       "\n",
       "[50 rows x 64 columns]"
      ]
     },
     "execution_count": 14,
     "metadata": {},
     "output_type": "execute_result"
    }
   ],
   "source": [
    "data.head(50)"
   ]
  },
  {
   "cell_type": "code",
   "execution_count": null,
   "metadata": {},
   "outputs": [],
   "source": []
  },
  {
   "cell_type": "code",
   "execution_count": 15,
   "metadata": {
    "ExecuteTime": {
     "end_time": "2020-06-21T03:15:58.610627Z",
     "start_time": "2020-06-21T03:15:56.699840Z"
    },
    "execution": {
     "iopub.execute_input": "2024-09-23T16:39:05.423714Z",
     "iopub.status.busy": "2024-09-23T16:39:05.423714Z",
     "iopub.status.idle": "2024-09-23T16:39:05.439270Z",
     "shell.execute_reply": "2024-09-23T16:39:05.439270Z"
    }
   },
   "outputs": [
    {
     "data": {
      "text/plain": [
       "\"#modificado del original\\ndata = (pd.read_hdf('data.h5', 'model_data')\\n            .sort_index()\\n            .loc[idx[:, :'2016'], :])\\ndata.info(null_counts=True)\""
      ]
     },
     "execution_count": 15,
     "metadata": {},
     "output_type": "execute_result"
    }
   ],
   "source": [
    "\"\"\"#modificado del original\n",
    "data = (pd.read_hdf('data.h5', 'model_data')\n",
    "            .sort_index()\n",
    "            .loc[idx[:, :'2016'], :])\n",
    "data.info(null_counts=True)\"\"\""
   ]
  },
  {
   "cell_type": "code",
   "execution_count": 16,
   "metadata": {
    "ExecuteTime": {
     "end_time": "2020-06-21T03:15:58.627071Z",
     "start_time": "2020-06-21T03:15:58.611792Z"
    },
    "execution": {
     "iopub.execute_input": "2024-09-23T16:39:05.439270Z",
     "iopub.status.busy": "2024-09-23T16:39:05.439270Z",
     "iopub.status.idle": "2024-09-23T16:39:05.454572Z",
     "shell.execute_reply": "2024-09-23T16:39:05.454572Z"
    }
   },
   "outputs": [],
   "source": [
    "#labels = sorted(data.filter(like='_fwd').columns)\n",
    "labels = sorted(data.filter(like='target_').columns)\n",
    "features = data.columns.difference(labels).tolist()\n",
    "label = 'target_01w'#modificado"
   ]
  },
  {
   "cell_type": "markdown",
   "metadata": {},
   "source": [
    "## Model Selection: Lookback, lookahead and roll-forward periods"
   ]
  },
  {
   "cell_type": "code",
   "execution_count": 17,
   "metadata": {
    "execution": {
     "iopub.execute_input": "2024-09-23T16:39:05.454572Z",
     "iopub.status.busy": "2024-09-23T16:39:05.454572Z",
     "iopub.status.idle": "2024-09-23T16:39:05.470526Z",
     "shell.execute_reply": "2024-09-23T16:39:05.470526Z"
    }
   },
   "outputs": [
    {
     "data": {
      "text/plain": [
       "'ticker'"
      ]
     },
     "execution_count": 17,
     "metadata": {},
     "output_type": "execute_result"
    }
   ],
   "source": [
    "# Obtener el nombre del primer nivel\n",
    "level_name = data.index.get_level_values(0).name\n",
    "level_name"
   ]
  },
  {
   "cell_type": "code",
   "execution_count": 18,
   "metadata": {
    "ExecuteTime": {
     "end_time": "2020-06-21T03:15:58.713463Z",
     "start_time": "2020-06-21T03:15:58.628189Z"
    },
    "execution": {
     "iopub.execute_input": "2024-09-23T16:39:05.470526Z",
     "iopub.status.busy": "2024-09-23T16:39:05.470526Z",
     "iopub.status.idle": "2024-09-23T16:39:05.486095Z",
     "shell.execute_reply": "2024-09-23T16:39:05.486095Z"
    },
    "scrolled": true
   },
   "outputs": [],
   "source": [
    "tickers = data.index.get_level_values('ticker').unique()"
   ]
  },
  {
   "cell_type": "code",
   "execution_count": 19,
   "metadata": {
    "execution": {
     "iopub.execute_input": "2024-09-23T16:39:05.486095Z",
     "iopub.status.busy": "2024-09-23T16:39:05.486095Z",
     "iopub.status.idle": "2024-09-23T16:39:05.501777Z",
     "shell.execute_reply": "2024-09-23T16:39:05.501777Z"
    }
   },
   "outputs": [
    {
     "data": {
      "text/plain": [
       "Index(['IYR', 'VOX', 'XLB', 'XLE', 'XLF', 'XLI', 'XLK', 'XLP', 'XLU', 'XLV',\n",
       "       'XLY'],\n",
       "      dtype='object', name='ticker')"
      ]
     },
     "execution_count": 19,
     "metadata": {},
     "output_type": "execute_result"
    }
   ],
   "source": [
    "tickers"
   ]
  },
  {
   "cell_type": "code",
   "execution_count": 20,
   "metadata": {
    "ExecuteTime": {
     "end_time": "2020-06-21T03:15:58.716838Z",
     "start_time": "2020-06-21T03:15:58.714860Z"
    },
    "execution": {
     "iopub.execute_input": "2024-09-23T16:39:05.501777Z",
     "iopub.status.busy": "2024-09-23T16:39:05.501777Z",
     "iopub.status.idle": "2024-09-23T16:39:05.517466Z",
     "shell.execute_reply": "2024-09-23T16:39:05.517466Z"
    },
    "scrolled": true
   },
   "outputs": [],
   "source": [
    "#lookaheads = [1, 5, 21]\n",
    "lookaheads = [1]"
   ]
  },
  {
   "cell_type": "code",
   "execution_count": 21,
   "metadata": {
    "ExecuteTime": {
     "end_time": "2020-06-21T03:15:58.726739Z",
     "start_time": "2020-06-21T03:15:58.718248Z"
    },
    "execution": {
     "iopub.execute_input": "2024-09-23T16:39:05.517466Z",
     "iopub.status.busy": "2024-09-23T16:39:05.517466Z",
     "iopub.status.idle": "2024-09-23T16:39:05.533028Z",
     "shell.execute_reply": "2024-09-23T16:39:05.533028Z"
    }
   },
   "outputs": [],
   "source": [
    "#categoricals = ['year', 'month', 'sector', 'weekda]\n",
    "categoricals = [ 'month','sector']"
   ]
  },
  {
   "cell_type": "markdown",
   "metadata": {},
   "source": [
    "We select 4.5 and one years as the length of our training periods; test periods are one and three months long. Since we are using 6 years (2012/18) for validation, a one-month test period implies 12x6 folds"
   ]
  },
  {
   "cell_type": "code",
   "execution_count": 22,
   "metadata": {
    "ExecuteTime": {
     "end_time": "2020-06-21T03:15:58.735386Z",
     "start_time": "2020-06-21T03:15:58.728023Z"
    },
    "execution": {
     "iopub.execute_input": "2024-09-23T16:39:05.533028Z",
     "iopub.status.busy": "2024-09-23T16:39:05.533028Z",
     "iopub.status.idle": "2024-09-23T16:39:05.548667Z",
     "shell.execute_reply": "2024-09-23T16:39:05.548667Z"
    },
    "scrolled": true
   },
   "outputs": [],
   "source": [
    "#tenemos semanas \n",
    "#train_lengths = [int(4.5 * 12), 36,12]\n",
    "train_lengths = [int(4.5 * 12 *4), 52]#4 años y medio año\n",
    "test_lengths = [52]"
   ]
  },
  {
   "cell_type": "code",
   "execution_count": 23,
   "metadata": {
    "ExecuteTime": {
     "end_time": "2020-06-21T03:15:58.743174Z",
     "start_time": "2020-06-21T03:15:58.737182Z"
    },
    "execution": {
     "iopub.execute_input": "2024-09-23T16:39:05.548667Z",
     "iopub.status.busy": "2024-09-23T16:39:05.548667Z",
     "iopub.status.idle": "2024-09-23T16:39:05.564297Z",
     "shell.execute_reply": "2024-09-23T16:39:05.564297Z"
    },
    "scrolled": true
   },
   "outputs": [],
   "source": [
    "test_params = list(product(lookaheads, train_lengths, test_lengths))"
   ]
  },
  {
   "cell_type": "code",
   "execution_count": 24,
   "metadata": {
    "execution": {
     "iopub.execute_input": "2024-09-23T16:39:05.564297Z",
     "iopub.status.busy": "2024-09-23T16:39:05.564297Z",
     "iopub.status.idle": "2024-09-23T16:39:05.579870Z",
     "shell.execute_reply": "2024-09-23T16:39:05.579870Z"
    }
   },
   "outputs": [
    {
     "data": {
      "text/plain": [
       "[(1, 216, 52), (1, 52, 52)]"
      ]
     },
     "execution_count": 24,
     "metadata": {},
     "output_type": "execute_result"
    }
   ],
   "source": [
    "test_params"
   ]
  },
  {
   "cell_type": "code",
   "execution_count": null,
   "metadata": {},
   "outputs": [],
   "source": []
  },
  {
   "cell_type": "markdown",
   "metadata": {},
   "source": [
    "## Baseline: Linear Regression"
   ]
  },
  {
   "cell_type": "code",
   "execution_count": 25,
   "metadata": {
    "execution": {
     "iopub.execute_input": "2024-09-23T16:39:05.595507Z",
     "iopub.status.busy": "2024-09-23T16:39:05.595507Z",
     "iopub.status.idle": "2024-09-23T16:39:05.611169Z",
     "shell.execute_reply": "2024-09-23T16:39:05.611169Z"
    }
   },
   "outputs": [],
   "source": [
    "#cambiamos a 6 años en vez de 2 para la validación"
   ]
  },
  {
   "cell_type": "code",
   "execution_count": 26,
   "metadata": {
    "execution": {
     "iopub.execute_input": "2024-09-23T16:39:05.611169Z",
     "iopub.status.busy": "2024-09-23T16:39:05.611169Z",
     "iopub.status.idle": "2024-09-23T16:39:05.626788Z",
     "shell.execute_reply": "2024-09-23T16:39:05.626788Z"
    }
   },
   "outputs": [],
   "source": [
    "years_val=6"
   ]
  },
  {
   "cell_type": "code",
   "execution_count": 27,
   "metadata": {
    "execution": {
     "iopub.execute_input": "2024-09-23T16:39:05.626788Z",
     "iopub.status.busy": "2024-09-23T16:39:05.626788Z",
     "iopub.status.idle": "2024-09-23T16:39:05.642419Z",
     "shell.execute_reply": "2024-09-23T16:39:05.642419Z"
    }
   },
   "outputs": [],
   "source": [
    "#stop"
   ]
  },
  {
   "cell_type": "code",
   "execution_count": 28,
   "metadata": {
    "ExecuteTime": {
     "end_time": "2020-06-21T03:19:37.679350Z",
     "start_time": "2020-06-21T03:16:05.270137Z"
    }
   },
   "outputs": [
    {
     "name": "stdout",
     "output_type": "stream",
     "text": [
      "1 216 52\n",
      "1 52 52\n"
     ]
    }
   ],
   "source": [
    "lr = LinearRegression()\n",
    "\n",
    "lr_metrics = []\n",
    "for lookahead, train_length, test_length in test_params:\n",
    "    print(lookahead, train_length, test_length)\n",
    "    #label = f'r{lookahead:02}_fwd'\n",
    "    label = f'target_{lookahead:02}w'\n",
    "    \n",
    "    df = pd.get_dummies(data.loc[:, features + [label]].dropna(), \n",
    "                        columns=categoricals, \n",
    "                        drop_first=True)\n",
    "    X, y = df.drop(label, axis=1), df[label]\n",
    "\n",
    "    n_splits = int( YEAR * years_val / test_length)# modificado#cambiamos a 6 años en vez de 2 para la validación\n",
    "    cv = MultipleTimeSeriesCV(n_splits=n_splits,\n",
    "                              test_period_length=test_length,\n",
    "                              lookahead=lookahead,\n",
    "                              train_period_length=train_length)\n",
    "\n",
    "    ic, preds = [], []\n",
    "    for i, (train_idx, test_idx) in enumerate(cv.split(X=X)):\n",
    "        \n",
    "        X_train, y_train = X.iloc[train_idx], y.iloc[train_idx]\n",
    "        X_test, y_test = X.iloc[test_idx], y.iloc[test_idx]\n",
    "        lr.fit(X_train, y_train)\n",
    "        y_pred = lr.predict(X_test)\n",
    "        preds.append(y_test.to_frame('y_true').assign(y_pred=y_pred))\n",
    "        ic.append(spearmanr(y_test, y_pred)[0])\n",
    "    preds = pd.concat(preds)\n",
    "    lr_metrics.append([\n",
    "        lookahead, train_length, test_length,\n",
    "        np.mean(ic),\n",
    "        spearmanr(preds.y_true, preds.y_pred)[0]\n",
    "    ])\n",
    "\n",
    "columns = ['lookahead', 'train_length', 'test_length', 'ic_by_day', 'ic']\n",
    "lr_metrics = pd.DataFrame(lr_metrics, columns=columns)"
   ]
  },
  {
   "cell_type": "code",
   "execution_count": 29,
   "metadata": {
    "execution": {
     "iopub.execute_input": "2024-09-23T16:39:05.642419Z",
     "iopub.status.busy": "2024-09-23T16:39:05.642419Z",
     "iopub.status.idle": "2024-09-23T16:39:05.658047Z",
     "shell.execute_reply": "2024-09-23T16:39:05.658047Z"
    }
   },
   "outputs": [
    {
     "data": {
      "text/plain": [
       "6"
      ]
     },
     "execution_count": 29,
     "metadata": {},
     "output_type": "execute_result"
    }
   ],
   "source": [
    "n_splits"
   ]
  },
  {
   "cell_type": "code",
   "execution_count": 30,
   "metadata": {
    "execution": {
     "iopub.execute_input": "2024-09-23T16:39:05.658047Z",
     "iopub.status.busy": "2024-09-23T16:39:05.658047Z",
     "iopub.status.idle": "2024-09-23T16:39:05.673663Z",
     "shell.execute_reply": "2024-09-23T16:39:05.673663Z"
    }
   },
   "outputs": [],
   "source": [
    "#train_idx[-2:]"
   ]
  },
  {
   "cell_type": "code",
   "execution_count": 31,
   "metadata": {
    "execution": {
     "iopub.execute_input": "2024-09-23T16:39:05.673663Z",
     "iopub.status.busy": "2024-09-23T16:39:05.673663Z",
     "iopub.status.idle": "2024-09-23T16:39:05.689193Z",
     "shell.execute_reply": "2024-09-23T16:39:05.689193Z"
    }
   },
   "outputs": [],
   "source": [
    "# y.iloc[train_idx].loc['XLU.US'].index\n"
   ]
  },
  {
   "cell_type": "code",
   "execution_count": 32,
   "metadata": {
    "execution": {
     "iopub.execute_input": "2024-09-23T16:39:05.689193Z",
     "iopub.status.busy": "2024-09-23T16:39:05.689193Z",
     "iopub.status.idle": "2024-09-23T16:39:05.704895Z",
     "shell.execute_reply": "2024-09-23T16:39:05.704895Z"
    }
   },
   "outputs": [],
   "source": [
    "#y.iloc[test_idx].loc['XLU.US'].index"
   ]
  },
  {
   "cell_type": "code",
   "execution_count": 33,
   "metadata": {
    "execution": {
     "iopub.execute_input": "2024-09-23T16:39:05.704895Z",
     "iopub.status.busy": "2024-09-23T16:39:05.704895Z",
     "iopub.status.idle": "2024-09-23T16:39:05.720494Z",
     "shell.execute_reply": "2024-09-23T16:39:05.720494Z"
    }
   },
   "outputs": [],
   "source": [
    "#y_test"
   ]
  },
  {
   "cell_type": "code",
   "execution_count": 34,
   "metadata": {
    "execution": {
     "iopub.execute_input": "2024-09-23T16:39:05.720494Z",
     "iopub.status.busy": "2024-09-23T16:39:05.720494Z",
     "iopub.status.idle": "2024-09-23T16:39:05.736164Z",
     "shell.execute_reply": "2024-09-23T16:39:05.736164Z"
    }
   },
   "outputs": [],
   "source": [
    " #test_length"
   ]
  },
  {
   "cell_type": "markdown",
   "metadata": {},
   "source": [
    "### Information Coefficient - Distribution by Lookahead"
   ]
  },
  {
   "cell_type": "code",
   "execution_count": 35,
   "metadata": {
    "ExecuteTime": {
     "end_time": "2020-06-21T03:19:37.897475Z",
     "start_time": "2020-06-21T03:19:37.680445Z"
    }
   },
   "outputs": [
    {
     "data": {
      "image/png": "[encoded data removed]",
      "text/plain": [
       "<Figure size 1400x500 with 2 Axes>"
      ]
     },
     "metadata": {},
     "output_type": "display_data"
    }
   ],
   "source": [
    "fig, axes =plt.subplots(ncols=2, figsize=(14,5), sharey=True)\n",
    "sns.boxplot(x='lookahead', y='ic_by_day',data=lr_metrics, ax=axes[0])\n",
    "axes[0].set_title('IC by Day')\n",
    "sns.boxplot(x='lookahead', y='ic',data=lr_metrics, ax=axes[1])\n",
    "axes[1].set_title('IC Overall')\n",
    "axes[0].set_ylabel('Information Coefficient')\n",
    "axes[1].set_ylabel('')\n",
    "fig.tight_layout()"
   ]
  },
  {
   "cell_type": "markdown",
   "metadata": {},
   "source": [
    "### Best Train/Test Period Lengths"
   ]
  },
  {
   "cell_type": "code",
   "execution_count": 36,
   "metadata": {
    "ExecuteTime": {
     "end_time": "2020-06-21T03:19:37.911949Z",
     "start_time": "2020-06-21T03:19:37.898655Z"
    },
    "scrolled": true
   },
   "outputs": [
    {
     "data": {
      "text/html": [
       "<div>\n",
       "<style scoped>\n",
       "    .dataframe tbody tr th:only-of-type {\n",
       "        vertical-align: middle;\n",
       "    }\n",
       "\n",
       "    .dataframe tbody tr th {\n",
       "        vertical-align: top;\n",
       "    }\n",
       "\n",
       "    .dataframe thead th {\n",
       "        text-align: right;\n",
       "    }\n",
       "</style>\n",
       "<table border=\"1\" class=\"dataframe\">\n",
       "  <thead>\n",
       "    <tr style=\"text-align: right;\">\n",
       "      <th></th>\n",
       "      <th>lookahead</th>\n",
       "      <th>train_length</th>\n",
       "      <th>test_length</th>\n",
       "      <th>ic_by_day</th>\n",
       "      <th>ic</th>\n",
       "    </tr>\n",
       "  </thead>\n",
       "  <tbody>\n",
       "    <tr>\n",
       "      <th>1</th>\n",
       "      <td>1</td>\n",
       "      <td>52</td>\n",
       "      <td>52</td>\n",
       "      <td>0.083129</td>\n",
       "      <td>-0.004243</td>\n",
       "    </tr>\n",
       "    <tr>\n",
       "      <th>0</th>\n",
       "      <td>1</td>\n",
       "      <td>216</td>\n",
       "      <td>52</td>\n",
       "      <td>0.068319</td>\n",
       "      <td>0.026577</td>\n",
       "    </tr>\n",
       "  </tbody>\n",
       "</table>\n",
       "</div>"
      ],
      "text/plain": [
       "   lookahead  train_length  test_length  ic_by_day        ic\n",
       "1          1            52           52   0.083129 -0.004243\n",
       "0          1           216           52   0.068319  0.026577"
      ]
     },
     "execution_count": 36,
     "metadata": {},
     "output_type": "execute_result"
    }
   ],
   "source": [
    "(lr_metrics.groupby('lookahead', group_keys=False)\n",
    " .apply(lambda x: x.nlargest(3, 'ic_by_day')))"
   ]
  },
  {
   "cell_type": "code",
   "execution_count": 37,
   "metadata": {
    "ExecuteTime": {
     "end_time": "2020-06-21T03:19:37.920850Z",
     "start_time": "2020-06-21T03:19:37.913179Z"
    }
   },
   "outputs": [],
   "source": [
    "lr_metrics.to_csv(results_path / 'lin_reg_metrics.csv', index=False)"
   ]
  },
  {
   "cell_type": "markdown",
   "metadata": {},
   "source": [
    "## LightGBM Model Tuning"
   ]
  },
  {
   "cell_type": "markdown",
   "metadata": {},
   "source": [
    "The notebook example iterates over many configurations, optionally using random samples to speed up model selection using a diverse subset. The goal is to identify the most impactful parameters without trying every possible combination."
   ]
  },
  {
   "cell_type": "code",
   "execution_count": 38,
   "metadata": {
    "ExecuteTime": {
     "end_time": "2020-06-21T03:19:37.935808Z",
     "start_time": "2020-06-21T03:19:37.921761Z"
    },
    "execution": {
     "iopub.execute_input": "2024-09-23T16:39:05.736164Z",
     "iopub.status.busy": "2024-09-23T16:39:05.736164Z",
     "iopub.status.idle": "2024-09-23T16:39:05.751781Z",
     "shell.execute_reply": "2024-09-23T16:39:05.751781Z"
    }
   },
   "outputs": [],
   "source": [
    "def get_fi(model):\n",
    "    fi = model.feature_importance(importance_type='gain')\n",
    "    return (pd.Series(fi / fi.sum(),\n",
    "                      index=model.feature_name()))"
   ]
  },
  {
   "cell_type": "markdown",
   "metadata": {},
   "source": [
    "### Hyperparameter Options"
   ]
  },
  {
   "cell_type": "markdown",
   "metadata": {},
   "source": [
    "The base_params are not affected by cross-validation:"
   ]
  },
  {
   "cell_type": "code",
   "execution_count": 39,
   "metadata": {
    "ExecuteTime": {
     "end_time": "2020-06-21T03:19:37.943601Z",
     "start_time": "2020-06-21T03:19:37.936926Z"
    },
    "execution": {
     "iopub.execute_input": "2024-09-23T16:39:05.751781Z",
     "iopub.status.busy": "2024-09-23T16:39:05.751781Z",
     "iopub.status.idle": "2024-09-23T16:39:05.767424Z",
     "shell.execute_reply": "2024-09-23T16:39:05.767424Z"
    },
    "scrolled": true
   },
   "outputs": [],
   "source": [
    "base_params = dict(boosting='gbdt',\n",
    "                   objective='regression',\n",
    "                   verbose=-1)"
   ]
  },
  {
   "cell_type": "markdown",
   "metadata": {},
   "source": [
    "We choose the following parameters and values to select our best model (see book chapter for detail):"
   ]
  },
  {
   "cell_type": "code",
   "execution_count": 40,
   "metadata": {
    "execution": {
     "iopub.execute_input": "2024-09-23T16:39:05.767424Z",
     "iopub.status.busy": "2024-09-23T16:39:05.767424Z",
     "iopub.status.idle": "2024-09-23T16:39:05.783026Z",
     "shell.execute_reply": "2024-09-23T16:39:05.783026Z"
    }
   },
   "outputs": [],
   "source": [
    "# weight of each new tree in the ensemble\n",
    "learning_rate_ops = [.01, .1, .3]\n",
    "# constraints on structure (depth) of each tree\n",
    "max_depths = [2, 3, 5, 7]\n",
    "num_leaves_opts = [2 ** i for i in max_depths]\n",
    "#min_data_in_leaf_opts = [250, 500, 1000]\n",
    "min_data_in_leaf_opts = [int(250/22), int(500/22), int(1000/22)]\n",
    "if datos_semanales==1: min_data_in_leaf_opts = [int(250/5), int(500/5), int(1000/5)]\n",
    "# random feature selection\n",
    "feature_fraction_opts = [.3, .6, .95]\n"
   ]
  },
  {
   "cell_type": "code",
   "execution_count": 41,
   "metadata": {
    "execution": {
     "iopub.execute_input": "2024-09-23T16:39:05.783026Z",
     "iopub.status.busy": "2024-09-23T16:39:05.783026Z",
     "iopub.status.idle": "2024-09-23T16:39:05.798699Z",
     "shell.execute_reply": "2024-09-23T16:39:05.798699Z"
    }
   },
   "outputs": [
    {
     "data": {
      "text/plain": [
       "[50, 100, 200]"
      ]
     },
     "execution_count": 41,
     "metadata": {},
     "output_type": "execute_result"
    }
   ],
   "source": [
    "min_data_in_leaf_opts"
   ]
  },
  {
   "cell_type": "code",
   "execution_count": 42,
   "metadata": {
    "ExecuteTime": {
     "end_time": "2020-06-21T03:19:37.960258Z",
     "start_time": "2020-06-21T03:19:37.953744Z"
    },
    "execution": {
     "iopub.execute_input": "2024-09-23T16:39:05.798699Z",
     "iopub.status.busy": "2024-09-23T16:39:05.798699Z",
     "iopub.status.idle": "2024-09-23T16:39:05.814288Z",
     "shell.execute_reply": "2024-09-23T16:39:05.814288Z"
    }
   },
   "outputs": [],
   "source": [
    "param_names = ['learning_rate', 'num_leaves',\n",
    "               'feature_fraction', 'min_data_in_leaf']"
   ]
  },
  {
   "cell_type": "code",
   "execution_count": 43,
   "metadata": {
    "ExecuteTime": {
     "end_time": "2020-06-21T03:19:37.969006Z",
     "start_time": "2020-06-21T03:19:37.961383Z"
    },
    "execution": {
     "iopub.execute_input": "2024-09-23T16:39:05.814288Z",
     "iopub.status.busy": "2024-09-23T16:39:05.814288Z",
     "iopub.status.idle": "2024-09-23T16:39:05.829908Z",
     "shell.execute_reply": "2024-09-23T16:39:05.829908Z"
    },
    "scrolled": true
   },
   "outputs": [
    {
     "name": "stdout",
     "output_type": "stream",
     "text": [
      "# Parameters: 108\n"
     ]
    }
   ],
   "source": [
    "cv_params = list(product(learning_rate_ops,\n",
    "                         num_leaves_opts,\n",
    "                         feature_fraction_opts,\n",
    "                         min_data_in_leaf_opts))\n",
    "n_params = len(cv_params)\n",
    "print(f'# Parameters: {n_params}')"
   ]
  },
  {
   "cell_type": "markdown",
   "metadata": {},
   "source": [
    "### Train/Test Period Lengths"
   ]
  },
  {
   "cell_type": "code",
   "execution_count": 44,
   "metadata": {
    "ExecuteTime": {
     "end_time": "2020-06-21T03:19:37.977749Z",
     "start_time": "2020-06-21T03:19:37.969903Z"
    },
    "execution": {
     "iopub.execute_input": "2024-09-23T16:39:05.829908Z",
     "iopub.status.busy": "2024-09-23T16:39:05.829908Z",
     "iopub.status.idle": "2024-09-23T16:39:05.845531Z",
     "shell.execute_reply": "2024-09-23T16:39:05.845531Z"
    }
   },
   "outputs": [],
   "source": [
    "#lookaheads = [1, 5, 21]\n",
    "#lookaheads = [1]\n",
    "#lookaheads = [1, 2]\n",
    "#label_dict = dict(zip(lookaheads, labels))"
   ]
  },
  {
   "cell_type": "code",
   "execution_count": 45,
   "metadata": {
    "ExecuteTime": {
     "end_time": "2020-06-21T03:19:37.986465Z",
     "start_time": "2020-06-21T03:19:37.978744Z"
    },
    "execution": {
     "iopub.execute_input": "2024-09-23T16:39:05.845531Z",
     "iopub.status.busy": "2024-09-23T16:39:05.845531Z",
     "iopub.status.idle": "2024-09-23T16:39:05.861143Z",
     "shell.execute_reply": "2024-09-23T16:39:05.861143Z"
    },
    "scrolled": true
   },
   "outputs": [],
   "source": [
    "#train_lengths = [int(4.5 * 252), 252]\n",
    "#test_lengths = [63]\n",
    "#train_lengths = [int(4.5 * 12), 12]\n",
    "#train_lengths = [int(4.5 * 12), 36, 12]\n",
    "#test_lengths = [1,3,6]\n",
    "#test_lengths = [1,3,6]"
   ]
  },
  {
   "cell_type": "code",
   "execution_count": 46,
   "metadata": {
    "execution": {
     "iopub.execute_input": "2024-09-23T16:39:05.861143Z",
     "iopub.status.busy": "2024-09-23T16:39:05.861143Z",
     "iopub.status.idle": "2024-09-23T16:39:05.878755Z",
     "shell.execute_reply": "2024-09-23T16:39:05.876833Z"
    }
   },
   "outputs": [
    {
     "data": {
      "text/plain": [
       "[216, 52]"
      ]
     },
     "execution_count": 46,
     "metadata": {},
     "output_type": "execute_result"
    }
   ],
   "source": [
    "train_lengths"
   ]
  },
  {
   "cell_type": "code",
   "execution_count": 47,
   "metadata": {
    "execution": {
     "iopub.execute_input": "2024-09-23T16:39:05.881205Z",
     "iopub.status.busy": "2024-09-23T16:39:05.881205Z",
     "iopub.status.idle": "2024-09-23T16:39:05.897236Z",
     "shell.execute_reply": "2024-09-23T16:39:05.897236Z"
    }
   },
   "outputs": [
    {
     "data": {
      "text/plain": [
       "[1]"
      ]
     },
     "execution_count": 47,
     "metadata": {},
     "output_type": "execute_result"
    }
   ],
   "source": [
    "lookaheads"
   ]
  },
  {
   "cell_type": "code",
   "execution_count": 48,
   "metadata": {
    "ExecuteTime": {
     "end_time": "2020-06-21T03:19:37.995277Z",
     "start_time": "2020-06-21T03:19:37.987379Z"
    },
    "execution": {
     "iopub.execute_input": "2024-09-23T16:39:05.901570Z",
     "iopub.status.busy": "2024-09-23T16:39:05.901570Z",
     "iopub.status.idle": "2024-09-23T16:39:05.913923Z",
     "shell.execute_reply": "2024-09-23T16:39:05.912900Z"
    },
    "scrolled": true
   },
   "outputs": [
    {
     "name": "stdout",
     "output_type": "stream",
     "text": [
      "Train configs: 2\n"
     ]
    }
   ],
   "source": [
    "test_params = list(product(lookaheads, train_lengths, test_lengths))\n",
    "n = len(test_params)\n",
    "test_param_sample = np.random.choice(list(range(n)), size=int(n), replace=False)\n",
    "test_params = [test_params[i] for i in test_param_sample]\n",
    "print('Train configs:', len(test_params))"
   ]
  },
  {
   "cell_type": "code",
   "execution_count": 49,
   "metadata": {
    "execution": {
     "iopub.execute_input": "2024-09-23T16:39:05.917231Z",
     "iopub.status.busy": "2024-09-23T16:39:05.917231Z",
     "iopub.status.idle": "2024-09-23T16:39:05.933263Z",
     "shell.execute_reply": "2024-09-23T16:39:05.933263Z"
    }
   },
   "outputs": [
    {
     "data": {
      "text/plain": [
       "[(1, 52, 52), (1, 216, 52)]"
      ]
     },
     "execution_count": 49,
     "metadata": {},
     "output_type": "execute_result"
    }
   ],
   "source": [
    "test_params"
   ]
  },
  {
   "cell_type": "markdown",
   "metadata": {},
   "source": [
    "### Categorical Variables"
   ]
  },
  {
   "cell_type": "code",
   "execution_count": 50,
   "metadata": {
    "ExecuteTime": {
     "end_time": "2020-06-21T03:19:38.043537Z",
     "start_time": "2020-06-21T03:19:37.996178Z"
    },
    "execution": {
     "iopub.execute_input": "2024-09-23T16:39:05.933263Z",
     "iopub.status.busy": "2024-09-23T16:39:05.933263Z",
     "iopub.status.idle": "2024-09-23T16:39:05.948827Z",
     "shell.execute_reply": "2024-09-23T16:39:05.948827Z"
    },
    "scrolled": true
   },
   "outputs": [],
   "source": [
    "#categoricals = ['year', 'weekday', 'month']\n",
    "categoricals = ['month','sector']\n",
    "for feature in categoricals:\n",
    "    data[feature] = pd.factorize(data[feature], sort=True)[0]"
   ]
  },
  {
   "cell_type": "markdown",
   "metadata": {},
   "source": [
    "### Custom Loss Function: Information Coefficient"
   ]
  },
  {
   "cell_type": "code",
   "execution_count": 51,
   "metadata": {
    "ExecuteTime": {
     "end_time": "2020-06-21T03:19:38.046578Z",
     "start_time": "2020-06-21T03:19:38.044405Z"
    },
    "execution": {
     "iopub.execute_input": "2024-09-23T16:39:05.948827Z",
     "iopub.status.busy": "2024-09-23T16:39:05.948827Z",
     "iopub.status.idle": "2024-09-23T16:39:05.964499Z",
     "shell.execute_reply": "2024-09-23T16:39:05.964499Z"
    }
   },
   "outputs": [],
   "source": [
    "def ic_lgbm(preds, train_data):\n",
    "    \"\"\"Custom IC eval metric for lightgbm\"\"\"\n",
    "    is_higher_better = True\n",
    "    return 'ic', spearmanr(preds, train_data.get_label())[0], is_higher_better"
   ]
  },
  {
   "cell_type": "markdown",
   "metadata": {},
   "source": [
    "### Run Cross-Validation"
   ]
  },
  {
   "cell_type": "code",
   "execution_count": 52,
   "metadata": {},
   "outputs": [],
   "source": [
    "borrado=True"
   ]
  },
  {
   "cell_type": "code",
   "execution_count": 53,
   "metadata": {
    "execution": {
     "iopub.execute_input": "2024-09-23T16:39:05.964499Z",
     "iopub.status.busy": "2024-09-23T16:39:05.964499Z",
     "iopub.status.idle": "2024-09-23T16:39:05.980040Z",
     "shell.execute_reply": "2024-09-23T16:39:05.980040Z"
    }
   },
   "outputs": [
    {
     "name": "stdout",
     "output_type": "stream",
     "text": [
      "No se encontró el archivo results/us_stocks/tuning_lgb.parquet.\n"
     ]
    }
   ],
   "source": [
    "#primero borramos 'tuning_lgb.h5' para que no sobrescriba parcialmente\n",
    "#si queremos borrar los datos anteriores, si no, poner borrado = False\n",
    "if borrado==True:\n",
    "    lgb_store = Path(results_path / 'tuning_lgb.parquet')\n",
    "    \n",
    "    # Comprueba si el archivo existe\n",
    "    if lgb_store.exists():\n",
    "        # Elimina el archivo\n",
    "        os.remove(lgb_store)\n",
    "        print(f\"El archivo {lgb_store} ha sido eliminado.\")\n",
    "    else:\n",
    "        print(f\"No se encontró el archivo {lgb_store}.\")"
   ]
  },
  {
   "cell_type": "code",
   "execution_count": 54,
   "metadata": {
    "ExecuteTime": {
     "end_time": "2020-06-21T03:19:38.054547Z",
     "start_time": "2020-06-21T03:19:38.047670Z"
    },
    "execution": {
     "iopub.execute_input": "2024-09-23T16:39:05.980040Z",
     "iopub.status.busy": "2024-09-23T16:39:05.980040Z",
     "iopub.status.idle": "2024-09-23T16:39:05.995698Z",
     "shell.execute_reply": "2024-09-23T16:39:05.995698Z"
    },
    "scrolled": true
   },
   "outputs": [],
   "source": [
    "lgb_store = Path(results_path / 'tuning_lgb.parquet')\n"
   ]
  },
  {
   "cell_type": "code",
   "execution_count": 55,
   "metadata": {
    "ExecuteTime": {
     "end_time": "2020-06-21T03:19:38.070171Z",
     "start_time": "2020-06-21T03:19:38.055637Z"
    },
    "execution": {
     "iopub.execute_input": "2024-09-23T16:39:05.995698Z",
     "iopub.status.busy": "2024-09-23T16:39:05.995698Z",
     "iopub.status.idle": "2024-09-23T16:39:06.011316Z",
     "shell.execute_reply": "2024-09-23T16:39:06.011316Z"
    },
    "scrolled": true
   },
   "outputs": [],
   "source": [
    "labels = sorted(data.filter(like='target').columns)\n",
    "features = data.columns.difference(labels).tolist()"
   ]
  },
  {
   "cell_type": "code",
   "execution_count": 56,
   "metadata": {
    "execution": {
     "iopub.execute_input": "2024-09-23T16:39:06.011316Z",
     "iopub.status.busy": "2024-09-23T16:39:06.011316Z",
     "iopub.status.idle": "2024-09-23T16:39:06.026931Z",
     "shell.execute_reply": "2024-09-23T16:39:06.026931Z"
    }
   },
   "outputs": [
    {
     "data": {
      "text/plain": [
       "['target_01w', 'target_02w', 'target_03w', 'target_06w', 'target_12w']"
      ]
     },
     "execution_count": 56,
     "metadata": {},
     "output_type": "execute_result"
    }
   ],
   "source": [
    "labels"
   ]
  },
  {
   "cell_type": "code",
   "execution_count": 57,
   "metadata": {
    "execution": {
     "iopub.execute_input": "2024-09-23T16:39:06.026931Z",
     "iopub.status.busy": "2024-09-23T16:39:06.026931Z",
     "iopub.status.idle": "2024-09-23T16:39:06.042281Z",
     "shell.execute_reply": "2024-09-23T16:39:06.042281Z"
    }
   },
   "outputs": [
    {
     "data": {
      "text/plain": [
       "['1y_yield',\n",
       " '1y_yield_diff',\n",
       " 'CMA',\n",
       " 'HML',\n",
       " 'Mkt-RF',\n",
       " 'RMW',\n",
       " 'SMB',\n",
       " 'corp_oas',\n",
       " 'corp_oas_diff',\n",
       " 'empleo_diff',\n",
       " 'eu_hy_oas',\n",
       " 'eu_hy_oas_diff',\n",
       " 'hy_oas',\n",
       " 'hy_oas_diff',\n",
       " 'inflacion',\n",
       " 'inflacion_diff',\n",
       " 'leading',\n",
       " 'leading_diff',\n",
       " 'momentum_02',\n",
       " 'momentum_03',\n",
       " 'momentum_06',\n",
       " 'momentum_12',\n",
       " 'momentum_3_12',\n",
       " 'momentum_52',\n",
       " 'month',\n",
       " 'oil',\n",
       " 'oil_diff',\n",
       " 'real_gdp',\n",
       " 'real_gdp_diff',\n",
       " 'recession',\n",
       " 'recession_diff',\n",
       " 'retail_sales',\n",
       " 'retail_sales_diff',\n",
       " 'retail_sales_percent',\n",
       " 'retail_sales_percent_diff',\n",
       " 'return_01w',\n",
       " 'return_01w_t-1',\n",
       " 'return_01w_t-2',\n",
       " 'return_01w_t-3',\n",
       " 'return_01w_t-4',\n",
       " 'return_01w_t-5',\n",
       " 'return_01w_t-6',\n",
       " 'return_02w',\n",
       " 'return_03w',\n",
       " 'return_06w',\n",
       " 'return_12w',\n",
       " 'return_52w',\n",
       " 'sector',\n",
       " 'sentiment',\n",
       " 'sentiment_diff',\n",
       " 'us_asset_balance_diff',\n",
       " 'vix',\n",
       " 'vix_diff',\n",
       " 'vixoil',\n",
       " 'vixoil_diff',\n",
       " 'weekjobclaims',\n",
       " 'weekjobclaims_diff',\n",
       " 'yield_curve',\n",
       " 'yield_curve_diff']"
      ]
     },
     "execution_count": 57,
     "metadata": {},
     "output_type": "execute_result"
    }
   ],
   "source": [
    "features"
   ]
  },
  {
   "cell_type": "code",
   "execution_count": 58,
   "metadata": {
    "ExecuteTime": {
     "end_time": "2020-06-21T03:19:38.078077Z",
     "start_time": "2020-06-21T03:19:38.071079Z"
    },
    "execution": {
     "iopub.execute_input": "2024-09-23T16:39:06.042281Z",
     "iopub.status.busy": "2024-09-23T16:39:06.042281Z",
     "iopub.status.idle": "2024-09-23T16:39:06.058255Z",
     "shell.execute_reply": "2024-09-23T16:39:06.058255Z"
    },
    "scrolled": true
   },
   "outputs": [],
   "source": [
    "#label_dict = dict(zip(lookaheads, labels))"
   ]
  },
  {
   "cell_type": "code",
   "execution_count": 59,
   "metadata": {
    "execution": {
     "iopub.execute_input": "2024-09-23T16:39:06.058255Z",
     "iopub.status.busy": "2024-09-23T16:39:06.058255Z",
     "iopub.status.idle": "2024-09-23T16:39:06.073837Z",
     "shell.execute_reply": "2024-09-23T16:39:06.073837Z"
    }
   },
   "outputs": [],
   "source": [
    "#label_dict"
   ]
  },
  {
   "cell_type": "code",
   "execution_count": 60,
   "metadata": {
    "ExecuteTime": {
     "end_time": "2020-06-21T03:19:38.086476Z",
     "start_time": "2020-06-21T03:19:38.078921Z"
    },
    "execution": {
     "iopub.execute_input": "2024-09-23T16:39:06.073837Z",
     "iopub.status.busy": "2024-09-23T16:39:06.073837Z",
     "iopub.status.idle": "2024-09-23T16:39:06.089450Z",
     "shell.execute_reply": "2024-09-23T16:39:06.089450Z"
    },
    "scrolled": true
   },
   "outputs": [],
   "source": [
    "#num_iterations = [10, 25, 50, 75] + list(range(100, 501, 50))\n",
    "num_iterations = [50, 100] #+ list(range(100, 501, 50))\n",
    "num_boost_round = num_iterations[-1]"
   ]
  },
  {
   "cell_type": "code",
   "execution_count": 61,
   "metadata": {
    "execution": {
     "iopub.execute_input": "2024-09-23T16:39:06.089450Z",
     "iopub.status.busy": "2024-09-23T16:39:06.089450Z",
     "iopub.status.idle": "2024-09-23T16:39:06.105065Z",
     "shell.execute_reply": "2024-09-23T16:39:06.105065Z"
    }
   },
   "outputs": [
    {
     "data": {
      "text/plain": [
       "[50, 100]"
      ]
     },
     "execution_count": 61,
     "metadata": {},
     "output_type": "execute_result"
    }
   ],
   "source": [
    "num_iterations"
   ]
  },
  {
   "cell_type": "code",
   "execution_count": 62,
   "metadata": {
    "execution": {
     "iopub.execute_input": "2024-09-23T16:39:06.105065Z",
     "iopub.status.busy": "2024-09-23T16:39:06.105065Z",
     "iopub.status.idle": "2024-09-23T16:39:06.120686Z",
     "shell.execute_reply": "2024-09-23T16:39:06.120686Z"
    }
   },
   "outputs": [
    {
     "data": {
      "text/plain": [
       "100"
      ]
     },
     "execution_count": 62,
     "metadata": {},
     "output_type": "execute_result"
    }
   ],
   "source": [
    "num_boost_round"
   ]
  },
  {
   "cell_type": "code",
   "execution_count": 63,
   "metadata": {
    "ExecuteTime": {
     "end_time": "2020-06-21T03:19:38.094204Z",
     "start_time": "2020-06-21T03:19:38.087354Z"
    },
    "execution": {
     "iopub.execute_input": "2024-09-23T16:39:06.120686Z",
     "iopub.status.busy": "2024-09-23T16:39:06.120686Z",
     "iopub.status.idle": "2024-09-23T16:39:06.136366Z",
     "shell.execute_reply": "2024-09-23T16:39:06.136366Z"
    },
    "scrolled": true
   },
   "outputs": [],
   "source": [
    "metric_cols = (param_names + ['t', 'daily_ic_mean', 'daily_ic_mean_n',\n",
    "                              'daily_ic_median', 'daily_ic_median_n'] +\n",
    "               [str(n) for n in num_iterations])"
   ]
  },
  {
   "cell_type": "code",
   "execution_count": 64,
   "metadata": {
    "execution": {
     "iopub.execute_input": "2024-09-23T16:39:06.136366Z",
     "iopub.status.busy": "2024-09-23T16:39:06.136366Z",
     "iopub.status.idle": "2024-09-23T16:39:06.151944Z",
     "shell.execute_reply": "2024-09-23T16:39:06.151944Z"
    }
   },
   "outputs": [
    {
     "data": {
      "text/plain": [
       "['learning_rate',\n",
       " 'num_leaves',\n",
       " 'feature_fraction',\n",
       " 'min_data_in_leaf',\n",
       " 't',\n",
       " 'daily_ic_mean',\n",
       " 'daily_ic_mean_n',\n",
       " 'daily_ic_median',\n",
       " 'daily_ic_median_n',\n",
       " '50',\n",
       " '100']"
      ]
     },
     "execution_count": 64,
     "metadata": {},
     "output_type": "execute_result"
    }
   ],
   "source": [
    "metric_cols"
   ]
  },
  {
   "cell_type": "code",
   "execution_count": 65,
   "metadata": {
    "execution": {
     "iopub.execute_input": "2024-09-23T16:39:06.151944Z",
     "iopub.status.busy": "2024-09-23T16:39:06.151944Z",
     "iopub.status.idle": "2024-09-23T16:39:06.167560Z",
     "shell.execute_reply": "2024-09-23T16:39:06.167560Z"
    }
   },
   "outputs": [
    {
     "data": {
      "text/plain": [
       "52"
      ]
     },
     "execution_count": 65,
     "metadata": {},
     "output_type": "execute_result"
    }
   ],
   "source": [
    "YEAR"
   ]
  },
  {
   "cell_type": "code",
   "execution_count": 66,
   "metadata": {
    "execution": {
     "iopub.execute_input": "2024-09-23T16:39:06.167560Z",
     "iopub.status.busy": "2024-09-23T16:39:06.167560Z",
     "iopub.status.idle": "2024-09-23T16:39:06.183201Z",
     "shell.execute_reply": "2024-09-23T16:39:06.183201Z"
    }
   },
   "outputs": [],
   "source": [
    "#stop"
   ]
  },
  {
   "cell_type": "code",
   "execution_count": 67,
   "metadata": {
    "execution": {
     "iopub.execute_input": "2024-09-23T16:39:06.183201Z",
     "iopub.status.busy": "2024-09-23T16:39:06.183201Z",
     "iopub.status.idle": "2024-09-23T16:39:06.198815Z",
     "shell.execute_reply": "2024-09-23T16:39:06.198815Z"
    }
   },
   "outputs": [
    {
     "data": {
      "text/plain": [
       "108"
      ]
     },
     "execution_count": 67,
     "metadata": {},
     "output_type": "execute_result"
    }
   ],
   "source": [
    "n_params"
   ]
  },
  {
   "cell_type": "markdown",
   "metadata": {},
   "source": [
    "We iterate over our six CV configurations and collect the resulting metrics:"
   ]
  },
  {
   "cell_type": "code",
   "execution_count": 68,
   "metadata": {
    "ExecuteTime": {
     "end_time": "2020-06-21T11:56:42.000694Z",
     "start_time": "2020-06-21T03:19:38.095078Z"
    },
    "execution": {
     "iopub.execute_input": "2024-09-23T16:39:06.198815Z",
     "iopub.status.busy": "2024-09-23T16:39:06.198815Z",
     "iopub.status.idle": "2024-09-23T18:00:28.733379Z",
     "shell.execute_reply": "2024-09-23T18:00:28.733379Z"
    },
    "scrolled": true
   },
   "outputs": [
    {
     "name": "stdout",
     "output_type": "stream",
     "text": [
      "Lookahead:  1 | Train:  52 | Test: 52 | Params:  54 | Train configs: 2\n",
      "\t  0 | 00:00:01 (  1) |  0.30 |   4 | 95% |   50 |   1.51% | -1.44% |  100 | -3.64% |   50\n",
      "\t  1 | 00:00:02 (  1) |  0.01 |   8 | 30% |  100 |  -2.46% | -3.93% |   50 | -5.47% |   50\n",
      "\t  2 | 00:00:02 (  1) |  0.01 |   4 | 60% |  100 |  -1.20% | -2.33% |   50 |  0.00% |   50\n",
      "\t  3 | 00:00:03 (  1) |  0.30 |   8 | 60% |   50 |  -0.23% | -0.62% |   50 | -1.36% |  100\n",
      "\t  4 | 00:00:04 (  1) |  0.10 | 128 | 30% |  100 |  -1.18% | -3.16% |   50 | -4.55% |  100\n",
      "\t  5 | 00:00:04 (  1) |  0.10 | 128 | 60% |  200 |  -1.88% | -0.65% |   50 | -1.62% |  100\n",
      "\t  6 | 00:00:05 (  1) |  0.01 | 128 | 60% |   50 |  -1.87% | -1.13% |  100 | -2.76% |  100\n",
      "\t  7 | 00:00:06 (  1) |  0.10 |   8 | 30% |   50 |  -0.18% | -0.92% |  100 | -0.91% |   50\n",
      "\t  8 | 00:00:07 (  1) |  0.30 |  32 | 95% |   50 |   2.03% | -3.13% |  100 |  0.00% |   50\n",
      "\t  9 | 00:00:07 (  0) |  0.01 |   8 | 30% |  200 |  -4.15% | -0.09% |   50 |  0.00% |  100\n",
      "\t 10 | 00:00:08 (  1) |  0.30 |   4 | 95% |  100 |   2.02% | -1.33% |   50 | -2.73% |   50\n",
      "\t 11 | 00:00:08 (  1) |  0.30 |   4 | 95% |  200 |  -0.46% | -2.10% |   50 | -0.91% |  100\n",
      "\t 12 | 00:00:09 (  1) |  0.01 |   4 | 30% |   50 |  -2.89% | -0.46% |   50 |  0.00% |   50\n",
      "\t 13 | 00:00:09 (  1) |  0.30 |   8 | 30% |   50 |  -0.95% | -1.85% |  100 | -1.36% |  100\n",
      "\t 14 | 00:00:10 (  1) |  0.01 |  32 | 30% |   50 |  -2.45% | -2.58% |   50 | -3.02% |   50\n",
      "\t 15 | 00:00:11 (  1) |  0.10 | 128 | 95% |  100 |   0.89% | -1.95% |   50 | -1.36% |   50\n",
      "\t 16 | 00:00:11 (  1) |  0.10 |  32 | 30% |  200 |  -1.85% | -1.76% |   50 | -2.87% |  100\n",
      "\t 17 | 00:00:12 (  1) |  0.30 |   4 | 30% |   50 |  -1.06% | -1.45% |  100 | -1.82% |   50\n",
      "\t 18 | 00:00:12 (  1) |  0.30 | 128 | 95% |  200 |  -0.46% | -2.10% |   50 | -0.91% |  100\n",
      "\t 19 | 00:00:13 (  1) |  0.10 |   4 | 95% |   50 |  -0.15% | -4.10% |   50 | -2.11% |   50\n",
      "\t 20 | 00:00:14 (  1) |  0.01 |   8 | 60% |   50 |  -1.93% | -1.32% |   50 | -3.65% |  100\n",
      "\t 21 | 00:00:14 (  1) |  0.10 |   4 | 30% |   50 |  -1.35% | -2.82% |   50 | -5.40% |   50\n",
      "\t 22 | 00:00:15 (  1) |  0.10 | 128 | 30% |  200 |  -1.85% | -1.76% |   50 | -2.87% |  100\n",
      "\t 23 | 00:00:15 (  0) |  0.01 |  32 | 95% |  200 |  -3.74% | -2.67% |   50 |  0.00% |   50\n",
      "\t 24 | 00:00:16 (  1) |  0.01 |  32 | 60% |  100 |  -1.27% | -2.51% |  100 | -0.99% |   50\n",
      "\t 25 | 00:00:17 (  1) |  0.01 | 128 | 60% |  100 |  -1.27% | -2.51% |  100 | -0.99% |   50\n",
      "\t 26 | 00:00:17 (  1) |  0.10 |   8 | 30% |  200 |  -1.85% | -1.76% |   50 | -2.87% |  100\n",
      "\t 27 | 00:00:18 (  1) |  0.30 |   4 | 60% |  100 |  -1.31% | -1.27% |  100 |  0.00% |   50\n",
      "\t 28 | 00:00:18 (  1) |  0.01 |   8 | 95% |   50 |   0.91% | -1.24% |  100 | -3.93% |  100\n",
      "\t 29 | 00:00:19 (  1) |  0.10 |   4 | 95% |  200 |  -1.55% | -0.47% |   50 | -0.76% |   50\n",
      "\t 30 | 00:00:20 (  1) |  0.30 |   8 | 95% |  200 |  -0.46% | -2.10% |   50 | -0.91% |  100\n",
      "\t 31 | 00:00:20 (  1) |  0.30 |  32 | 30% |   50 |  -2.47% | -0.40% |   50 | -1.82% |   50\n",
      "\t 32 | 00:00:21 (  1) |  0.01 |   8 | 30% |   50 |  -2.45% | -2.51% |   50 | -2.73% |  100\n",
      "\t 33 | 00:00:22 (  1) |  0.01 | 128 | 95% |   50 |   1.16% | -1.16% |  100 | -3.88% |  100\n",
      "\t 34 | 00:00:22 (  1) |  0.10 |  32 | 30% |  100 |  -1.18% | -3.16% |   50 | -4.55% |  100\n",
      "\t 35 | 00:00:23 (  1) |  0.10 | 128 | 95% |   50 |   1.39% | -3.49% |  100 | -4.55% |   50\n",
      "\t 36 | 00:00:24 (  1) |  0.01 | 128 | 30% |  100 |  -2.46% | -3.93% |   50 | -5.47% |   50\n",
      "\t 37 | 00:00:24 (  1) |  0.10 |   4 | 60% |  100 |  -0.11% | -4.23% |  100 | -4.56% |   50\n",
      "\t 38 | 00:00:25 (  0) |  0.01 |   4 | 60% |  200 |  -4.16% | -4.42% |   50 | -3.23% |   50\n",
      "\t 39 | 00:00:25 (  1) |  0.10 |   8 | 95% |  200 |  -1.55% | -0.47% |   50 | -0.76% |   50\n",
      "\t 40 | 00:00:26 (  1) |  0.10 |  32 | 95% |  200 |  -1.55% | -0.47% |   50 | -0.76% |   50\n",
      "\t 41 | 00:00:26 (  1) |  0.10 |   4 | 60% |   50 |  -1.31% | -3.70% |   50 | -4.36% |   50\n",
      "\t 42 | 00:00:27 (  0) |  0.01 | 128 | 95% |  200 |  -3.74% | -2.67% |   50 |  0.00% |   50\n",
      "\t 43 | 00:00:27 (  1) |  0.01 |   8 | 95% |  100 |  -1.11% | -3.94% |  100 | -3.03% |  100\n",
      "\t 44 | 00:00:28 (  1) |  0.30 | 128 | 60% |  100 |  -0.75% | -2.56% |  100 | -3.64% |  100\n",
      "\t 45 | 00:00:29 (  1) |  0.01 | 128 | 95% |  100 |  -1.11% | -3.94% |  100 | -3.03% |  100\n",
      "\t 46 | 00:00:29 (  1) |  0.10 | 128 | 60% |  100 |   1.56% | -1.21% |  100 | -0.91% |  100\n",
      "\t 47 | 00:00:30 (  1) |  0.01 |   4 | 95% |  100 |  -0.48% | -0.72% |  100 |  0.00% |  100\n",
      "\t 48 | 00:00:31 (  1) |  0.10 |   4 | 95% |  100 |   0.31% | -2.04% |   50 |  0.45% |  100\n",
      "\t 49 | 00:00:31 (  1) |  0.10 | 128 | 60% |   50 |  -0.61% | -1.98% |  100 |  0.00% |   50\n",
      "\t 50 | 00:00:32 (  1) |  0.30 |   4 | 30% |  100 |   0.01% | -1.27% |   50 | -0.45% |  100\n",
      "\t 51 | 00:00:33 (  1) |  0.01 | 128 | 30% |   50 |  -2.45% | -2.58% |   50 | -3.02% |   50\n",
      "\t 52 | 00:00:34 (  1) |  0.01 |  32 | 30% |  100 |  -2.46% | -3.93% |   50 | -5.47% |   50\n",
      "\t 53 | 00:00:36 (  2) |  0.30 |   8 | 95% |  100 |   1.10% | -1.09% |   50 |  0.91% |   50\n",
      "Lookahead:  1 | Train: 216 | Test: 52 | Params:  54 | Train configs: 2\n",
      "\t  0 | 00:00:02 (  2) |  0.01 |   8 | 95% |   50 |   2.24% |  2.37% |  100 |  4.75% |   50\n",
      "\t  1 | 00:00:04 (  1) |  0.01 |   8 | 30% |   50 |   2.28% |  4.24% |  100 |  5.74% |  100\n",
      "\t  2 | 00:00:06 (  2) |  0.30 | 128 | 30% |  100 |   4.60% |  3.75% |  100 |  2.73% |  100\n",
      "\t  3 | 00:00:07 (  1) |  0.30 |   8 | 30% |   50 |   5.06% |  1.16% |  100 |  3.87% |   50\n",
      "\t  4 | 00:00:08 (  1) |  0.10 | 128 | 60% |  200 |   9.02% |  0.37% |  100 |  2.73% |  100\n",
      "\t  5 | 00:00:09 (  1) |  0.30 |  32 | 60% |  200 |  11.70% |  1.48% |   50 | -0.45% |   50\n",
      "\t  6 | 00:00:11 (  1) |  0.10 |  32 | 60% |  200 |   9.02% |  0.37% |  100 |  2.73% |  100\n",
      "\t  7 | 00:00:13 (  2) |  0.01 |   8 | 95% |  200 |   2.12% |  2.24% |  100 |  0.00% |   50\n",
      "\t  8 | 00:00:14 (  1) |  0.10 |   8 | 60% |  100 |   5.94% |  1.42% |   50 |  0.46% |   50\n",
      "\t  9 | 00:00:15 (  1) |  0.10 |   4 | 30% |  100 |   0.21% |  2.23% |   50 |  4.01% |   50\n",
      "\t 10 | 00:00:18 (  2) |  0.30 | 128 | 30% |   50 |   5.12% | -1.09% |  100 | -1.82% |  100\n",
      "\t 11 | 00:00:19 (  1) |  0.01 |  32 | 30% |  200 |   5.10% |  1.07% |  100 |  0.91% |  100\n",
      "\t 12 | 00:00:20 (  1) |  0.10 | 128 | 30% |  200 |   8.00% |  0.12% |  100 |  1.82% |  100\n",
      "\t 13 | 00:00:22 (  1) |  0.10 |   8 | 60% |   50 |   4.79% |  0.99% |   50 |  0.91% |   50\n",
      "\t 14 | 00:00:23 (  1) |  0.30 |   4 | 30% |  100 |   3.83% |  1.82% |   50 |  4.10% |   50\n",
      "\t 15 | 00:00:24 (  1) |  0.30 |  32 | 30% |  100 |   4.60% |  3.75% |  100 |  2.73% |  100\n",
      "\t 16 | 00:00:26 (  2) |  0.01 |  32 | 30% |   50 |   0.62% |  1.01% |  100 | -0.45% |  100\n",
      "\t 17 | 00:00:28 (  1) |  0.30 |   8 | 30% |  100 |   7.63% |  0.65% |   50 |  1.82% |   50\n",
      "\t 18 | 00:00:29 (  1) |  0.30 |   8 | 60% |  200 |  10.34% |  3.38% |  100 |  2.73% |  100\n",
      "\t 19 | 00:00:30 (  1) |  0.10 |   4 | 60% |   50 |   3.58% |  0.50% |  100 | -0.25% |   50\n",
      "\t 20 | 00:00:33 (  3) |  0.10 |  32 | 95% |   50 |   3.48% | -0.02% |  100 | -1.36% |  100\n",
      "\t 21 | 00:00:36 (  2) |  0.30 | 128 | 30% |  200 |   6.90% |  1.10% |  100 |  3.64% |  100\n",
      "\t 22 | 00:00:38 (  2) |  0.30 |  32 | 95% |  200 |   9.14% | -0.57% |   50 | -1.36% |   50\n",
      "\t 23 | 00:00:40 (  3) |  0.01 | 128 | 60% |   50 |   1.04% |  1.13% |   50 |  1.82% |   50\n",
      "\t 24 | 00:00:41 (  1) |  0.01 |  32 | 95% |  100 |   2.08% |  4.45% |  100 |  6.36% |  100\n",
      "\t 25 | 00:00:43 (  1) |  0.01 |   8 | 95% |  100 |   0.57% |  2.88% |   50 |  7.45% |   50\n",
      "\t 26 | 00:00:44 (  2) |  0.10 | 128 | 30% |   50 |   1.91% |  0.63% |  100 | -0.45% |   50\n",
      "\t 27 | 00:00:45 (  1) |  0.30 |   8 | 95% |  100 |   2.99% |  1.13% |   50 |  0.00% |   50\n",
      "\t 28 | 00:00:47 (  2) |  0.30 |  32 | 95% |  100 |   5.79% |  1.20% |   50 |  2.27% |   50\n",
      "\t 29 | 00:00:48 (  1) |  0.30 |   4 | 30% |  200 |   6.18% |  2.39% |  100 |  3.64% |  100\n",
      "\t 30 | 00:00:50 (  2) |  0.10 | 128 | 60% |  100 |   6.66% |  4.40% |   50 |  5.00% |   50\n",
      "\t 31 | 00:00:52 (  2) |  0.10 | 128 | 95% |  100 |   3.85% |  1.42% |   50 |  2.73% |   50\n",
      "\t 32 | 00:00:53 (  1) |  0.01 |  32 | 60% |  200 |   4.32% | -0.38% |  100 | -0.72% |  100\n",
      "\t 33 | 00:00:54 (  1) |  0.30 |  32 | 30% |  200 |   6.90% |  1.10% |  100 |  3.64% |  100\n",
      "\t 34 | 00:00:55 (  1) |  0.30 |   4 | 95% |  100 |   4.44% |  3.46% |  100 |  5.45% |  100\n",
      "\t 35 | 00:01:03 (  7) |  0.10 | 128 | 95% |   50 |   2.22% |  1.37% |  100 |  2.73% |  100\n",
      "\t 36 | 00:01:03 (  1) |  0.01 |   4 | 95% |  100 |  -0.03% |  6.16% |  100 |  6.74% |  100\n",
      "\t 37 | 00:01:05 (  1) |  0.10 |  32 | 30% |  100 |   0.28% | -0.39% |   50 | -1.36% |   50\n",
      "\t 38 | 00:01:06 (  1) |  0.10 |   8 | 30% |   50 |  -1.54% |  2.21% |   50 |  1.37% |   50\n",
      "\t 39 | 00:01:07 (  1) |  0.30 |   8 | 60% |   50 |   3.43% |  2.63% |  100 |  3.64% |  100\n",
      "\t 40 | 00:01:08 (  1) |  0.30 | 128 | 60% |  100 |   3.16% |  1.02% |   50 |  0.91% |   50\n",
      "\t 41 | 00:01:10 (  2) |  0.10 | 128 | 60% |   50 |   1.79% | -1.51% |  100 | -2.73% |   50\n",
      "\t 42 | 00:01:11 (  1) |  0.30 |   4 | 95% |  200 |   4.56% |  2.16% |   50 |  1.61% |   50\n",
      "\t 43 | 00:01:12 (  1) |  0.30 |   8 | 30% |  200 |   9.35% |  1.12% |   50 |  1.82% |   50\n",
      "\t 44 | 00:01:14 (  2) |  0.30 |  32 | 95% |   50 |   4.94% |  0.20% |   50 |  1.82% |   50\n",
      "\t 45 | 00:01:15 (  1) |  0.10 |   4 | 30% |  200 |   6.16% |  0.56% |  100 |  1.82% |   50\n",
      "\t 46 | 00:01:17 (  2) |  0.01 |  32 | 95% |   50 |   1.88% |  0.81% |   50 |  1.82% |   50\n",
      "\t 47 | 00:01:18 (  1) |  0.10 |   8 | 95% |  200 |   5.96% |  0.15% |  100 | -0.91% |  100\n",
      "\t 48 | 00:01:19 (  1) |  0.01 |   8 | 30% |  100 |  -0.19% |  3.98% |  100 |  3.45% |  100\n",
      "\t 49 | 00:01:20 (  1) |  0.01 | 128 | 30% |  200 |   5.10% |  1.07% |  100 |  0.91% |  100\n",
      "\t 50 | 00:01:22 (  1) |  0.01 |  32 | 30% |  100 |  -0.21% |  0.25% |  100 |  0.91% |  100\n",
      "\t 51 | 00:01:24 (  2) |  0.10 |  32 | 60% |   50 |   2.85% |  1.98% |  100 |  1.82% |  100\n",
      "\t 52 | 00:01:26 (  2) |  0.30 |  32 | 30% |   50 |   5.86% | -2.05% |   50 | -2.73% |   50\n",
      "\t 53 | 00:01:27 (  2) |  0.10 |  32 | 30% |   50 |   2.01% | -1.44% |  100 | -1.82% |   50\n"
     ]
    }
   ],
   "source": [
    "for lookahead, train_length, test_length in test_params:\n",
    "    # randomized grid search\n",
    "    cvp = np.random.choice(list(range(n_params)),\n",
    "                           size=int(n_params / 2),\n",
    "                           replace=False)\n",
    "    cv_params_ = [cv_params[i] for i in cvp]\n",
    "\n",
    "    # set up cross-validatio. years_val serán los años de validación\n",
    "    n_splits = int(YEAR * years_val/ test_length)#modificado\n",
    "    print(f'Lookahead: {lookahead:2.0f} | '\n",
    "          f'Train: {train_length:3.0f} | '\n",
    "          f'Test: {test_length:2.0f} | '\n",
    "          f'Params: {len(cv_params_):3.0f} | '\n",
    "          f'Train configs: {len(test_params)}')\n",
    "\n",
    "    # time-series cross-validation\n",
    "    cv = MultipleTimeSeriesCV(n_splits=n_splits,\n",
    "                              lookahead=lookahead,\n",
    "                              test_period_length=test_length,\n",
    "                              train_period_length=train_length)\n",
    "\n",
    "    #label = label_dict[lookahead] modificado para no liar\n",
    "    label = label \n",
    "    outcome_data = data.loc[:, features + [label]].dropna()\n",
    "    \n",
    "    # binary dataset\n",
    "    lgb_data = lgb.Dataset(data=outcome_data.drop(label, axis=1),\n",
    "                           label=outcome_data[label],\n",
    "                           categorical_feature=categoricals,\n",
    "                           free_raw_data=False)\n",
    "    T = 0\n",
    "    predictions, metrics, feature_importance, daily_ic = [], [], [], []\n",
    "    \n",
    "    # iterate over (shuffled) hyperparameter combinations\n",
    "    for p, param_vals in enumerate(cv_params_):\n",
    "        key = f'{lookahead}/{train_length}/{test_length}/' + '/'.join([str(p) for p in param_vals])\n",
    "        params = dict(zip(param_names, param_vals))\n",
    "        params.update(base_params)\n",
    "\n",
    "        start = time()\n",
    "        cv_preds, nrounds = [], []\n",
    "        ic_cv = defaultdict(list)\n",
    "        \n",
    "        # iterate over folds\n",
    "        for i, (train_idx, test_idx) in enumerate(cv.split(X=outcome_data)):\n",
    "            \n",
    "            # select train subset\n",
    "            lgb_train = lgb_data.subset(used_indices=train_idx.tolist(),\n",
    "                                       params=params).construct()\n",
    "            \n",
    "            # train model for num_boost_round\n",
    "            model = lgb.train(params=params,\n",
    "                              train_set=lgb_train,\n",
    "                              num_boost_round=num_boost_round,\n",
    "                              )\n",
    "            # log feature importance\n",
    "            if i == 0:\n",
    "                fi = get_fi(model).to_frame()\n",
    "            else:\n",
    "                fi[i] = get_fi(model)\n",
    "\n",
    "            # capture predictions\n",
    "            test_set = outcome_data.iloc[test_idx, :]\n",
    "            X_test = test_set.loc[:, model.feature_name()]\n",
    "            y_test = test_set.loc[:, label]\n",
    "            y_pred = {str(n): model.predict(X_test, num_iteration=n) for n in num_iterations}\n",
    "            \n",
    "            # record predictions for each fold\n",
    "            cv_preds.append(y_test.to_frame('y_test').assign(**y_pred).assign(i=i))\n",
    "        \n",
    "        # combine fold results\n",
    "        cv_preds = pd.concat(cv_preds).assign(**params)\n",
    "        predictions.append(cv_preds)\n",
    "        \n",
    "        # compute IC per day\n",
    "        by_day = cv_preds.groupby(level='date')\n",
    "        ic_by_day = pd.concat([by_day.apply(lambda x: spearmanr(x.y_test, x[str(n)])[0]).to_frame(n)\n",
    "                               for n in num_iterations], axis=1)\n",
    "        daily_ic_mean = ic_by_day.mean()\n",
    "        daily_ic_mean_n = daily_ic_mean.idxmax()\n",
    "        daily_ic_median = ic_by_day.median()\n",
    "        daily_ic_median_n = daily_ic_median.idxmax()\n",
    "        \n",
    "        # compute IC across all predictions\n",
    "        ic = [spearmanr(cv_preds.y_test, cv_preds[str(n)])[0] for n in num_iterations]\n",
    "        t = time() - start\n",
    "        T += t\n",
    "        \n",
    "        # collect metrics\n",
    "        metrics = pd.Series(list(param_vals) +\n",
    "                            [t, daily_ic_mean.max(), daily_ic_mean_n, daily_ic_median.max(), daily_ic_median_n] + ic,\n",
    "                            index=metric_cols)\n",
    "        msg = f'\\t{p:3.0f} | {format_time(T)} ({t:3.0f}) | {params[\"learning_rate\"]:5.2f} | '\n",
    "        msg += f'{params[\"num_leaves\"]:3.0f} | {params[\"feature_fraction\"]:3.0%} | {params[\"min_data_in_leaf\"]:4.0f} | '\n",
    "        msg += f' {max(ic):6.2%} | {ic_by_day.mean().max(): 6.2%} | {daily_ic_mean_n: 4.0f} | {ic_by_day.median().max(): 6.2%} | {daily_ic_median_n: 4.0f}'\n",
    "        print(msg)\n",
    "\n",
    "        # persist results for given CV run and hyperparameter combination\n",
    "        os.makedirs(os.path.dirname(str(lgb_store).replace('.parquet', '') + '_metrics/' + key.replace(\"/\",\"_\") ), exist_ok=True)\n",
    "        os.makedirs(os.path.dirname(str(lgb_store).replace('.parquet', '') + '_daily_ic/' + key.replace(\"/\",\"_\") ), exist_ok=True)\n",
    "        os.makedirs(os.path.dirname(str(lgb_store).replace('.parquet', '') + '_fi/' + key.replace(\"/\",\"_\") ), exist_ok=True)\n",
    "        os.makedirs(os.path.dirname(str(lgb_store).replace('.parquet', '') + '_predictions/' + key.replace(\"/\",\"_\") ), exist_ok=True)\n",
    "        metrics.to_frame().to_parquet(str(lgb_store).replace('.parquet', '') + '_metrics/' + key.replace(\"/\",\"_\") + '_metrics.parquet')\n",
    "        ic_by_day.assign(**params).to_parquet(str(lgb_store).replace('.parquet', '') + '_daily_ic/' + key.replace(\"/\",\"_\") + '_daily_ic.parquet')\n",
    "        fi.T.describe().T.assign(**params).to_parquet(str(lgb_store).replace('.parquet', '') + '_fi/' + key.replace(\"/\",\"_\") + '_fi.parquet')\n",
    "        cv_preds.to_parquet(str(lgb_store).replace('.parquet', '') + '_predictions/' + key.replace(\"/\",\"_\") + '_predictions.parquet')\n",
    "        "
   ]
  },
  {
   "cell_type": "code",
   "execution_count": 69,
   "metadata": {
    "execution": {
     "iopub.execute_input": "2024-09-23T18:00:28.733379Z",
     "iopub.status.busy": "2024-09-23T18:00:28.733379Z",
     "iopub.status.idle": "2024-09-23T18:00:28.764790Z",
     "shell.execute_reply": "2024-09-23T18:00:28.764790Z"
    }
   },
   "outputs": [
    {
     "name": "stdout",
     "output_type": "stream",
     "text": [
      "                                  1y_yield  1y_yield_diff       CMA       HML  \\\n",
      "ticker date                                                                     \n",
      "XLY    2016-12-18 00:00:00+00:00      0.91           0.06 -0.118778  0.085996   \n",
      "       2016-12-25 00:00:00+00:00      0.87          -0.04 -0.118778  0.085996   \n",
      "       2017-01-01 00:00:00+00:00      0.85          -0.02 -0.118778  0.085996   \n",
      "       2017-01-08 00:00:00+00:00      0.85           0.00 -0.141699  0.114499   \n",
      "       2017-01-15 00:00:00+00:00      0.82          -0.03 -0.141699  0.114499   \n",
      "...                                    ...            ...       ...       ...   \n",
      "       2018-10-14 00:00:00+00:00      2.66           0.02  0.333222 -0.292274   \n",
      "       2018-10-21 00:00:00+00:00      2.67           0.01  0.333222 -0.292274   \n",
      "       2018-10-28 00:00:00+00:00      2.63          -0.04  0.333222 -0.292274   \n",
      "       2018-11-04 00:00:00+00:00      2.70           0.07  0.333222 -0.292274   \n",
      "       2018-11-11 00:00:00+00:00      2.73           0.03  0.421927 -0.177436   \n",
      "\n",
      "                                    Mkt-RF       RMW       SMB  corp_oas  \\\n",
      "ticker date                                                                \n",
      "XLY    2016-12-18 00:00:00+00:00  0.047267 -0.344573 -0.052523      1.30   \n",
      "       2016-12-25 00:00:00+00:00  0.047267 -0.344573 -0.052523      1.29   \n",
      "       2017-01-01 00:00:00+00:00  0.047267 -0.344573 -0.052523      1.30   \n",
      "       2017-01-08 00:00:00+00:00  0.040261 -0.319879 -0.039019      1.28   \n",
      "       2017-01-15 00:00:00+00:00  0.040261 -0.319879 -0.039019      1.28   \n",
      "...                                    ...       ...       ...       ...   \n",
      "       2018-10-14 00:00:00+00:00  0.389005 -0.395414 -0.108578      1.16   \n",
      "       2018-10-21 00:00:00+00:00  0.389005 -0.395414 -0.108578      1.17   \n",
      "       2018-10-28 00:00:00+00:00  0.389005 -0.395414 -0.108578      1.23   \n",
      "       2018-11-04 00:00:00+00:00  0.389005 -0.395414 -0.108578      1.24   \n",
      "       2018-11-11 00:00:00+00:00  0.474823 -0.417007 -0.080902      1.23   \n",
      "\n",
      "                                  corp_oas_diff  empleo_diff  ...  \\\n",
      "ticker date                                                   ...   \n",
      "XLY    2016-12-18 00:00:00+00:00          -0.03          0.0  ...   \n",
      "       2016-12-25 00:00:00+00:00          -0.01          0.0  ...   \n",
      "       2017-01-01 00:00:00+00:00           0.01          0.0  ...   \n",
      "       2017-01-08 00:00:00+00:00          -0.02          0.0  ...   \n",
      "       2017-01-15 00:00:00+00:00           0.00          0.0  ...   \n",
      "...                                         ...          ...  ...   \n",
      "       2018-10-14 00:00:00+00:00           0.03          0.0  ...   \n",
      "       2018-10-21 00:00:00+00:00           0.01          0.0  ...   \n",
      "       2018-10-28 00:00:00+00:00           0.06          0.0  ...   \n",
      "       2018-11-04 00:00:00+00:00           0.01          0.0  ...   \n",
      "       2018-11-11 00:00:00+00:00          -0.01          0.0  ...   \n",
      "\n",
      "                                  sentiment_diff  us_asset_balance_diff  \\\n",
      "ticker date                                                               \n",
      "XLY    2016-12-18 00:00:00+00:00             0.0                   35.0   \n",
      "       2016-12-25 00:00:00+00:00             0.0                   35.0   \n",
      "       2017-01-01 00:00:00+00:00             0.3                   35.0   \n",
      "       2017-01-08 00:00:00+00:00             0.0                  -10.0   \n",
      "       2017-01-15 00:00:00+00:00             0.0                  -43.0   \n",
      "...                                          ...                    ...   \n",
      "       2018-10-14 00:00:00+00:00             0.0                   17.0   \n",
      "       2018-10-21 00:00:00+00:00             0.0                   18.0   \n",
      "       2018-10-28 00:00:00+00:00             0.0                  -30.0   \n",
      "       2018-11-04 00:00:00+00:00            -1.1               -23816.0   \n",
      "       2018-11-11 00:00:00+00:00             0.0                   37.0   \n",
      "\n",
      "                                    vix  vix_diff  vixoil  vixoil_diff  \\\n",
      "ticker date                                                              \n",
      "XLY    2016-12-18 00:00:00+00:00  12.20      0.45   29.18        -6.03   \n",
      "       2016-12-25 00:00:00+00:00  11.44     -0.76   29.90         0.72   \n",
      "       2017-01-01 00:00:00+00:00  14.04      2.60   30.83         0.93   \n",
      "       2017-01-08 00:00:00+00:00  11.32     -2.72   30.47        -0.36   \n",
      "       2017-01-15 00:00:00+00:00  11.23     -0.09   30.73         0.26   \n",
      "...                                 ...       ...     ...          ...   \n",
      "       2018-10-14 00:00:00+00:00  21.31      6.49   27.73        -1.11   \n",
      "       2018-10-21 00:00:00+00:00  19.89     -1.42   27.42        -0.31   \n",
      "       2018-10-28 00:00:00+00:00  24.16      4.27   29.09         1.67   \n",
      "       2018-11-04 00:00:00+00:00  19.51     -4.65   32.21         3.12   \n",
      "       2018-11-11 00:00:00+00:00  17.36     -2.15   35.10         2.89   \n",
      "\n",
      "                                  weekjobclaims  weekjobclaims_diff  \\\n",
      "ticker date                                                           \n",
      "XLY    2016-12-18 00:00:00+00:00       260000.0              8000.0   \n",
      "       2016-12-25 00:00:00+00:00       257000.0             -3000.0   \n",
      "       2017-01-01 00:00:00+00:00       244000.0            -13000.0   \n",
      "       2017-01-08 00:00:00+00:00       245000.0              1000.0   \n",
      "       2017-01-15 00:00:00+00:00       240000.0             -5000.0   \n",
      "...                                         ...                 ...   \n",
      "       2018-10-14 00:00:00+00:00       208000.0             -3000.0   \n",
      "       2018-10-21 00:00:00+00:00       217000.0              9000.0   \n",
      "       2018-10-28 00:00:00+00:00       216000.0             -1000.0   \n",
      "       2018-11-04 00:00:00+00:00       218000.0              2000.0   \n",
      "       2018-11-11 00:00:00+00:00       221000.0              3000.0   \n",
      "\n",
      "                                  yield_curve  yield_curve_diff  \n",
      "ticker date                                                      \n",
      "XLY    2016-12-18 00:00:00+00:00         2.09              0.16  \n",
      "       2016-12-25 00:00:00+00:00         2.03             -0.06  \n",
      "       2017-01-01 00:00:00+00:00         1.94             -0.09  \n",
      "       2017-01-08 00:00:00+00:00         1.89             -0.05  \n",
      "       2017-01-15 00:00:00+00:00         1.87             -0.02  \n",
      "...                                       ...               ...  \n",
      "       2018-10-14 00:00:00+00:00         0.87             -0.13  \n",
      "       2018-10-21 00:00:00+00:00         0.89              0.02  \n",
      "       2018-10-28 00:00:00+00:00         0.75             -0.14  \n",
      "       2018-11-04 00:00:00+00:00         0.89              0.14  \n",
      "       2018-11-11 00:00:00+00:00         0.83             -0.06  \n",
      "\n",
      "[100 rows x 59 columns]\n"
     ]
    }
   ],
   "source": [
    "\n",
    "\n",
    "# Para ver los datos en sí, puedes convertir el conjunto de datos a un DataFrame de pandas\n",
    "df = pd.DataFrame(lgb_train.data)\n",
    "print(df.tail(100))\n"
   ]
  },
  {
   "cell_type": "code",
   "execution_count": 70,
   "metadata": {
    "execution": {
     "iopub.execute_input": "2024-09-23T18:00:28.764790Z",
     "iopub.status.busy": "2024-09-23T18:00:28.764790Z",
     "iopub.status.idle": "2024-09-23T18:00:28.780409Z",
     "shell.execute_reply": "2024-09-23T18:00:28.780409Z"
    }
   },
   "outputs": [
    {
     "data": {
      "text/plain": [
       "[0.004713574721403546, 0.020102011725668983]"
      ]
     },
     "execution_count": 70,
     "metadata": {},
     "output_type": "execute_result"
    }
   ],
   "source": [
    "ic"
   ]
  },
  {
   "cell_type": "code",
   "execution_count": 71,
   "metadata": {
    "execution": {
     "iopub.execute_input": "2024-09-23T18:00:28.780409Z",
     "iopub.status.busy": "2024-09-23T18:00:28.780409Z",
     "iopub.status.idle": "2024-09-23T18:00:28.796036Z",
     "shell.execute_reply": "2024-09-23T18:00:28.796036Z"
    }
   },
   "outputs": [
    {
     "data": {
      "text/plain": [
       "{'learning_rate': 0.1,\n",
       " 'num_leaves': 32,\n",
       " 'feature_fraction': 0.3,\n",
       " 'min_data_in_leaf': 50,\n",
       " 'boosting': 'gbdt',\n",
       " 'objective': 'regression',\n",
       " 'verbose': -1}"
      ]
     },
     "execution_count": 71,
     "metadata": {},
     "output_type": "execute_result"
    }
   ],
   "source": [
    "params"
   ]
  },
  {
   "cell_type": "code",
   "execution_count": 72,
   "metadata": {
    "execution": {
     "iopub.execute_input": "2024-09-23T18:00:28.796036Z",
     "iopub.status.busy": "2024-09-23T18:00:28.796036Z",
     "iopub.status.idle": "2024-09-23T18:00:28.811660Z",
     "shell.execute_reply": "2024-09-23T18:00:28.811660Z"
    }
   },
   "outputs": [],
   "source": [
    "#stop"
   ]
  },
  {
   "cell_type": "markdown",
   "metadata": {},
   "source": [
    "## LightGBM Random Forest Model Tuning"
   ]
  },
  {
   "cell_type": "markdown",
   "metadata": {},
   "source": [
    "Helper function to obtain the LightGBM feature importance metrics:"
   ]
  },
  {
   "cell_type": "markdown",
   "metadata": {},
   "source": [
    "The notebook example iterates over many configurations, optionally using random samples to speed up model selection using a diverse subset. The goal is to identify the most impactful parameters without trying every possible combination."
   ]
  },
  {
   "cell_type": "code",
   "execution_count": 73,
   "metadata": {
    "ExecuteTime": {
     "end_time": "2020-06-21T03:19:37.935808Z",
     "start_time": "2020-06-21T03:19:37.921761Z"
    },
    "execution": {
     "iopub.execute_input": "2024-09-23T18:00:28.811660Z",
     "iopub.status.busy": "2024-09-23T18:00:28.811660Z",
     "iopub.status.idle": "2024-09-23T18:00:28.827414Z",
     "shell.execute_reply": "2024-09-23T18:00:28.827414Z"
    }
   },
   "outputs": [],
   "source": [
    "def get_fi(model):\n",
    "    fi = model.feature_importance(importance_type='gain')\n",
    "    return (pd.Series(fi / fi.sum(),\n",
    "                      index=model.feature_name()))"
   ]
  },
  {
   "cell_type": "markdown",
   "metadata": {},
   "source": [
    "### Hyperparameter Options"
   ]
  },
  {
   "cell_type": "markdown",
   "metadata": {},
   "source": [
    "The base_params are not affected by cross-validation:"
   ]
  },
  {
   "cell_type": "code",
   "execution_count": 74,
   "metadata": {
    "ExecuteTime": {
     "end_time": "2020-06-21T03:19:37.943601Z",
     "start_time": "2020-06-21T03:19:37.936926Z"
    },
    "execution": {
     "iopub.execute_input": "2024-09-23T18:00:28.827414Z",
     "iopub.status.busy": "2024-09-23T18:00:28.827414Z",
     "iopub.status.idle": "2024-09-23T18:00:28.843035Z",
     "shell.execute_reply": "2024-09-23T18:00:28.843035Z"
    },
    "scrolled": true
   },
   "outputs": [],
   "source": [
    "base_params = dict(boosting_type='rf',\n",
    "                   objective='regression',\n",
    "                   bagging_freq=1,\n",
    "                   verbose=-1)"
   ]
  },
  {
   "cell_type": "code",
   "execution_count": 75,
   "metadata": {
    "execution": {
     "iopub.execute_input": "2024-09-23T18:00:28.843035Z",
     "iopub.status.busy": "2024-09-23T18:00:28.843035Z",
     "iopub.status.idle": "2024-09-23T18:00:28.858359Z",
     "shell.execute_reply": "2024-09-23T18:00:28.858359Z"
    }
   },
   "outputs": [],
   "source": [
    "# Asumiendo que data es tu conjunto de datos\n",
    "n_samples = data.shape[0]\n",
    "\n",
    "# Establece min_data_in_leaf como un porcentaje del total de muestras\n",
    "min_data_in_leaf_op0 = max(1, int(n_samples * 0.01))  # 1% del total de muestras, mínimo 1"
   ]
  },
  {
   "cell_type": "code",
   "execution_count": 76,
   "metadata": {
    "execution": {
     "iopub.execute_input": "2024-09-23T18:00:28.858359Z",
     "iopub.status.busy": "2024-09-23T18:00:28.858359Z",
     "iopub.status.idle": "2024-09-23T18:00:28.874284Z",
     "shell.execute_reply": "2024-09-23T18:00:28.874284Z"
    }
   },
   "outputs": [
    {
     "data": {
      "text/plain": [
       "113"
      ]
     },
     "execution_count": 76,
     "metadata": {},
     "output_type": "execute_result"
    }
   ],
   "source": [
    "min_data_in_leaf_op0"
   ]
  },
  {
   "cell_type": "markdown",
   "metadata": {},
   "source": [
    "We choose the following parameters and values to select our best model (see book chapter for detail):"
   ]
  },
  {
   "cell_type": "code",
   "execution_count": 77,
   "metadata": {
    "ExecuteTime": {
     "end_time": "2020-06-21T03:19:37.952308Z",
     "start_time": "2020-06-21T03:19:37.944671Z"
    },
    "execution": {
     "iopub.execute_input": "2024-09-23T18:00:28.874284Z",
     "iopub.status.busy": "2024-09-23T18:00:28.874284Z",
     "iopub.status.idle": "2024-09-23T18:00:28.889902Z",
     "shell.execute_reply": "2024-09-23T18:00:28.889902Z"
    },
    "scrolled": true
   },
   "outputs": [],
   "source": [
    "#bagging_fraction_opts = [.5, .75, .95]\n",
    "bagging_fraction_opts = [.75, .95]\n",
    "feature_fraction_opts = [.75, .95]\n",
    "min_data_in_leaf_opts = [int(250/22), int(500/22), int(1000/22)]\n",
    "if datos_semanales==1: min_data_in_leaf_opts = [min_data_in_leaf_op0, int(500/5), int(1000/5)]\n",
    "#min_data_in_leaf_opts = [250, 500, 1000]\n",
    "max_depth_opts=[5, 10, -1]"
   ]
  },
  {
   "cell_type": "code",
   "execution_count": 78,
   "metadata": {
    "execution": {
     "iopub.execute_input": "2024-09-23T18:00:28.889902Z",
     "iopub.status.busy": "2024-09-23T18:00:28.889902Z",
     "iopub.status.idle": "2024-09-23T18:00:28.905543Z",
     "shell.execute_reply": "2024-09-23T18:00:28.905543Z"
    }
   },
   "outputs": [
    {
     "data": {
      "text/plain": [
       "[113, 100, 200]"
      ]
     },
     "execution_count": 78,
     "metadata": {},
     "output_type": "execute_result"
    }
   ],
   "source": [
    "min_data_in_leaf_opts"
   ]
  },
  {
   "cell_type": "code",
   "execution_count": 79,
   "metadata": {
    "ExecuteTime": {
     "end_time": "2020-06-21T03:19:37.960258Z",
     "start_time": "2020-06-21T03:19:37.953744Z"
    },
    "execution": {
     "iopub.execute_input": "2024-09-23T18:00:28.905543Z",
     "iopub.status.busy": "2024-09-23T18:00:28.905543Z",
     "iopub.status.idle": "2024-09-23T18:00:28.921178Z",
     "shell.execute_reply": "2024-09-23T18:00:28.921178Z"
    }
   },
   "outputs": [],
   "source": [
    "param_names = ['bagging_fraction', 'feature_fraction',\n",
    "               'min_data_in_leaf','max_depth']"
   ]
  },
  {
   "cell_type": "code",
   "execution_count": 80,
   "metadata": {
    "ExecuteTime": {
     "end_time": "2020-06-21T03:19:37.969006Z",
     "start_time": "2020-06-21T03:19:37.961383Z"
    },
    "execution": {
     "iopub.execute_input": "2024-09-23T18:00:28.921178Z",
     "iopub.status.busy": "2024-09-23T18:00:28.921178Z",
     "iopub.status.idle": "2024-09-23T18:00:28.936757Z",
     "shell.execute_reply": "2024-09-23T18:00:28.936757Z"
    },
    "scrolled": true
   },
   "outputs": [
    {
     "name": "stdout",
     "output_type": "stream",
     "text": [
      "# Parameters: 36\n"
     ]
    }
   ],
   "source": [
    "cv_params = list(product(bagging_fraction_opts,\n",
    "                         feature_fraction_opts,\n",
    "                         min_data_in_leaf_opts,max_depth_opts))\n",
    "n_params = len(cv_params)\n",
    "print(f'# Parameters: {n_params}')"
   ]
  },
  {
   "cell_type": "markdown",
   "metadata": {},
   "source": [
    "### Train/Test Period Lengths"
   ]
  },
  {
   "cell_type": "code",
   "execution_count": 81,
   "metadata": {
    "ExecuteTime": {
     "end_time": "2020-06-21T03:19:37.977749Z",
     "start_time": "2020-06-21T03:19:37.969903Z"
    },
    "execution": {
     "iopub.execute_input": "2024-09-23T18:00:28.936757Z",
     "iopub.status.busy": "2024-09-23T18:00:28.936757Z",
     "iopub.status.idle": "2024-09-23T18:00:28.952433Z",
     "shell.execute_reply": "2024-09-23T18:00:28.952433Z"
    }
   },
   "outputs": [],
   "source": [
    "#lookaheads = [1, 5, 21]\n",
    "#lookaheads = [1, 2]\n",
    "#label_dict = dict(zip(lookaheads, labels))"
   ]
  },
  {
   "cell_type": "code",
   "execution_count": 82,
   "metadata": {
    "ExecuteTime": {
     "end_time": "2020-06-21T03:19:37.986465Z",
     "start_time": "2020-06-21T03:19:37.978744Z"
    },
    "execution": {
     "iopub.execute_input": "2024-09-23T18:00:28.952433Z",
     "iopub.status.busy": "2024-09-23T18:00:28.952433Z",
     "iopub.status.idle": "2024-09-23T18:00:28.968026Z",
     "shell.execute_reply": "2024-09-23T18:00:28.968026Z"
    },
    "scrolled": true
   },
   "outputs": [],
   "source": [
    "#train_lengths = [int(4.5 * 252), 252]\n",
    "#test_lengths = [63]\n",
    "#train_lengths = [int(4.5 * 12), 12]\n",
    "#test_lengths = [1]"
   ]
  },
  {
   "cell_type": "code",
   "execution_count": 83,
   "metadata": {
    "execution": {
     "iopub.execute_input": "2024-09-23T18:00:28.968026Z",
     "iopub.status.busy": "2024-09-23T18:00:28.968026Z",
     "iopub.status.idle": "2024-09-23T18:00:28.983656Z",
     "shell.execute_reply": "2024-09-23T18:00:28.983656Z"
    }
   },
   "outputs": [
    {
     "data": {
      "text/plain": [
       "[216, 52]"
      ]
     },
     "execution_count": 83,
     "metadata": {},
     "output_type": "execute_result"
    }
   ],
   "source": [
    "train_lengths"
   ]
  },
  {
   "cell_type": "code",
   "execution_count": 84,
   "metadata": {
    "ExecuteTime": {
     "end_time": "2020-06-21T03:19:37.995277Z",
     "start_time": "2020-06-21T03:19:37.987379Z"
    },
    "execution": {
     "iopub.execute_input": "2024-09-23T18:00:28.983656Z",
     "iopub.status.busy": "2024-09-23T18:00:28.983656Z",
     "iopub.status.idle": "2024-09-23T18:00:28.999251Z",
     "shell.execute_reply": "2024-09-23T18:00:28.999251Z"
    },
    "scrolled": true
   },
   "outputs": [
    {
     "name": "stdout",
     "output_type": "stream",
     "text": [
      "Train configs: 2\n"
     ]
    }
   ],
   "source": [
    "test_params = list(product(lookaheads, train_lengths, test_lengths))\n",
    "n = len(test_params)\n",
    "test_param_sample = np.random.choice(list(range(n)), size=int(n), replace=False)\n",
    "test_params = [test_params[i] for i in test_param_sample]\n",
    "print('Train configs:', len(test_params))"
   ]
  },
  {
   "cell_type": "markdown",
   "metadata": {},
   "source": [
    "### Categorical Variables"
   ]
  },
  {
   "cell_type": "code",
   "execution_count": 85,
   "metadata": {
    "ExecuteTime": {
     "end_time": "2020-06-21T03:19:38.043537Z",
     "start_time": "2020-06-21T03:19:37.996178Z"
    },
    "execution": {
     "iopub.execute_input": "2024-09-23T18:00:28.999251Z",
     "iopub.status.busy": "2024-09-23T18:00:28.999251Z",
     "iopub.status.idle": "2024-09-23T18:00:29.014895Z",
     "shell.execute_reply": "2024-09-23T18:00:29.014895Z"
    },
    "scrolled": true
   },
   "outputs": [],
   "source": [
    "#categoricals = ['year', 'weekday', 'month']\n",
    "categoricals = ['month','sector']\n",
    "for feature in categoricals:\n",
    "    data[feature] = pd.factorize(data[feature], sort=True)[0]"
   ]
  },
  {
   "cell_type": "markdown",
   "metadata": {},
   "source": [
    "### Custom Loss Function: Information Coefficient"
   ]
  },
  {
   "cell_type": "code",
   "execution_count": 86,
   "metadata": {
    "ExecuteTime": {
     "end_time": "2020-06-21T03:19:38.046578Z",
     "start_time": "2020-06-21T03:19:38.044405Z"
    },
    "execution": {
     "iopub.execute_input": "2024-09-23T18:00:29.014895Z",
     "iopub.status.busy": "2024-09-23T18:00:29.014895Z",
     "iopub.status.idle": "2024-09-23T18:00:29.030537Z",
     "shell.execute_reply": "2024-09-23T18:00:29.030537Z"
    }
   },
   "outputs": [],
   "source": [
    "def ic_rf(preds, train_data):\n",
    "    \"\"\"Custom IC eval metric for lightgbm\"\"\"\n",
    "    is_higher_better = True\n",
    "    return 'ic', spearmanr(preds, train_data.get_label())[0], is_higher_better"
   ]
  },
  {
   "cell_type": "markdown",
   "metadata": {},
   "source": [
    "### Run Cross-Validation"
   ]
  },
  {
   "cell_type": "code",
   "execution_count": 87,
   "metadata": {
    "execution": {
     "iopub.execute_input": "2024-09-23T18:00:29.030537Z",
     "iopub.status.busy": "2024-09-23T18:00:29.030537Z",
     "iopub.status.idle": "2024-09-23T18:00:29.046142Z",
     "shell.execute_reply": "2024-09-23T18:00:29.046142Z"
    }
   },
   "outputs": [
    {
     "name": "stdout",
     "output_type": "stream",
     "text": [
      "El archivo results/us_stocks/tuning_rf.parquet ha sido eliminado.\n"
     ]
    }
   ],
   "source": [
    "#primero borramos 'tuning_rf.h5' para que no sobrescriba parcialmente\n",
    "\n",
    "rf_store = Path(results_path / 'tuning_rf.parquet')\n",
    "\n",
    "# Comprueba si el archivo existe\n",
    "if rf_store.exists():\n",
    "    # Elimina el archivo\n",
    "    os.remove(rf_store)\n",
    "    print(f\"El archivo {rf_store} ha sido eliminado.\")\n",
    "else:\n",
    "    print(f\"No se encontró el archivo {rf_store}.\")"
   ]
  },
  {
   "cell_type": "code",
   "execution_count": 88,
   "metadata": {
    "ExecuteTime": {
     "end_time": "2020-06-21T03:19:38.054547Z",
     "start_time": "2020-06-21T03:19:38.047670Z"
    },
    "execution": {
     "iopub.execute_input": "2024-09-23T18:00:29.046142Z",
     "iopub.status.busy": "2024-09-23T18:00:29.046142Z",
     "iopub.status.idle": "2024-09-23T18:00:29.061829Z",
     "shell.execute_reply": "2024-09-23T18:00:29.061829Z"
    },
    "scrolled": true
   },
   "outputs": [],
   "source": [
    "rf_store = Path(results_path / 'tuning_rf.parquet')"
   ]
  },
  {
   "cell_type": "code",
   "execution_count": 89,
   "metadata": {
    "ExecuteTime": {
     "end_time": "2020-06-21T03:19:38.070171Z",
     "start_time": "2020-06-21T03:19:38.055637Z"
    },
    "execution": {
     "iopub.execute_input": "2024-09-23T18:00:29.061829Z",
     "iopub.status.busy": "2024-09-23T18:00:29.061829Z",
     "iopub.status.idle": "2024-09-23T18:00:29.077422Z",
     "shell.execute_reply": "2024-09-23T18:00:29.077422Z"
    },
    "scrolled": true
   },
   "outputs": [],
   "source": [
    "labels = sorted(data.filter(like='target').columns)\n",
    "features = data.columns.difference(labels).tolist()"
   ]
  },
  {
   "cell_type": "code",
   "execution_count": 90,
   "metadata": {
    "execution": {
     "iopub.execute_input": "2024-09-23T18:00:29.077422Z",
     "iopub.status.busy": "2024-09-23T18:00:29.077422Z",
     "iopub.status.idle": "2024-09-23T18:00:29.093099Z",
     "shell.execute_reply": "2024-09-23T18:00:29.093099Z"
    }
   },
   "outputs": [
    {
     "data": {
      "text/plain": [
       "['target_01w', 'target_02w', 'target_03w', 'target_06w', 'target_12w']"
      ]
     },
     "execution_count": 90,
     "metadata": {},
     "output_type": "execute_result"
    }
   ],
   "source": [
    "labels"
   ]
  },
  {
   "cell_type": "code",
   "execution_count": 91,
   "metadata": {
    "execution": {
     "iopub.execute_input": "2024-09-23T18:00:29.093099Z",
     "iopub.status.busy": "2024-09-23T18:00:29.093099Z",
     "iopub.status.idle": "2024-09-23T18:00:29.108705Z",
     "shell.execute_reply": "2024-09-23T18:00:29.108705Z"
    }
   },
   "outputs": [
    {
     "data": {
      "text/plain": [
       "['1y_yield',\n",
       " '1y_yield_diff',\n",
       " 'CMA',\n",
       " 'HML',\n",
       " 'Mkt-RF',\n",
       " 'RMW',\n",
       " 'SMB',\n",
       " 'corp_oas',\n",
       " 'corp_oas_diff',\n",
       " 'empleo_diff',\n",
       " 'eu_hy_oas',\n",
       " 'eu_hy_oas_diff',\n",
       " 'hy_oas',\n",
       " 'hy_oas_diff',\n",
       " 'inflacion',\n",
       " 'inflacion_diff',\n",
       " 'leading',\n",
       " 'leading_diff',\n",
       " 'momentum_02',\n",
       " 'momentum_03',\n",
       " 'momentum_06',\n",
       " 'momentum_12',\n",
       " 'momentum_3_12',\n",
       " 'momentum_52',\n",
       " 'month',\n",
       " 'oil',\n",
       " 'oil_diff',\n",
       " 'real_gdp',\n",
       " 'real_gdp_diff',\n",
       " 'recession',\n",
       " 'recession_diff',\n",
       " 'retail_sales',\n",
       " 'retail_sales_diff',\n",
       " 'retail_sales_percent',\n",
       " 'retail_sales_percent_diff',\n",
       " 'return_01w',\n",
       " 'return_01w_t-1',\n",
       " 'return_01w_t-2',\n",
       " 'return_01w_t-3',\n",
       " 'return_01w_t-4',\n",
       " 'return_01w_t-5',\n",
       " 'return_01w_t-6',\n",
       " 'return_02w',\n",
       " 'return_03w',\n",
       " 'return_06w',\n",
       " 'return_12w',\n",
       " 'return_52w',\n",
       " 'sector',\n",
       " 'sentiment',\n",
       " 'sentiment_diff',\n",
       " 'us_asset_balance_diff',\n",
       " 'vix',\n",
       " 'vix_diff',\n",
       " 'vixoil',\n",
       " 'vixoil_diff',\n",
       " 'weekjobclaims',\n",
       " 'weekjobclaims_diff',\n",
       " 'yield_curve',\n",
       " 'yield_curve_diff']"
      ]
     },
     "execution_count": 91,
     "metadata": {},
     "output_type": "execute_result"
    }
   ],
   "source": [
    "features"
   ]
  },
  {
   "cell_type": "code",
   "execution_count": 92,
   "metadata": {
    "ExecuteTime": {
     "end_time": "2020-06-21T03:19:38.078077Z",
     "start_time": "2020-06-21T03:19:38.071079Z"
    },
    "execution": {
     "iopub.execute_input": "2024-09-23T18:00:29.108705Z",
     "iopub.status.busy": "2024-09-23T18:00:29.108705Z",
     "iopub.status.idle": "2024-09-23T18:00:29.124372Z",
     "shell.execute_reply": "2024-09-23T18:00:29.124372Z"
    },
    "scrolled": true
   },
   "outputs": [],
   "source": [
    "#label_dict = dict(zip(lookaheads, labels))"
   ]
  },
  {
   "cell_type": "code",
   "execution_count": 93,
   "metadata": {
    "execution": {
     "iopub.execute_input": "2024-09-23T18:00:29.124372Z",
     "iopub.status.busy": "2024-09-23T18:00:29.124372Z",
     "iopub.status.idle": "2024-09-23T18:00:29.139941Z",
     "shell.execute_reply": "2024-09-23T18:00:29.139941Z"
    }
   },
   "outputs": [],
   "source": [
    "#label_dict"
   ]
  },
  {
   "cell_type": "code",
   "execution_count": 94,
   "metadata": {
    "ExecuteTime": {
     "end_time": "2020-06-21T03:19:38.086476Z",
     "start_time": "2020-06-21T03:19:38.078921Z"
    },
    "execution": {
     "iopub.execute_input": "2024-09-23T18:00:29.139941Z",
     "iopub.status.busy": "2024-09-23T18:00:29.139941Z",
     "iopub.status.idle": "2024-09-23T18:00:29.155567Z",
     "shell.execute_reply": "2024-09-23T18:00:29.155567Z"
    },
    "scrolled": true
   },
   "outputs": [],
   "source": [
    "#num_iterations = [10, 25, 50, 75] + list(range(100, 501, 50))\n",
    "num_iterations = [50, 100] #+ list(range(100, 501, 50))\n",
    "num_boost_round = num_iterations[-1]"
   ]
  },
  {
   "cell_type": "code",
   "execution_count": 95,
   "metadata": {
    "execution": {
     "iopub.execute_input": "2024-09-23T18:00:29.155567Z",
     "iopub.status.busy": "2024-09-23T18:00:29.155567Z",
     "iopub.status.idle": "2024-09-23T18:00:29.171178Z",
     "shell.execute_reply": "2024-09-23T18:00:29.171178Z"
    }
   },
   "outputs": [
    {
     "data": {
      "text/plain": [
       "[50, 100]"
      ]
     },
     "execution_count": 95,
     "metadata": {},
     "output_type": "execute_result"
    }
   ],
   "source": [
    "num_iterations"
   ]
  },
  {
   "cell_type": "code",
   "execution_count": 96,
   "metadata": {
    "execution": {
     "iopub.execute_input": "2024-09-23T18:00:29.171178Z",
     "iopub.status.busy": "2024-09-23T18:00:29.171178Z",
     "iopub.status.idle": "2024-09-23T18:00:29.186801Z",
     "shell.execute_reply": "2024-09-23T18:00:29.186801Z"
    }
   },
   "outputs": [
    {
     "data": {
      "text/plain": [
       "100"
      ]
     },
     "execution_count": 96,
     "metadata": {},
     "output_type": "execute_result"
    }
   ],
   "source": [
    "num_boost_round"
   ]
  },
  {
   "cell_type": "code",
   "execution_count": 97,
   "metadata": {
    "ExecuteTime": {
     "end_time": "2020-06-21T03:19:38.094204Z",
     "start_time": "2020-06-21T03:19:38.087354Z"
    },
    "execution": {
     "iopub.execute_input": "2024-09-23T18:00:29.186801Z",
     "iopub.status.busy": "2024-09-23T18:00:29.186801Z",
     "iopub.status.idle": "2024-09-23T18:00:29.202440Z",
     "shell.execute_reply": "2024-09-23T18:00:29.202440Z"
    },
    "scrolled": true
   },
   "outputs": [],
   "source": [
    "metric_cols = (param_names + ['t', 'daily_ic_mean', 'daily_ic_mean_n',\n",
    "                              'daily_ic_median', 'daily_ic_median_n'] +\n",
    "               [str(n) for n in num_iterations])"
   ]
  },
  {
   "cell_type": "code",
   "execution_count": 98,
   "metadata": {
    "execution": {
     "iopub.execute_input": "2024-09-23T18:00:29.202440Z",
     "iopub.status.busy": "2024-09-23T18:00:29.202440Z",
     "iopub.status.idle": "2024-09-23T18:00:29.218047Z",
     "shell.execute_reply": "2024-09-23T18:00:29.218047Z"
    }
   },
   "outputs": [
    {
     "data": {
      "text/plain": [
       "['bagging_fraction',\n",
       " 'feature_fraction',\n",
       " 'min_data_in_leaf',\n",
       " 'max_depth',\n",
       " 't',\n",
       " 'daily_ic_mean',\n",
       " 'daily_ic_mean_n',\n",
       " 'daily_ic_median',\n",
       " 'daily_ic_median_n',\n",
       " '50',\n",
       " '100']"
      ]
     },
     "execution_count": 98,
     "metadata": {},
     "output_type": "execute_result"
    }
   ],
   "source": [
    "metric_cols"
   ]
  },
  {
   "cell_type": "code",
   "execution_count": 99,
   "metadata": {
    "execution": {
     "iopub.execute_input": "2024-09-23T18:00:29.218047Z",
     "iopub.status.busy": "2024-09-23T18:00:29.218047Z",
     "iopub.status.idle": "2024-09-23T18:00:29.233677Z",
     "shell.execute_reply": "2024-09-23T18:00:29.233677Z"
    }
   },
   "outputs": [
    {
     "data": {
      "text/plain": [
       "52"
      ]
     },
     "execution_count": 99,
     "metadata": {},
     "output_type": "execute_result"
    }
   ],
   "source": [
    "YEAR"
   ]
  },
  {
   "cell_type": "markdown",
   "metadata": {},
   "source": [
    "Now we take the following steps:\n",
    "- we iterate over the prediction horizons and train/test period length, \n",
    "- set up the `MultipleTimeSeriesCV` accordingly\n",
    "- create the binary LightGBM dataset with the appropriate target, and\n",
    "- iterate over the model hyperparamters to train and validate the model while capturing the relevant performance metrics:"
   ]
  },
  {
   "cell_type": "code",
   "execution_count": 100,
   "metadata": {
    "ExecuteTime": {
     "end_time": "2020-06-21T11:56:42.000694Z",
     "start_time": "2020-06-21T03:19:38.095078Z"
    },
    "execution": {
     "iopub.execute_input": "2024-09-23T18:00:29.233677Z",
     "iopub.status.busy": "2024-09-23T18:00:29.233677Z",
     "iopub.status.idle": "2024-09-23T18:27:51.965266Z",
     "shell.execute_reply": "2024-09-23T18:27:51.965266Z"
    },
    "scrolled": true
   },
   "outputs": [
    {
     "name": "stdout",
     "output_type": "stream",
     "text": [
      "Lookahead:  1 | Train: 216 | Test: 52 | Params:  18 | Train configs: 2\n"
     ]
    },
    {
     "name": "stdout",
     "output_type": "stream",
     "text": [
      "\t  0 | 00:00:03 (  3) |  0.95 |  95% |  200 |    -1 |  3.92% | -1.87% |  100 | -5.68% |  100 |\n",
      "\t  1 | 00:00:04 (  2) |  0.75 |  75% |  200 |     5 |  4.86% | -2.11% |  100 | -1.87% |  100 |\n",
      "\t  2 | 00:00:06 (  2) |  0.95 |  95% |  113 |    -1 | -3.86% |  0.98% |  100 |  0.00% |  100 |\n",
      "\t  3 | 00:00:07 (  1) |  0.75 |  95% |  100 |    -1 |  0.84% | -0.48% |   50 |  0.69% |   50 |\n",
      "\t  4 | 00:00:09 (  2) |  0.75 |  95% |  100 |    10 |  0.84% | -0.47% |   50 |  0.69% |   50 |\n",
      "\t  5 | 00:00:10 (  1) |  0.75 |  75% |  200 |    10 |  4.82% | -2.16% |  100 | -1.62% |  100 |\n",
      "\t  6 | 00:00:12 (  2) |  0.95 |  75% |  113 |    -1 | -1.18% |  0.80% |  100 |  1.82% |  100 |\n",
      "\t  7 | 00:00:13 (  1) |  0.75 |  95% |  100 |     5 |  0.33% | -0.63% |   50 |  0.00% |   50 |\n",
      "\t  8 | 00:00:14 (  1) |  0.75 |  95% |  113 |     5 |  0.46% | -1.79% |   50 | -0.75% |   50 |\n",
      "\t  9 | 00:00:15 (  1) |  0.95 |  95% |  100 |     5 | -2.72% |  0.54% |  100 |  0.00% |  100 |\n",
      "\t 10 | 00:00:17 (  2) |  0.75 |  75% |  113 |    -1 |  2.69% |  3.25% |   50 |  3.35% |   50 |\n",
      "\t 11 | 00:00:18 (  2) |  0.95 |  75% |  100 |     5 | -2.04% |  2.62% |   50 |  2.45% |   50 |\n",
      "\t 12 | 00:00:19 (  1) |  0.95 |  75% |  113 |     5 | -1.35% |  0.45% |  100 |  0.76% |  100 |\n",
      "\t 13 | 00:00:21 (  1) |  0.75 |  95% |  113 |    -1 |  1.00% | -0.72% |   50 | -2.15% |   50 |\n",
      "\t 14 | 00:00:22 (  1) |  0.75 |  75% |  200 |    -1 |  4.82% | -2.16% |  100 | -1.62% |  100 |\n",
      "\t 15 | 00:00:23 (  1) |  0.75 |  75% |  113 |     5 |  1.99% |  2.22% |   50 |  3.73% |  100 |\n",
      "\t 16 | 00:00:24 (  1) |  0.75 |  95% |  200 |    -1 |  5.53% | -1.30% |  100 | -2.21% |   50 |\n",
      "\t 17 | 00:00:25 (  1) |  0.75 |  95% |  200 |     5 |  5.39% | -1.12% |  100 | -2.21% |  100 |\n",
      "Lookahead:  1 | Train:  52 | Test: 52 | Params:  18 | Train configs: 2\n",
      "\t  0 | 00:00:01 (  1) |  0.95 |  75% |  100 |     5 |  0.48% | -3.83% |  100 | -5.33% |  100 |\n",
      "\t  1 | 00:00:01 (  1) |  0.75 |  95% |  100 |    -1 | -1.30% |  2.98% |   50 |  10.98% |   50 |\n",
      "\t  2 | 00:00:02 (  0) |  0.75 |  95% |  100 |     5 | -1.30% |  2.98% |   50 |  10.98% |   50 |\n",
      "\t  3 | 00:00:02 (  1) |  0.75 |  75% |  100 |    -1 | -1.18% |  0.19% |   50 | -1.91% |   50 |\n",
      "\t  4 | 00:00:03 (  1) |  0.95 |  75% |  113 |     5 | -0.03% | -1.11% |  100 |  0.00% |  100 |\n",
      "\t  5 | 00:00:04 (  1) |  0.75 |  75% |  100 |     5 | -1.18% |  0.19% |   50 | -1.91% |   50 |\n",
      "\t  6 | 00:00:04 (  0) |  0.75 |  95% |  100 |    10 | -1.30% |  2.98% |   50 |  10.98% |   50 |\n",
      "\t  7 | 00:00:05 (  1) |  0.75 |  75% |  200 |    10 | -9.17% |  3.39% |  100 |  5.22% |  100 |\n",
      "\t  8 | 00:00:05 (  0) |  0.95 |  75% |  200 |    -1 | -2.20% | -3.53% |   50 |  0.00% |   50 |\n",
      "\t  9 | 00:00:05 (  0) |  0.95 |  75% |  200 |    10 | -2.20% | -3.53% |   50 |  0.00% |   50 |\n",
      "\t 10 | 00:00:06 (  1) |  0.95 |  75% |  113 |    -1 | -0.03% | -1.11% |  100 |  0.00% |  100 |\n",
      "\t 11 | 00:00:06 (  1) |  0.75 |  75% |  200 |    -1 | -9.17% |  3.39% |  100 |  5.22% |  100 |\n",
      "\t 12 | 00:00:07 (  0) |  0.95 |  95% |  113 |    -1 |  0.04% | -5.54% |   50 | -6.96% |   50 |\n",
      "\t 13 | 00:00:07 (  0) |  0.95 |  95% |  200 |    -1 | -1.17% | -2.67% |   50 |  0.00% |   50 |\n",
      "\t 14 | 00:00:07 (  0) |  0.95 |  95% |  113 |    10 |  0.04% | -5.54% |   50 | -6.96% |   50 |\n",
      "\t 15 | 00:00:08 (  1) |  0.75 |  75% |  100 |    10 | -1.18% |  0.19% |   50 | -1.91% |   50 |\n",
      "\t 16 | 00:00:09 (  0) |  0.75 |  95% |  113 |    -1 | -1.68% |  3.15% |  100 |  6.20% |  100 |\n",
      "\t 17 | 00:00:09 (  0) |  0.95 |  95% |  100 |    10 |  0.99% | -8.43% |   50 | -10.00% |   50 |\n"
     ]
    }
   ],
   "source": [
    "for lookahead, train_length, test_length in test_params:\n",
    "    # randomized grid search\n",
    "    cvp = np.random.choice(list(range(n_params)),\n",
    "                           size=int(n_params / 2),\n",
    "                           replace=False)\n",
    "    cv_params_ = [cv_params[i] for i in cvp]\n",
    "\n",
    "    # set up cross-validatio. years_val serán los años de validación\n",
    "    n_splits = int(YEAR * years_val/ test_length)#modificado\n",
    "    print(f'Lookahead: {lookahead:2.0f} | '\n",
    "          f'Train: {train_length:3.0f} | '\n",
    "          f'Test: {test_length:2.0f} | '\n",
    "          f'Params: {len(cv_params_):3.0f} | '\n",
    "          f'Train configs: {len(test_params)}')\n",
    "\n",
    "    # time-series cross-validation\n",
    "    cv = MultipleTimeSeriesCV(n_splits=n_splits,\n",
    "                              lookahead=lookahead,\n",
    "                              test_period_length=test_length,\n",
    "                              train_period_length=train_length)\n",
    "\n",
    "    #label = label_dict[lookahead]\n",
    "    label = label #modificado\n",
    "    outcome_data = data.loc[:, features + [label]].dropna()\n",
    "    \n",
    "    # binary dataset\n",
    "    lgb_data = lgb.Dataset(data=outcome_data.drop(label, axis=1),\n",
    "                           label=outcome_data[label],\n",
    "                           categorical_feature=categoricals,\n",
    "                           free_raw_data=False)\n",
    "    T = 0\n",
    "    predictions, metrics, feature_importance, daily_ic = [], [], [], []\n",
    "    \n",
    "    # iterate over (shuffled) hyperparameter combinations\n",
    "    for p, param_vals in enumerate(cv_params_):\n",
    "        key = f'{lookahead}/{train_length}/{test_length}/' + '/'.join([str(p) for p in param_vals])\n",
    "        params = dict(zip(param_names, param_vals))\n",
    "        params.update(base_params)\n",
    "\n",
    "        start = time()\n",
    "        cv_preds, nrounds = [], []\n",
    "        ic_cv = defaultdict(list)\n",
    "        \n",
    "        # iterate over folds\n",
    "        for i, (train_idx, test_idx) in enumerate(cv.split(X=outcome_data)):\n",
    "            \n",
    "            # select train subset\n",
    "            lgb_train = lgb_data.subset(used_indices=train_idx.tolist(),\n",
    "                                       params=params).construct()\n",
    "            \n",
    "            # train model for num_boost_round\n",
    "            model = lgb.train(params=params,\n",
    "                              train_set=lgb_train,\n",
    "                              num_boost_round=num_boost_round,\n",
    "                              )\n",
    "            # log feature importance\n",
    "            if i == 0:\n",
    "                fi = get_fi(model).to_frame()\n",
    "            else:\n",
    "                fi[i] = get_fi(model)\n",
    "\n",
    "            # capture predictions\n",
    "            test_set = outcome_data.iloc[test_idx, :]\n",
    "            X_test = test_set.loc[:, model.feature_name()]\n",
    "            y_test = test_set.loc[:, label]\n",
    "            y_pred = {str(n): model.predict(X_test, num_iteration=n) for n in num_iterations}\n",
    "            \n",
    "            # record predictions for each fold\n",
    "            cv_preds.append(y_test.to_frame('y_test').assign(**y_pred).assign(i=i))\n",
    "        \n",
    "        # combine fold results\n",
    "        cv_preds = pd.concat(cv_preds).assign(**params)\n",
    "        predictions.append(cv_preds)\n",
    "        \n",
    "        # compute IC per day\n",
    "        by_day = cv_preds.groupby(level='date')\n",
    "        ic_by_day = pd.concat([by_day.apply(lambda x: spearmanr(x.y_test, x[str(n)])[0]).to_frame(n)\n",
    "                               for n in num_iterations], axis=1)\n",
    "        daily_ic_mean = ic_by_day.mean()\n",
    "        daily_ic_mean_n = daily_ic_mean.idxmax()\n",
    "        daily_ic_median = ic_by_day.median()\n",
    "        daily_ic_median_n = daily_ic_median.idxmax()\n",
    "        \n",
    "        # compute IC across all predictions\n",
    "        ic = [spearmanr(cv_preds.y_test, cv_preds[str(n)])[0] for n in num_iterations]\n",
    "        t = time() - start\n",
    "        T += t\n",
    "        \n",
    "        # collect metrics\n",
    "        metrics = pd.Series(list(param_vals) +\n",
    "                            [t, daily_ic_mean.max(), daily_ic_mean_n, daily_ic_median.max(), daily_ic_median_n] + ic,\n",
    "                            index=metric_cols)\n",
    "        msg = f'\\t{p:3.0f} | {format_time(T)} ({t:3.0f}) | {params[\"bagging_fraction\"]:5.2f} | '\n",
    "        msg += f' {params[\"feature_fraction\"]:3.0%} | {params[\"min_data_in_leaf\"]:4.0f} |  {params[\"max_depth\"]:4.0f} |'\n",
    "        msg += f' {max(ic):6.2%} | {ic_by_day.mean().max(): 6.2%} | {daily_ic_mean_n: 4.0f} | {ic_by_day.median().max(): 6.2%} | {daily_ic_median_n: 4.0f} |'\n",
    "        \n",
    "        print(msg)\n",
    "\n",
    "        # persist results for given CV run and hyperparameter combination\n",
    "        # metrics.to_hdf(rf_store, 'metrics/' + key)\n",
    "        # ic_by_day.assign(**params).to_hdf(rf_store, 'daily_ic/' + key)\n",
    "        # fi.T.describe().T.assign(**params).to_hdf(rf_store, 'fi/' + key)\n",
    "        # cv_preds.to_hdf(rf_store, 'predictions/' + key)\n",
    "        "
   ]
  },
  {
   "cell_type": "code",
   "execution_count": 101,
   "metadata": {
    "execution": {
     "iopub.execute_input": "2024-09-23T18:27:51.965266Z",
     "iopub.status.busy": "2024-09-23T18:27:51.965266Z",
     "iopub.status.idle": "2024-09-23T18:27:51.980849Z",
     "shell.execute_reply": "2024-09-23T18:27:51.980849Z"
    }
   },
   "outputs": [
    {
     "data": {
      "text/plain": [
       "ticker  date                     \n",
       "IYR     2023-11-12 00:00:00+00:00    1.624300\n",
       "        2023-11-19 00:00:00+00:00    0.367483\n",
       "        2023-11-26 00:00:00+00:00    1.725422\n",
       "        2023-12-03 00:00:00+00:00   -0.111379\n",
       "        2023-12-10 00:00:00+00:00    1.931399\n",
       "                                       ...   \n",
       "XLY     2019-10-13 00:00:00+00:00    0.491318\n",
       "        2019-10-20 00:00:00+00:00   -0.342587\n",
       "        2019-10-27 00:00:00+00:00    0.185841\n",
       "        2019-11-03 00:00:00+00:00   -0.099590\n",
       "        2019-11-10 00:00:00+00:00    0.009700\n",
       "Name: y_test, Length: 3432, dtype: float64"
      ]
     },
     "execution_count": 101,
     "metadata": {},
     "output_type": "execute_result"
    }
   ],
   "source": [
    "cv_preds.y_test"
   ]
  },
  {
   "cell_type": "code",
   "execution_count": 102,
   "metadata": {
    "execution": {
     "iopub.execute_input": "2024-09-23T18:27:51.980849Z",
     "iopub.status.busy": "2024-09-23T18:27:51.980849Z",
     "iopub.status.idle": "2024-09-23T18:27:51.996502Z",
     "shell.execute_reply": "2024-09-23T18:27:51.996502Z"
    }
   },
   "outputs": [
    {
     "data": {
      "text/plain": [
       "ticker  date                     \n",
       "XLY     2019-06-30 00:00:00+00:00    0.731176\n",
       "        2019-07-07 00:00:00+00:00    0.731176\n",
       "        2019-07-14 00:00:00+00:00    0.731176\n",
       "        2019-07-21 00:00:00+00:00    0.731176\n",
       "        2019-07-28 00:00:00+00:00    0.731176\n",
       "        2019-08-04 00:00:00+00:00    0.731176\n",
       "        2019-08-11 00:00:00+00:00    0.731176\n",
       "        2019-08-18 00:00:00+00:00    0.731176\n",
       "        2019-08-25 00:00:00+00:00    0.731176\n",
       "        2019-09-01 00:00:00+00:00    0.731176\n",
       "        2019-09-08 00:00:00+00:00    0.731176\n",
       "        2019-09-15 00:00:00+00:00    0.731176\n",
       "        2019-09-22 00:00:00+00:00    0.731176\n",
       "        2019-09-29 00:00:00+00:00    0.731176\n",
       "        2019-10-06 00:00:00+00:00    0.731176\n",
       "        2019-10-13 00:00:00+00:00    0.731176\n",
       "        2019-10-20 00:00:00+00:00    0.731176\n",
       "        2019-10-27 00:00:00+00:00    0.731176\n",
       "        2019-11-03 00:00:00+00:00    0.731176\n",
       "        2019-11-10 00:00:00+00:00    0.731176\n",
       "Name: 50, dtype: float64"
      ]
     },
     "execution_count": 102,
     "metadata": {},
     "output_type": "execute_result"
    }
   ],
   "source": [
    "cv_preds[str(50)].tail(20)"
   ]
  },
  {
   "cell_type": "code",
   "execution_count": 103,
   "metadata": {
    "execution": {
     "iopub.execute_input": "2024-09-23T18:27:51.996502Z",
     "iopub.status.busy": "2024-09-23T18:27:51.996502Z",
     "iopub.status.idle": "2024-09-23T18:27:52.012129Z",
     "shell.execute_reply": "2024-09-23T18:27:52.012129Z"
    }
   },
   "outputs": [
    {
     "data": {
      "text/plain": [
       "{'50': array([0.73117611, 0.73117611, 0.73117611, 0.73117611, 0.73117611,\n",
       "        0.73117611, 0.73117611, 0.73117611, 0.73117611, 0.73117611,\n",
       "        0.73117611, 0.73117611, 0.73117611, 0.73117611, 0.73117611,\n",
       "        0.73117611, 0.73117611, 0.73117611, 0.73117611, 0.73117611,\n",
       "        0.71412967, 0.72561471, 0.71412967, 0.72561471, 0.71412967,\n",
       "        0.73117611, 0.71412967, 0.73117611, 0.73117611, 0.73117611,\n",
       "        0.73117611, 0.73117611, 0.73117611, 0.73117611, 0.73117611,\n",
       "        0.73117611, 0.73117611, 0.73117611, 0.73117611, 0.73117611,\n",
       "        0.73117611, 0.73117611, 0.73117611, 0.73117611, 0.73117611,\n",
       "        0.73117611, 0.73117611, 0.73117611, 0.73117611, 0.73117611,\n",
       "        0.73117611, 0.73117611, 0.73117611, 0.73117611, 0.73117611,\n",
       "        0.73117611, 0.73117611, 0.73117611, 0.73117611, 0.73117611,\n",
       "        0.73117611, 0.73117611, 0.73117611, 0.73117611, 0.73117611,\n",
       "        0.73117611, 0.73117611, 0.73117611, 0.73117611, 0.73117611,\n",
       "        0.73117611, 0.73117611, 0.71412967, 0.72561471, 0.71412967,\n",
       "        0.72561471, 0.71412967, 0.73117611, 0.71412967, 0.73117611,\n",
       "        0.73117611, 0.73117611, 0.73117611, 0.73117611, 0.73117611,\n",
       "        0.73117611, 0.73117611, 0.73117611, 0.73117611, 0.73117611,\n",
       "        0.73117611, 0.73117611, 0.73117611, 0.73117611, 0.73117611,\n",
       "        0.73117611, 0.73117611, 0.73117611, 0.73117611, 0.73117611,\n",
       "        0.73117611, 0.73117611, 0.73117611, 0.73117611, 0.73117611,\n",
       "        0.73117611, 0.73117611, 0.73117611, 0.73117611, 0.73117611,\n",
       "        0.73117611, 0.73117611, 0.73117611, 0.73117611, 0.73117611,\n",
       "        0.73117611, 0.73117611, 0.73117611, 0.73117611, 0.73117611,\n",
       "        0.73117611, 0.73117611, 0.73117611, 0.73117611, 0.71412967,\n",
       "        0.72561471, 0.71412967, 0.72561471, 0.71412967, 0.73117611,\n",
       "        0.71412967, 0.73117611, 0.73117611, 0.73117611, 0.73117611,\n",
       "        0.73117611, 0.73117611, 0.73117611, 0.73117611, 0.73117611,\n",
       "        0.73117611, 0.73117611, 0.73117611, 0.73117611, 0.73117611,\n",
       "        0.73117611, 0.73117611, 0.73117611, 0.73117611, 0.73117611,\n",
       "        0.73117611, 0.73117611, 0.73117611, 0.73117611, 0.73117611,\n",
       "        0.73117611, 0.73117611, 0.73117611, 0.73117611, 0.73117611,\n",
       "        0.73117611, 0.73117611, 0.73117611, 0.73117611, 0.73117611,\n",
       "        0.73117611, 0.73117611, 0.73117611, 0.73117611, 0.73117611,\n",
       "        0.73117611, 0.73117611, 0.73117611, 0.73117611, 0.73117611,\n",
       "        0.73117611, 0.71412967, 0.72561471, 0.71412967, 0.72561471,\n",
       "        0.71412967, 0.73117611, 0.71412967, 0.73117611, 0.73117611,\n",
       "        0.73117611, 0.73117611, 0.73117611, 0.73117611, 0.73117611,\n",
       "        0.73117611, 0.73117611, 0.73117611, 0.73117611, 0.73117611,\n",
       "        0.73117611, 0.73117611, 0.73117611, 0.73117611, 0.73117611,\n",
       "        0.73117611, 0.73117611, 0.73117611, 0.73117611, 0.73117611,\n",
       "        0.73117611, 0.73117611, 0.73117611, 0.73117611, 0.73117611,\n",
       "        0.73117611, 0.73117611, 0.73117611, 0.73117611, 0.73117611,\n",
       "        0.73117611, 0.73117611, 0.73117611, 0.73117611, 0.73117611,\n",
       "        0.73117611, 0.73117611, 0.73117611, 0.73117611, 0.73117611,\n",
       "        0.73117611, 0.73117611, 0.73117611, 0.71412967, 0.72561471,\n",
       "        0.71412967, 0.72561471, 0.71412967, 0.73117611, 0.71412967,\n",
       "        0.73117611, 0.73117611, 0.73117611, 0.73117611, 0.73117611,\n",
       "        0.73117611, 0.73117611, 0.73117611, 0.73117611, 0.73117611,\n",
       "        0.73117611, 0.73117611, 0.73117611, 0.73117611, 0.73117611,\n",
       "        0.73117611, 0.73117611, 0.73117611, 0.73117611, 0.73117611,\n",
       "        0.73117611, 0.73117611, 0.73117611, 0.73117611, 0.73117611,\n",
       "        0.73117611, 0.73117611, 0.73117611, 0.73117611, 0.73117611,\n",
       "        0.73117611, 0.73117611, 0.73117611, 0.73117611, 0.73117611,\n",
       "        0.73117611, 0.73117611, 0.73117611, 0.73117611, 0.73117611,\n",
       "        0.73117611, 0.73117611, 0.73117611, 0.73117611, 0.73117611,\n",
       "        0.71412967, 0.72561471, 0.71412967, 0.72561471, 0.71412967,\n",
       "        0.73117611, 0.71412967, 0.73117611, 0.73117611, 0.73117611,\n",
       "        0.73117611, 0.73117611, 0.73117611, 0.73117611, 0.73117611,\n",
       "        0.73117611, 0.73117611, 0.73117611, 0.73117611, 0.73117611,\n",
       "        0.73117611, 0.73117611, 0.73117611, 0.73117611, 0.73117611,\n",
       "        0.73117611, 0.73117611, 0.73117611, 0.73117611, 0.73117611,\n",
       "        0.73117611, 0.73117611, 0.73117611, 0.73117611, 0.73117611,\n",
       "        0.73117611, 0.73117611, 0.73117611, 0.73117611, 0.73117611,\n",
       "        0.73117611, 0.73117611, 0.73117611, 0.73117611, 0.73117611,\n",
       "        0.73117611, 0.73117611, 0.73117611, 0.73117611, 0.73117611,\n",
       "        0.73117611, 0.73117611, 0.71412967, 0.72561471, 0.71412967,\n",
       "        0.72561471, 0.71412967, 0.73117611, 0.71412967, 0.73117611,\n",
       "        0.73117611, 0.73117611, 0.73117611, 0.73117611, 0.73117611,\n",
       "        0.73117611, 0.73117611, 0.73117611, 0.73117611, 0.73117611,\n",
       "        0.73117611, 0.73117611, 0.73117611, 0.73117611, 0.73117611,\n",
       "        0.73117611, 0.73117611, 0.73117611, 0.73117611, 0.73117611,\n",
       "        0.73117611, 0.73117611, 0.73117611, 0.73117611, 0.73117611,\n",
       "        0.73117611, 0.73117611, 0.73117611, 0.73117611, 0.73117611,\n",
       "        0.73117611, 0.73117611, 0.73117611, 0.73117611, 0.73117611,\n",
       "        0.73117611, 0.73117611, 0.73117611, 0.73117611, 0.73117611,\n",
       "        0.73117611, 0.73117611, 0.73117611, 0.73117611, 0.71412967,\n",
       "        0.72561471, 0.71412967, 0.72561471, 0.71412967, 0.73117611,\n",
       "        0.71412967, 0.73117611, 0.73117611, 0.73117611, 0.73117611,\n",
       "        0.73117611, 0.73117611, 0.73117611, 0.73117611, 0.73117611,\n",
       "        0.73117611, 0.73117611, 0.73117611, 0.73117611, 0.73117611,\n",
       "        0.73117611, 0.73117611, 0.73117611, 0.73117611, 0.73117611,\n",
       "        0.73117611, 0.73117611, 0.73117611, 0.73117611, 0.73117611,\n",
       "        0.73117611, 0.73117611, 0.73117611, 0.73117611, 0.73117611,\n",
       "        0.73117611, 0.73117611, 0.73117611, 0.73117611, 0.73117611,\n",
       "        0.73117611, 0.73117611, 0.73117611, 0.73117611, 0.73117611,\n",
       "        0.73117611, 0.73117611, 0.73117611, 0.73117611, 0.73117611,\n",
       "        0.73117611, 0.71412967, 0.72561471, 0.71412967, 0.72561471,\n",
       "        0.71412967, 0.73117611, 0.71412967, 0.73117611, 0.73117611,\n",
       "        0.73117611, 0.73117611, 0.73117611, 0.73117611, 0.73117611,\n",
       "        0.73117611, 0.73117611, 0.73117611, 0.73117611, 0.73117611,\n",
       "        0.73117611, 0.73117611, 0.73117611, 0.73117611, 0.73117611,\n",
       "        0.73117611, 0.73117611, 0.73117611, 0.73117611, 0.73117611,\n",
       "        0.73117611, 0.73117611, 0.73117611, 0.73117611, 0.73117611,\n",
       "        0.73117611, 0.73117611, 0.73117611, 0.73117611, 0.73117611,\n",
       "        0.73117611, 0.73117611, 0.73117611, 0.73117611, 0.73117611,\n",
       "        0.73117611, 0.73117611, 0.73117611, 0.73117611, 0.73117611,\n",
       "        0.73117611, 0.73117611, 0.73117611, 0.71412967, 0.72561471,\n",
       "        0.71412967, 0.72561471, 0.71412967, 0.73117611, 0.71412967,\n",
       "        0.73117611, 0.73117611, 0.73117611, 0.73117611, 0.73117611,\n",
       "        0.73117611, 0.73117611, 0.73117611, 0.73117611, 0.73117611,\n",
       "        0.73117611, 0.73117611, 0.73117611, 0.73117611, 0.73117611,\n",
       "        0.73117611, 0.73117611, 0.73117611, 0.73117611, 0.73117611,\n",
       "        0.73117611, 0.73117611, 0.73117611, 0.73117611, 0.73117611,\n",
       "        0.73117611, 0.73117611, 0.73117611, 0.73117611, 0.73117611,\n",
       "        0.73117611, 0.73117611, 0.73117611, 0.73117611, 0.73117611,\n",
       "        0.73117611, 0.73117611, 0.73117611, 0.73117611, 0.73117611,\n",
       "        0.73117611, 0.73117611, 0.73117611, 0.73117611, 0.73117611,\n",
       "        0.71412967, 0.72561471, 0.71412967, 0.72561471, 0.71412967,\n",
       "        0.73117611, 0.71412967, 0.73117611, 0.73117611, 0.73117611,\n",
       "        0.73117611, 0.73117611, 0.73117611, 0.73117611, 0.73117611,\n",
       "        0.73117611, 0.73117611, 0.73117611, 0.73117611, 0.73117611,\n",
       "        0.73117611, 0.73117611, 0.73117611, 0.73117611, 0.73117611,\n",
       "        0.73117611, 0.73117611, 0.73117611, 0.73117611, 0.73117611,\n",
       "        0.73117611, 0.73117611]),\n",
       " '100': array([0.72936938, 0.72936938, 0.72936938, 0.72936938, 0.72936938,\n",
       "        0.72936938, 0.72936938, 0.72936938, 0.72936938, 0.72936938,\n",
       "        0.72936938, 0.72936938, 0.72936938, 0.72936938, 0.72936938,\n",
       "        0.72936938, 0.72936938, 0.72936938, 0.72936938, 0.72936938,\n",
       "        0.69610935, 0.71955307, 0.69610935, 0.71955307, 0.69610935,\n",
       "        0.72936938, 0.69610935, 0.72936938, 0.72936938, 0.72936938,\n",
       "        0.72936938, 0.72936938, 0.72936938, 0.72936938, 0.72936938,\n",
       "        0.72936938, 0.72936938, 0.72936938, 0.72936938, 0.72936938,\n",
       "        0.72936938, 0.72936938, 0.72936938, 0.72936938, 0.72936938,\n",
       "        0.72936938, 0.72936938, 0.72936938, 0.72936938, 0.72936938,\n",
       "        0.72936938, 0.72936938, 0.72936938, 0.72936938, 0.72936938,\n",
       "        0.72936938, 0.72936938, 0.72936938, 0.72936938, 0.72936938,\n",
       "        0.72936938, 0.72936938, 0.72936938, 0.72936938, 0.72936938,\n",
       "        0.72936938, 0.72936938, 0.72936938, 0.72936938, 0.72936938,\n",
       "        0.72936938, 0.72936938, 0.69610935, 0.71955307, 0.69610935,\n",
       "        0.71955307, 0.69610935, 0.72936938, 0.69610935, 0.72936938,\n",
       "        0.72936938, 0.72936938, 0.72936938, 0.72936938, 0.72936938,\n",
       "        0.72936938, 0.72936938, 0.72936938, 0.72936938, 0.72936938,\n",
       "        0.72936938, 0.72936938, 0.72936938, 0.72936938, 0.72936938,\n",
       "        0.72936938, 0.72936938, 0.72936938, 0.72936938, 0.72936938,\n",
       "        0.72936938, 0.72936938, 0.72936938, 0.72936938, 0.72936938,\n",
       "        0.72936938, 0.72936938, 0.72936938, 0.72936938, 0.72936938,\n",
       "        0.72936938, 0.72936938, 0.72936938, 0.72936938, 0.72936938,\n",
       "        0.72936938, 0.72936938, 0.72936938, 0.72936938, 0.72936938,\n",
       "        0.72936938, 0.72936938, 0.72936938, 0.72936938, 0.69610935,\n",
       "        0.71955307, 0.69610935, 0.71955307, 0.69610935, 0.72936938,\n",
       "        0.69610935, 0.72936938, 0.72936938, 0.72936938, 0.72936938,\n",
       "        0.72936938, 0.72936938, 0.72936938, 0.72936938, 0.72936938,\n",
       "        0.72936938, 0.72936938, 0.72936938, 0.72936938, 0.72936938,\n",
       "        0.72936938, 0.72936938, 0.72936938, 0.72936938, 0.72936938,\n",
       "        0.72936938, 0.72936938, 0.72936938, 0.72936938, 0.72936938,\n",
       "        0.72936938, 0.72936938, 0.72936938, 0.72936938, 0.72936938,\n",
       "        0.72936938, 0.72936938, 0.72936938, 0.72936938, 0.72936938,\n",
       "        0.72936938, 0.72936938, 0.72936938, 0.72936938, 0.72936938,\n",
       "        0.72936938, 0.72936938, 0.72936938, 0.72936938, 0.72936938,\n",
       "        0.72936938, 0.69610935, 0.71955307, 0.69610935, 0.71955307,\n",
       "        0.69610935, 0.72936938, 0.69610935, 0.72936938, 0.72936938,\n",
       "        0.72936938, 0.72936938, 0.72936938, 0.72936938, 0.72936938,\n",
       "        0.72936938, 0.72936938, 0.72936938, 0.72936938, 0.72936938,\n",
       "        0.72936938, 0.72936938, 0.72936938, 0.72936938, 0.72936938,\n",
       "        0.72936938, 0.72936938, 0.72936938, 0.72936938, 0.72936938,\n",
       "        0.72936938, 0.72936938, 0.72936938, 0.72936938, 0.72936938,\n",
       "        0.72936938, 0.72936938, 0.72936938, 0.72936938, 0.72936938,\n",
       "        0.72936938, 0.72936938, 0.72936938, 0.72936938, 0.72936938,\n",
       "        0.72936938, 0.72936938, 0.72936938, 0.72936938, 0.72936938,\n",
       "        0.72936938, 0.72936938, 0.72936938, 0.69610935, 0.71955307,\n",
       "        0.69610935, 0.71955307, 0.69610935, 0.72936938, 0.69610935,\n",
       "        0.72936938, 0.72936938, 0.72936938, 0.72936938, 0.72936938,\n",
       "        0.72936938, 0.72936938, 0.72936938, 0.72936938, 0.72936938,\n",
       "        0.72936938, 0.72936938, 0.72936938, 0.72936938, 0.72936938,\n",
       "        0.72936938, 0.72936938, 0.72936938, 0.72936938, 0.72936938,\n",
       "        0.72936938, 0.72936938, 0.72936938, 0.72936938, 0.72936938,\n",
       "        0.72936938, 0.72936938, 0.72936938, 0.72936938, 0.72936938,\n",
       "        0.72936938, 0.72936938, 0.72936938, 0.72936938, 0.72936938,\n",
       "        0.72936938, 0.72936938, 0.72936938, 0.72936938, 0.72936938,\n",
       "        0.72936938, 0.72936938, 0.72936938, 0.72936938, 0.72936938,\n",
       "        0.69610935, 0.71955307, 0.69610935, 0.71955307, 0.69610935,\n",
       "        0.72936938, 0.69610935, 0.72936938, 0.72936938, 0.72936938,\n",
       "        0.72936938, 0.72936938, 0.72936938, 0.72936938, 0.72936938,\n",
       "        0.72936938, 0.72936938, 0.72936938, 0.72936938, 0.72936938,\n",
       "        0.72936938, 0.72936938, 0.72936938, 0.72936938, 0.72936938,\n",
       "        0.72936938, 0.72936938, 0.72936938, 0.72936938, 0.72936938,\n",
       "        0.72936938, 0.72936938, 0.72936938, 0.72936938, 0.72936938,\n",
       "        0.72936938, 0.72936938, 0.72936938, 0.72936938, 0.72936938,\n",
       "        0.72936938, 0.72936938, 0.72936938, 0.72936938, 0.72936938,\n",
       "        0.72936938, 0.72936938, 0.72936938, 0.72936938, 0.72936938,\n",
       "        0.72936938, 0.72936938, 0.69610935, 0.71955307, 0.69610935,\n",
       "        0.71955307, 0.69610935, 0.72936938, 0.69610935, 0.72936938,\n",
       "        0.72936938, 0.72936938, 0.72936938, 0.72936938, 0.72936938,\n",
       "        0.72936938, 0.72936938, 0.72936938, 0.72936938, 0.72936938,\n",
       "        0.72936938, 0.72936938, 0.72936938, 0.72936938, 0.72936938,\n",
       "        0.72936938, 0.72936938, 0.72936938, 0.72936938, 0.72936938,\n",
       "        0.72936938, 0.72936938, 0.72936938, 0.72936938, 0.72936938,\n",
       "        0.72936938, 0.72936938, 0.72936938, 0.72936938, 0.72936938,\n",
       "        0.72936938, 0.72936938, 0.72936938, 0.72936938, 0.72936938,\n",
       "        0.72936938, 0.72936938, 0.72936938, 0.72936938, 0.72936938,\n",
       "        0.72936938, 0.72936938, 0.72936938, 0.72936938, 0.69610935,\n",
       "        0.71955307, 0.69610935, 0.71955307, 0.69610935, 0.72936938,\n",
       "        0.69610935, 0.72936938, 0.72936938, 0.72936938, 0.72936938,\n",
       "        0.72936938, 0.72936938, 0.72936938, 0.72936938, 0.72936938,\n",
       "        0.72936938, 0.72936938, 0.72936938, 0.72936938, 0.72936938,\n",
       "        0.72936938, 0.72936938, 0.72936938, 0.72936938, 0.72936938,\n",
       "        0.72936938, 0.72936938, 0.72936938, 0.72936938, 0.72936938,\n",
       "        0.72936938, 0.72936938, 0.72936938, 0.72936938, 0.72936938,\n",
       "        0.72936938, 0.72936938, 0.72936938, 0.72936938, 0.72936938,\n",
       "        0.72936938, 0.72936938, 0.72936938, 0.72936938, 0.72936938,\n",
       "        0.72936938, 0.72936938, 0.72936938, 0.72936938, 0.72936938,\n",
       "        0.72936938, 0.69610935, 0.71955307, 0.69610935, 0.71955307,\n",
       "        0.69610935, 0.72936938, 0.69610935, 0.72936938, 0.72936938,\n",
       "        0.72936938, 0.72936938, 0.72936938, 0.72936938, 0.72936938,\n",
       "        0.72936938, 0.72936938, 0.72936938, 0.72936938, 0.72936938,\n",
       "        0.72936938, 0.72936938, 0.72936938, 0.72936938, 0.72936938,\n",
       "        0.72936938, 0.72936938, 0.72936938, 0.72936938, 0.72936938,\n",
       "        0.72936938, 0.72936938, 0.72936938, 0.72936938, 0.72936938,\n",
       "        0.72936938, 0.72936938, 0.72936938, 0.72936938, 0.72936938,\n",
       "        0.72936938, 0.72936938, 0.72936938, 0.72936938, 0.72936938,\n",
       "        0.72936938, 0.72936938, 0.72936938, 0.72936938, 0.72936938,\n",
       "        0.72936938, 0.72936938, 0.72936938, 0.69610935, 0.71955307,\n",
       "        0.69610935, 0.71955307, 0.69610935, 0.72936938, 0.69610935,\n",
       "        0.72936938, 0.72936938, 0.72936938, 0.72936938, 0.72936938,\n",
       "        0.72936938, 0.72936938, 0.72936938, 0.72936938, 0.72936938,\n",
       "        0.72936938, 0.72936938, 0.72936938, 0.72936938, 0.72936938,\n",
       "        0.72936938, 0.72936938, 0.72936938, 0.72936938, 0.72936938,\n",
       "        0.72936938, 0.72936938, 0.72936938, 0.72936938, 0.72936938,\n",
       "        0.72936938, 0.72936938, 0.72936938, 0.72936938, 0.72936938,\n",
       "        0.72936938, 0.72936938, 0.72936938, 0.72936938, 0.72936938,\n",
       "        0.72936938, 0.72936938, 0.72936938, 0.72936938, 0.72936938,\n",
       "        0.72936938, 0.72936938, 0.72936938, 0.72936938, 0.72936938,\n",
       "        0.69610935, 0.71955307, 0.69610935, 0.71955307, 0.69610935,\n",
       "        0.72936938, 0.69610935, 0.72936938, 0.72936938, 0.72936938,\n",
       "        0.72936938, 0.72936938, 0.72936938, 0.72936938, 0.72936938,\n",
       "        0.72936938, 0.72936938, 0.72936938, 0.72936938, 0.72936938,\n",
       "        0.72936938, 0.72936938, 0.72936938, 0.72936938, 0.72936938,\n",
       "        0.72936938, 0.72936938, 0.72936938, 0.72936938, 0.72936938,\n",
       "        0.72936938, 0.72936938])}"
      ]
     },
     "execution_count": 103,
     "metadata": {},
     "output_type": "execute_result"
    }
   ],
   "source": [
    "y_pred"
   ]
  },
  {
   "cell_type": "code",
   "execution_count": 104,
   "metadata": {
    "execution": {
     "iopub.execute_input": "2024-09-23T18:27:52.012129Z",
     "iopub.status.busy": "2024-09-23T18:27:52.012129Z",
     "iopub.status.idle": "2024-09-23T18:27:52.058975Z",
     "shell.execute_reply": "2024-09-23T18:27:52.058975Z"
    }
   },
   "outputs": [
    {
     "data": {
      "text/html": [
       "<div>\n",
       "<style scoped>\n",
       "    .dataframe tbody tr th:only-of-type {\n",
       "        vertical-align: middle;\n",
       "    }\n",
       "\n",
       "    .dataframe tbody tr th {\n",
       "        vertical-align: top;\n",
       "    }\n",
       "\n",
       "    .dataframe thead th {\n",
       "        text-align: right;\n",
       "    }\n",
       "</style>\n",
       "<table border=\"1\" class=\"dataframe\">\n",
       "  <thead>\n",
       "    <tr style=\"text-align: right;\">\n",
       "      <th></th>\n",
       "      <th></th>\n",
       "      <th>1y_yield</th>\n",
       "      <th>1y_yield_diff</th>\n",
       "      <th>CMA</th>\n",
       "      <th>HML</th>\n",
       "      <th>Mkt-RF</th>\n",
       "      <th>RMW</th>\n",
       "      <th>SMB</th>\n",
       "      <th>corp_oas</th>\n",
       "      <th>corp_oas_diff</th>\n",
       "      <th>empleo_diff</th>\n",
       "      <th>...</th>\n",
       "      <th>sentiment_diff</th>\n",
       "      <th>us_asset_balance_diff</th>\n",
       "      <th>vix</th>\n",
       "      <th>vix_diff</th>\n",
       "      <th>vixoil</th>\n",
       "      <th>vixoil_diff</th>\n",
       "      <th>weekjobclaims</th>\n",
       "      <th>weekjobclaims_diff</th>\n",
       "      <th>yield_curve</th>\n",
       "      <th>yield_curve_diff</th>\n",
       "    </tr>\n",
       "    <tr>\n",
       "      <th>ticker</th>\n",
       "      <th>date</th>\n",
       "      <th></th>\n",
       "      <th></th>\n",
       "      <th></th>\n",
       "      <th></th>\n",
       "      <th></th>\n",
       "      <th></th>\n",
       "      <th></th>\n",
       "      <th></th>\n",
       "      <th></th>\n",
       "      <th></th>\n",
       "      <th></th>\n",
       "      <th></th>\n",
       "      <th></th>\n",
       "      <th></th>\n",
       "      <th></th>\n",
       "      <th></th>\n",
       "      <th></th>\n",
       "      <th></th>\n",
       "      <th></th>\n",
       "      <th></th>\n",
       "      <th></th>\n",
       "    </tr>\n",
       "  </thead>\n",
       "  <tbody>\n",
       "    <tr>\n",
       "      <th rowspan=\"5\" valign=\"top\">IYR</th>\n",
       "      <th>2018-11-18 00:00:00+00:00</th>\n",
       "      <td>2.68</td>\n",
       "      <td>-0.05</td>\n",
       "      <td>0.333117</td>\n",
       "      <td>-0.280897</td>\n",
       "      <td>0.285518</td>\n",
       "      <td>-0.095918</td>\n",
       "      <td>0.155624</td>\n",
       "      <td>1.34</td>\n",
       "      <td>0.11</td>\n",
       "      <td>0.0</td>\n",
       "      <td>...</td>\n",
       "      <td>0.0</td>\n",
       "      <td>-16.0</td>\n",
       "      <td>18.14</td>\n",
       "      <td>0.78</td>\n",
       "      <td>40.56</td>\n",
       "      <td>5.46</td>\n",
       "      <td>225000.0</td>\n",
       "      <td>4000.0</td>\n",
       "      <td>0.72</td>\n",
       "      <td>-0.11</td>\n",
       "    </tr>\n",
       "    <tr>\n",
       "      <th>2018-11-25 00:00:00+00:00</th>\n",
       "      <td>2.67</td>\n",
       "      <td>-0.01</td>\n",
       "      <td>0.333117</td>\n",
       "      <td>-0.280897</td>\n",
       "      <td>0.285518</td>\n",
       "      <td>-0.095918</td>\n",
       "      <td>0.155624</td>\n",
       "      <td>1.38</td>\n",
       "      <td>0.04</td>\n",
       "      <td>0.0</td>\n",
       "      <td>...</td>\n",
       "      <td>0.0</td>\n",
       "      <td>-17335.0</td>\n",
       "      <td>21.52</td>\n",
       "      <td>3.38</td>\n",
       "      <td>65.17</td>\n",
       "      <td>24.61</td>\n",
       "      <td>237000.0</td>\n",
       "      <td>12000.0</td>\n",
       "      <td>0.64</td>\n",
       "      <td>-0.08</td>\n",
       "    </tr>\n",
       "    <tr>\n",
       "      <th>2018-12-02 00:00:00+00:00</th>\n",
       "      <td>2.70</td>\n",
       "      <td>0.03</td>\n",
       "      <td>0.333117</td>\n",
       "      <td>-0.280897</td>\n",
       "      <td>0.285518</td>\n",
       "      <td>-0.095918</td>\n",
       "      <td>0.155624</td>\n",
       "      <td>1.45</td>\n",
       "      <td>0.07</td>\n",
       "      <td>0.1</td>\n",
       "      <td>...</td>\n",
       "      <td>0.8</td>\n",
       "      <td>32.0</td>\n",
       "      <td>18.07</td>\n",
       "      <td>-3.45</td>\n",
       "      <td>56.04</td>\n",
       "      <td>-9.13</td>\n",
       "      <td>232000.0</td>\n",
       "      <td>-5000.0</td>\n",
       "      <td>0.64</td>\n",
       "      <td>0.00</td>\n",
       "    </tr>\n",
       "    <tr>\n",
       "      <th>2018-12-09 00:00:00+00:00</th>\n",
       "      <td>2.68</td>\n",
       "      <td>-0.02</td>\n",
       "      <td>0.323931</td>\n",
       "      <td>-0.421548</td>\n",
       "      <td>0.068155</td>\n",
       "      <td>-0.232999</td>\n",
       "      <td>0.088956</td>\n",
       "      <td>1.51</td>\n",
       "      <td>0.06</td>\n",
       "      <td>0.0</td>\n",
       "      <td>...</td>\n",
       "      <td>0.0</td>\n",
       "      <td>-12566.0</td>\n",
       "      <td>23.23</td>\n",
       "      <td>5.16</td>\n",
       "      <td>41.83</td>\n",
       "      <td>-14.21</td>\n",
       "      <td>208000.0</td>\n",
       "      <td>-24000.0</td>\n",
       "      <td>0.45</td>\n",
       "      <td>-0.19</td>\n",
       "    </tr>\n",
       "    <tr>\n",
       "      <th>2018-12-16 00:00:00+00:00</th>\n",
       "      <td>2.68</td>\n",
       "      <td>0.00</td>\n",
       "      <td>0.323931</td>\n",
       "      <td>-0.421548</td>\n",
       "      <td>0.068155</td>\n",
       "      <td>-0.232999</td>\n",
       "      <td>0.088956</td>\n",
       "      <td>1.48</td>\n",
       "      <td>-0.03</td>\n",
       "      <td>0.0</td>\n",
       "      <td>...</td>\n",
       "      <td>0.0</td>\n",
       "      <td>55.0</td>\n",
       "      <td>21.63</td>\n",
       "      <td>-1.60</td>\n",
       "      <td>42.38</td>\n",
       "      <td>0.55</td>\n",
       "      <td>217000.0</td>\n",
       "      <td>9000.0</td>\n",
       "      <td>0.47</td>\n",
       "      <td>0.02</td>\n",
       "    </tr>\n",
       "    <tr>\n",
       "      <th>...</th>\n",
       "      <th>...</th>\n",
       "      <td>...</td>\n",
       "      <td>...</td>\n",
       "      <td>...</td>\n",
       "      <td>...</td>\n",
       "      <td>...</td>\n",
       "      <td>...</td>\n",
       "      <td>...</td>\n",
       "      <td>...</td>\n",
       "      <td>...</td>\n",
       "      <td>...</td>\n",
       "      <td>...</td>\n",
       "      <td>...</td>\n",
       "      <td>...</td>\n",
       "      <td>...</td>\n",
       "      <td>...</td>\n",
       "      <td>...</td>\n",
       "      <td>...</td>\n",
       "      <td>...</td>\n",
       "      <td>...</td>\n",
       "      <td>...</td>\n",
       "      <td>...</td>\n",
       "    </tr>\n",
       "    <tr>\n",
       "      <th rowspan=\"5\" valign=\"top\">XLY</th>\n",
       "      <th>2019-10-13 00:00:00+00:00</th>\n",
       "      <td>1.67</td>\n",
       "      <td>0.09</td>\n",
       "      <td>-0.256360</td>\n",
       "      <td>0.404226</td>\n",
       "      <td>0.150814</td>\n",
       "      <td>-0.897205</td>\n",
       "      <td>-0.353315</td>\n",
       "      <td>1.22</td>\n",
       "      <td>-0.04</td>\n",
       "      <td>0.0</td>\n",
       "      <td>...</td>\n",
       "      <td>0.0</td>\n",
       "      <td>4355.0</td>\n",
       "      <td>15.58</td>\n",
       "      <td>-1.46</td>\n",
       "      <td>39.65</td>\n",
       "      <td>0.34</td>\n",
       "      <td>215000.0</td>\n",
       "      <td>6000.0</td>\n",
       "      <td>0.08</td>\n",
       "      <td>0.27</td>\n",
       "    </tr>\n",
       "    <tr>\n",
       "      <th>2019-10-20 00:00:00+00:00</th>\n",
       "      <td>1.58</td>\n",
       "      <td>-0.09</td>\n",
       "      <td>-0.256360</td>\n",
       "      <td>0.404226</td>\n",
       "      <td>0.150814</td>\n",
       "      <td>-0.897205</td>\n",
       "      <td>-0.353315</td>\n",
       "      <td>1.18</td>\n",
       "      <td>-0.04</td>\n",
       "      <td>0.0</td>\n",
       "      <td>...</td>\n",
       "      <td>0.0</td>\n",
       "      <td>1600.0</td>\n",
       "      <td>14.25</td>\n",
       "      <td>-1.33</td>\n",
       "      <td>36.43</td>\n",
       "      <td>-3.22</td>\n",
       "      <td>210000.0</td>\n",
       "      <td>-5000.0</td>\n",
       "      <td>0.10</td>\n",
       "      <td>0.02</td>\n",
       "    </tr>\n",
       "    <tr>\n",
       "      <th>2019-10-27 00:00:00+00:00</th>\n",
       "      <td>1.60</td>\n",
       "      <td>0.02</td>\n",
       "      <td>-0.256360</td>\n",
       "      <td>0.404226</td>\n",
       "      <td>0.150814</td>\n",
       "      <td>-0.897205</td>\n",
       "      <td>-0.353315</td>\n",
       "      <td>1.14</td>\n",
       "      <td>-0.04</td>\n",
       "      <td>0.0</td>\n",
       "      <td>...</td>\n",
       "      <td>0.0</td>\n",
       "      <td>26103.0</td>\n",
       "      <td>12.65</td>\n",
       "      <td>-1.60</td>\n",
       "      <td>34.64</td>\n",
       "      <td>-1.79</td>\n",
       "      <td>215000.0</td>\n",
       "      <td>5000.0</td>\n",
       "      <td>0.14</td>\n",
       "      <td>0.04</td>\n",
       "    </tr>\n",
       "    <tr>\n",
       "      <th>2019-11-03 00:00:00+00:00</th>\n",
       "      <td>1.53</td>\n",
       "      <td>-0.07</td>\n",
       "      <td>-0.256360</td>\n",
       "      <td>0.404226</td>\n",
       "      <td>0.150814</td>\n",
       "      <td>-0.897205</td>\n",
       "      <td>-0.353315</td>\n",
       "      <td>1.16</td>\n",
       "      <td>0.02</td>\n",
       "      <td>0.0</td>\n",
       "      <td>...</td>\n",
       "      <td>1.3</td>\n",
       "      <td>26303.0</td>\n",
       "      <td>12.30</td>\n",
       "      <td>-0.35</td>\n",
       "      <td>34.37</td>\n",
       "      <td>-0.27</td>\n",
       "      <td>214000.0</td>\n",
       "      <td>-1000.0</td>\n",
       "      <td>0.21</td>\n",
       "      <td>0.07</td>\n",
       "    </tr>\n",
       "    <tr>\n",
       "      <th>2019-11-10 00:00:00+00:00</th>\n",
       "      <td>1.58</td>\n",
       "      <td>0.05</td>\n",
       "      <td>-0.250860</td>\n",
       "      <td>0.410352</td>\n",
       "      <td>0.136189</td>\n",
       "      <td>-0.904165</td>\n",
       "      <td>-0.354377</td>\n",
       "      <td>1.11</td>\n",
       "      <td>-0.05</td>\n",
       "      <td>0.0</td>\n",
       "      <td>...</td>\n",
       "      <td>0.0</td>\n",
       "      <td>18827.0</td>\n",
       "      <td>12.07</td>\n",
       "      <td>-0.23</td>\n",
       "      <td>31.45</td>\n",
       "      <td>-2.92</td>\n",
       "      <td>227000.0</td>\n",
       "      <td>13000.0</td>\n",
       "      <td>0.39</td>\n",
       "      <td>0.18</td>\n",
       "    </tr>\n",
       "  </tbody>\n",
       "</table>\n",
       "<p>572 rows × 59 columns</p>\n",
       "</div>"
      ],
      "text/plain": [
       "                                  1y_yield  1y_yield_diff       CMA       HML  \\\n",
       "ticker date                                                                     \n",
       "IYR    2018-11-18 00:00:00+00:00      2.68          -0.05  0.333117 -0.280897   \n",
       "       2018-11-25 00:00:00+00:00      2.67          -0.01  0.333117 -0.280897   \n",
       "       2018-12-02 00:00:00+00:00      2.70           0.03  0.333117 -0.280897   \n",
       "       2018-12-09 00:00:00+00:00      2.68          -0.02  0.323931 -0.421548   \n",
       "       2018-12-16 00:00:00+00:00      2.68           0.00  0.323931 -0.421548   \n",
       "...                                    ...            ...       ...       ...   \n",
       "XLY    2019-10-13 00:00:00+00:00      1.67           0.09 -0.256360  0.404226   \n",
       "       2019-10-20 00:00:00+00:00      1.58          -0.09 -0.256360  0.404226   \n",
       "       2019-10-27 00:00:00+00:00      1.60           0.02 -0.256360  0.404226   \n",
       "       2019-11-03 00:00:00+00:00      1.53          -0.07 -0.256360  0.404226   \n",
       "       2019-11-10 00:00:00+00:00      1.58           0.05 -0.250860  0.410352   \n",
       "\n",
       "                                    Mkt-RF       RMW       SMB  corp_oas  \\\n",
       "ticker date                                                                \n",
       "IYR    2018-11-18 00:00:00+00:00  0.285518 -0.095918  0.155624      1.34   \n",
       "       2018-11-25 00:00:00+00:00  0.285518 -0.095918  0.155624      1.38   \n",
       "       2018-12-02 00:00:00+00:00  0.285518 -0.095918  0.155624      1.45   \n",
       "       2018-12-09 00:00:00+00:00  0.068155 -0.232999  0.088956      1.51   \n",
       "       2018-12-16 00:00:00+00:00  0.068155 -0.232999  0.088956      1.48   \n",
       "...                                    ...       ...       ...       ...   \n",
       "XLY    2019-10-13 00:00:00+00:00  0.150814 -0.897205 -0.353315      1.22   \n",
       "       2019-10-20 00:00:00+00:00  0.150814 -0.897205 -0.353315      1.18   \n",
       "       2019-10-27 00:00:00+00:00  0.150814 -0.897205 -0.353315      1.14   \n",
       "       2019-11-03 00:00:00+00:00  0.150814 -0.897205 -0.353315      1.16   \n",
       "       2019-11-10 00:00:00+00:00  0.136189 -0.904165 -0.354377      1.11   \n",
       "\n",
       "                                  corp_oas_diff  empleo_diff  ...  \\\n",
       "ticker date                                                   ...   \n",
       "IYR    2018-11-18 00:00:00+00:00           0.11          0.0  ...   \n",
       "       2018-11-25 00:00:00+00:00           0.04          0.0  ...   \n",
       "       2018-12-02 00:00:00+00:00           0.07          0.1  ...   \n",
       "       2018-12-09 00:00:00+00:00           0.06          0.0  ...   \n",
       "       2018-12-16 00:00:00+00:00          -0.03          0.0  ...   \n",
       "...                                         ...          ...  ...   \n",
       "XLY    2019-10-13 00:00:00+00:00          -0.04          0.0  ...   \n",
       "       2019-10-20 00:00:00+00:00          -0.04          0.0  ...   \n",
       "       2019-10-27 00:00:00+00:00          -0.04          0.0  ...   \n",
       "       2019-11-03 00:00:00+00:00           0.02          0.0  ...   \n",
       "       2019-11-10 00:00:00+00:00          -0.05          0.0  ...   \n",
       "\n",
       "                                  sentiment_diff  us_asset_balance_diff  \\\n",
       "ticker date                                                               \n",
       "IYR    2018-11-18 00:00:00+00:00             0.0                  -16.0   \n",
       "       2018-11-25 00:00:00+00:00             0.0               -17335.0   \n",
       "       2018-12-02 00:00:00+00:00             0.8                   32.0   \n",
       "       2018-12-09 00:00:00+00:00             0.0               -12566.0   \n",
       "       2018-12-16 00:00:00+00:00             0.0                   55.0   \n",
       "...                                          ...                    ...   \n",
       "XLY    2019-10-13 00:00:00+00:00             0.0                 4355.0   \n",
       "       2019-10-20 00:00:00+00:00             0.0                 1600.0   \n",
       "       2019-10-27 00:00:00+00:00             0.0                26103.0   \n",
       "       2019-11-03 00:00:00+00:00             1.3                26303.0   \n",
       "       2019-11-10 00:00:00+00:00             0.0                18827.0   \n",
       "\n",
       "                                    vix  vix_diff  vixoil  vixoil_diff  \\\n",
       "ticker date                                                              \n",
       "IYR    2018-11-18 00:00:00+00:00  18.14      0.78   40.56         5.46   \n",
       "       2018-11-25 00:00:00+00:00  21.52      3.38   65.17        24.61   \n",
       "       2018-12-02 00:00:00+00:00  18.07     -3.45   56.04        -9.13   \n",
       "       2018-12-09 00:00:00+00:00  23.23      5.16   41.83       -14.21   \n",
       "       2018-12-16 00:00:00+00:00  21.63     -1.60   42.38         0.55   \n",
       "...                                 ...       ...     ...          ...   \n",
       "XLY    2019-10-13 00:00:00+00:00  15.58     -1.46   39.65         0.34   \n",
       "       2019-10-20 00:00:00+00:00  14.25     -1.33   36.43        -3.22   \n",
       "       2019-10-27 00:00:00+00:00  12.65     -1.60   34.64        -1.79   \n",
       "       2019-11-03 00:00:00+00:00  12.30     -0.35   34.37        -0.27   \n",
       "       2019-11-10 00:00:00+00:00  12.07     -0.23   31.45        -2.92   \n",
       "\n",
       "                                  weekjobclaims  weekjobclaims_diff  \\\n",
       "ticker date                                                           \n",
       "IYR    2018-11-18 00:00:00+00:00       225000.0              4000.0   \n",
       "       2018-11-25 00:00:00+00:00       237000.0             12000.0   \n",
       "       2018-12-02 00:00:00+00:00       232000.0             -5000.0   \n",
       "       2018-12-09 00:00:00+00:00       208000.0            -24000.0   \n",
       "       2018-12-16 00:00:00+00:00       217000.0              9000.0   \n",
       "...                                         ...                 ...   \n",
       "XLY    2019-10-13 00:00:00+00:00       215000.0              6000.0   \n",
       "       2019-10-20 00:00:00+00:00       210000.0             -5000.0   \n",
       "       2019-10-27 00:00:00+00:00       215000.0              5000.0   \n",
       "       2019-11-03 00:00:00+00:00       214000.0             -1000.0   \n",
       "       2019-11-10 00:00:00+00:00       227000.0             13000.0   \n",
       "\n",
       "                                  yield_curve  yield_curve_diff  \n",
       "ticker date                                                      \n",
       "IYR    2018-11-18 00:00:00+00:00         0.72             -0.11  \n",
       "       2018-11-25 00:00:00+00:00         0.64             -0.08  \n",
       "       2018-12-02 00:00:00+00:00         0.64              0.00  \n",
       "       2018-12-09 00:00:00+00:00         0.45             -0.19  \n",
       "       2018-12-16 00:00:00+00:00         0.47              0.02  \n",
       "...                                       ...               ...  \n",
       "XLY    2019-10-13 00:00:00+00:00         0.08              0.27  \n",
       "       2019-10-20 00:00:00+00:00         0.10              0.02  \n",
       "       2019-10-27 00:00:00+00:00         0.14              0.04  \n",
       "       2019-11-03 00:00:00+00:00         0.21              0.07  \n",
       "       2019-11-10 00:00:00+00:00         0.39              0.18  \n",
       "\n",
       "[572 rows x 59 columns]"
      ]
     },
     "execution_count": 104,
     "metadata": {},
     "output_type": "execute_result"
    }
   ],
   "source": [
    "X_test"
   ]
  },
  {
   "cell_type": "code",
   "execution_count": 105,
   "metadata": {
    "execution": {
     "iopub.execute_input": "2024-09-23T18:27:52.058975Z",
     "iopub.status.busy": "2024-09-23T18:27:52.058975Z",
     "iopub.status.idle": "2024-09-23T18:27:52.074628Z",
     "shell.execute_reply": "2024-09-23T18:27:52.074628Z"
    }
   },
   "outputs": [
    {
     "data": {
      "text/plain": [
       "<lightgbm.basic.Dataset at 0x7f5c3c217110>"
      ]
     },
     "execution_count": 105,
     "metadata": {},
     "output_type": "execute_result"
    }
   ],
   "source": [
    "lgb_train"
   ]
  },
  {
   "cell_type": "code",
   "execution_count": 106,
   "metadata": {
    "execution": {
     "iopub.execute_input": "2024-09-23T18:27:52.074628Z",
     "iopub.status.busy": "2024-09-23T18:27:52.074628Z",
     "iopub.status.idle": "2024-09-23T18:27:52.090420Z",
     "shell.execute_reply": "2024-09-23T18:27:52.090420Z"
    }
   },
   "outputs": [
    {
     "data": {
      "text/plain": [
       "ticker  date                     \n",
       "IYR     2005-01-02 00:00:00+00:00     0\n",
       "        2005-01-09 00:00:00+00:00     0\n",
       "        2005-01-16 00:00:00+00:00     0\n",
       "        2005-01-23 00:00:00+00:00     0\n",
       "        2005-01-30 00:00:00+00:00     0\n",
       "                                     ..\n",
       "XLY     2024-10-13 00:00:00+00:00    10\n",
       "        2024-10-20 00:00:00+00:00    10\n",
       "        2024-10-27 00:00:00+00:00    10\n",
       "        2024-11-03 00:00:00+00:00    10\n",
       "        2024-11-10 00:00:00+00:00    10\n",
       "Name: sector, Length: 11368, dtype: int64"
      ]
     },
     "execution_count": 106,
     "metadata": {},
     "output_type": "execute_result"
    }
   ],
   "source": [
    "data.sector"
   ]
  },
  {
   "cell_type": "code",
   "execution_count": 107,
   "metadata": {
    "execution": {
     "iopub.execute_input": "2024-09-23T18:27:52.090420Z",
     "iopub.status.busy": "2024-09-23T18:27:52.090420Z",
     "iopub.status.idle": "2024-09-23T18:27:52.105853Z",
     "shell.execute_reply": "2024-09-23T18:27:52.105853Z"
    }
   },
   "outputs": [
    {
     "data": {
      "text/plain": [
       "ticker  date                     \n",
       "IYR     2005-01-02 00:00:00+00:00     0\n",
       "        2005-01-09 00:00:00+00:00     0\n",
       "        2005-01-16 00:00:00+00:00     0\n",
       "        2005-01-23 00:00:00+00:00     0\n",
       "        2005-01-30 00:00:00+00:00     0\n",
       "                                     ..\n",
       "XLY     2024-10-13 00:00:00+00:00     9\n",
       "        2024-10-20 00:00:00+00:00     9\n",
       "        2024-10-27 00:00:00+00:00     9\n",
       "        2024-11-03 00:00:00+00:00    10\n",
       "        2024-11-10 00:00:00+00:00    10\n",
       "Name: month, Length: 11368, dtype: int64"
      ]
     },
     "execution_count": 107,
     "metadata": {},
     "output_type": "execute_result"
    }
   ],
   "source": [
    "data.month"
   ]
  },
  {
   "cell_type": "code",
   "execution_count": null,
   "metadata": {},
   "outputs": [],
   "source": []
  },
  {
   "cell_type": "code",
   "execution_count": null,
   "metadata": {},
   "outputs": [],
   "source": []
  }
 ],
 "metadata": {
  "kernelspec": {
   "display_name": "Python 3 (ipykernel)",
   "language": "python",
   "name": "python3"
  },
  "language_info": {
   "codemirror_mode": {
    "name": "ipython",
    "version": 3
   },
   "file_extension": ".py",
   "mimetype": "text/x-python",
   "name": "python",
   "nbconvert_exporter": "python",
   "pygments_lexer": "ipython3",
   "version": "3.11.0"
  },
  "toc": {
   "base_numbering": 1,
   "nav_menu": {},
   "number_sections": true,
   "sideBar": true,
   "skip_h1_title": true,
   "title_cell": "Table of Contents",
   "title_sidebar": "Contents",
   "toc_cell": false,
   "toc_position": {
    "height": "calc(100% - 180px)",
    "left": "10px",
    "top": "150px",
    "width": "374.162px"
   },
   "toc_section_display": true,
   "toc_window_display": true
  }
 },
 "nbformat": 4,
 "nbformat_minor": 4
}
